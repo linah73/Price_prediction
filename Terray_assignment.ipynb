{
  "cells": [
    {
      "cell_type": "markdown",
      "metadata": {
        "id": "view-in-github",
        "colab_type": "text"
      },
      "source": [
        "<a href=\"https://colab.research.google.com/github/linah73/Price_prediction/blob/main/Terray_assignment.ipynb\" target=\"_parent\"><img src=\"https://colab.research.google.com/assets/colab-badge.svg\" alt=\"Open In Colab\"/></a>"
      ]
    },
    {
      "cell_type": "code",
      "execution_count": 13,
      "metadata": {
        "id": "kBN6c2Nn6R1_"
      },
      "outputs": [],
      "source": [
        "import numpy as np\n",
        "import pandas as pd\n",
        "import matplotlib.pyplot as plt\n",
        "import seaborn as sns\n",
        "from itertools import chain\n",
        "%matplotlib inline"
      ]
    },
    {
      "cell_type": "code",
      "execution_count": 14,
      "metadata": {
        "id": "6iuK67ZX6R2D"
      },
      "outputs": [],
      "source": [
        "#load data\n",
        "df = pd.read_csv('/content/data_exercise.csv')"
      ]
    },
    {
      "cell_type": "markdown",
      "metadata": {
        "id": "Y7u-7llj6R2E"
      },
      "source": [
        "## Data exploration"
      ]
    },
    {
      "cell_type": "code",
      "execution_count": null,
      "metadata": {
        "id": "35NErnKo6R2F",
        "outputId": "550d3b4f-682f-4468-84c2-98d929d440f0",
        "colab": {
          "base_uri": "https://localhost:8080/"
        }
      },
      "outputs": [
        {
          "output_type": "execute_result",
          "data": {
            "text/plain": [
              "(4569313, 7)"
            ]
          },
          "metadata": {},
          "execution_count": 3
        }
      ],
      "source": [
        "#check the shape of the data \n",
        "df.shape"
      ]
    },
    {
      "cell_type": "code",
      "execution_count": null,
      "metadata": {
        "scrolled": true,
        "id": "LqI3SPAQ6R2G",
        "outputId": "ed3fc2da-dadf-452c-cc29-59d093162627",
        "colab": {
          "base_uri": "https://localhost:8080/"
        }
      },
      "outputs": [
        {
          "output_type": "stream",
          "name": "stdout",
          "text": [
            "<class 'pandas.core.frame.DataFrame'>\n",
            "RangeIndex: 4569313 entries, 0 to 4569312\n",
            "Data columns (total 7 columns):\n",
            " #   Column   Non-Null Count    Dtype  \n",
            "---  ------   --------------    -----  \n",
            " 0   FOV      4569313 non-null  int64  \n",
            " 1   Bead_ID  4569313 non-null  int64  \n",
            " 2   BB1      4569312 non-null  object \n",
            " 3   BB2      4569312 non-null  object \n",
            " 4   BB3      4569312 non-null  object \n",
            " 5   BL       4569312 non-null  float64\n",
            " 6   81nM     4569312 non-null  float64\n",
            "dtypes: float64(2), int64(2), object(3)\n",
            "memory usage: 244.0+ MB\n"
          ]
        }
      ],
      "source": [
        "#check data columns, data types and missing values\n",
        "df.info(verbose=True, show_counts=True)"
      ]
    },
    {
      "cell_type": "markdown",
      "metadata": {
        "id": "GADPrkYY6R2H"
      },
      "source": [
        "There are no missing values in any on the columns."
      ]
    },
    {
      "cell_type": "code",
      "execution_count": null,
      "metadata": {
        "id": "IKiK6qQs6R2H",
        "outputId": "181b35bf-462a-44ac-c142-652589288703",
        "colab": {
          "base_uri": "https://localhost:8080/",
          "height": 206
        }
      },
      "outputs": [
        {
          "output_type": "execute_result",
          "data": {
            "text/plain": [
              "   FOV  Bead_ID     BB1     BB2      BB3          BL        81nM\n",
              "0    1        3  CP_692  CP_742   CP_247  108.000474  114.849700\n",
              "1    1       12  CP_981  CP_482  CP_1123  112.035264  117.157116\n",
              "2    1       13  CP_781  CP_165   CP_958  110.413860  120.200005\n",
              "3    1       26  CP_266  CP_986   CP_394  111.415696  115.645036\n",
              "4    1       28  CP_173  CP_834   CP_310  112.760089  117.613977"
            ],
            "text/html": [
              "\n",
              "  <div id=\"df-1ddd8e89-bc12-410a-b932-48dc4eda7193\">\n",
              "    <div class=\"colab-df-container\">\n",
              "      <div>\n",
              "<style scoped>\n",
              "    .dataframe tbody tr th:only-of-type {\n",
              "        vertical-align: middle;\n",
              "    }\n",
              "\n",
              "    .dataframe tbody tr th {\n",
              "        vertical-align: top;\n",
              "    }\n",
              "\n",
              "    .dataframe thead th {\n",
              "        text-align: right;\n",
              "    }\n",
              "</style>\n",
              "<table border=\"1\" class=\"dataframe\">\n",
              "  <thead>\n",
              "    <tr style=\"text-align: right;\">\n",
              "      <th></th>\n",
              "      <th>FOV</th>\n",
              "      <th>Bead_ID</th>\n",
              "      <th>BB1</th>\n",
              "      <th>BB2</th>\n",
              "      <th>BB3</th>\n",
              "      <th>BL</th>\n",
              "      <th>81nM</th>\n",
              "    </tr>\n",
              "  </thead>\n",
              "  <tbody>\n",
              "    <tr>\n",
              "      <th>0</th>\n",
              "      <td>1</td>\n",
              "      <td>3</td>\n",
              "      <td>CP_692</td>\n",
              "      <td>CP_742</td>\n",
              "      <td>CP_247</td>\n",
              "      <td>108.000474</td>\n",
              "      <td>114.849700</td>\n",
              "    </tr>\n",
              "    <tr>\n",
              "      <th>1</th>\n",
              "      <td>1</td>\n",
              "      <td>12</td>\n",
              "      <td>CP_981</td>\n",
              "      <td>CP_482</td>\n",
              "      <td>CP_1123</td>\n",
              "      <td>112.035264</td>\n",
              "      <td>117.157116</td>\n",
              "    </tr>\n",
              "    <tr>\n",
              "      <th>2</th>\n",
              "      <td>1</td>\n",
              "      <td>13</td>\n",
              "      <td>CP_781</td>\n",
              "      <td>CP_165</td>\n",
              "      <td>CP_958</td>\n",
              "      <td>110.413860</td>\n",
              "      <td>120.200005</td>\n",
              "    </tr>\n",
              "    <tr>\n",
              "      <th>3</th>\n",
              "      <td>1</td>\n",
              "      <td>26</td>\n",
              "      <td>CP_266</td>\n",
              "      <td>CP_986</td>\n",
              "      <td>CP_394</td>\n",
              "      <td>111.415696</td>\n",
              "      <td>115.645036</td>\n",
              "    </tr>\n",
              "    <tr>\n",
              "      <th>4</th>\n",
              "      <td>1</td>\n",
              "      <td>28</td>\n",
              "      <td>CP_173</td>\n",
              "      <td>CP_834</td>\n",
              "      <td>CP_310</td>\n",
              "      <td>112.760089</td>\n",
              "      <td>117.613977</td>\n",
              "    </tr>\n",
              "  </tbody>\n",
              "</table>\n",
              "</div>\n",
              "      <button class=\"colab-df-convert\" onclick=\"convertToInteractive('df-1ddd8e89-bc12-410a-b932-48dc4eda7193')\"\n",
              "              title=\"Convert this dataframe to an interactive table.\"\n",
              "              style=\"display:none;\">\n",
              "        \n",
              "  <svg xmlns=\"http://www.w3.org/2000/svg\" height=\"24px\"viewBox=\"0 0 24 24\"\n",
              "       width=\"24px\">\n",
              "    <path d=\"M0 0h24v24H0V0z\" fill=\"none\"/>\n",
              "    <path d=\"M18.56 5.44l.94 2.06.94-2.06 2.06-.94-2.06-.94-.94-2.06-.94 2.06-2.06.94zm-11 1L8.5 8.5l.94-2.06 2.06-.94-2.06-.94L8.5 2.5l-.94 2.06-2.06.94zm10 10l.94 2.06.94-2.06 2.06-.94-2.06-.94-.94-2.06-.94 2.06-2.06.94z\"/><path d=\"M17.41 7.96l-1.37-1.37c-.4-.4-.92-.59-1.43-.59-.52 0-1.04.2-1.43.59L10.3 9.45l-7.72 7.72c-.78.78-.78 2.05 0 2.83L4 21.41c.39.39.9.59 1.41.59.51 0 1.02-.2 1.41-.59l7.78-7.78 2.81-2.81c.8-.78.8-2.07 0-2.86zM5.41 20L4 18.59l7.72-7.72 1.47 1.35L5.41 20z\"/>\n",
              "  </svg>\n",
              "      </button>\n",
              "      \n",
              "  <style>\n",
              "    .colab-df-container {\n",
              "      display:flex;\n",
              "      flex-wrap:wrap;\n",
              "      gap: 12px;\n",
              "    }\n",
              "\n",
              "    .colab-df-convert {\n",
              "      background-color: #E8F0FE;\n",
              "      border: none;\n",
              "      border-radius: 50%;\n",
              "      cursor: pointer;\n",
              "      display: none;\n",
              "      fill: #1967D2;\n",
              "      height: 32px;\n",
              "      padding: 0 0 0 0;\n",
              "      width: 32px;\n",
              "    }\n",
              "\n",
              "    .colab-df-convert:hover {\n",
              "      background-color: #E2EBFA;\n",
              "      box-shadow: 0px 1px 2px rgba(60, 64, 67, 0.3), 0px 1px 3px 1px rgba(60, 64, 67, 0.15);\n",
              "      fill: #174EA6;\n",
              "    }\n",
              "\n",
              "    [theme=dark] .colab-df-convert {\n",
              "      background-color: #3B4455;\n",
              "      fill: #D2E3FC;\n",
              "    }\n",
              "\n",
              "    [theme=dark] .colab-df-convert:hover {\n",
              "      background-color: #434B5C;\n",
              "      box-shadow: 0px 1px 3px 1px rgba(0, 0, 0, 0.15);\n",
              "      filter: drop-shadow(0px 1px 2px rgba(0, 0, 0, 0.3));\n",
              "      fill: #FFFFFF;\n",
              "    }\n",
              "  </style>\n",
              "\n",
              "      <script>\n",
              "        const buttonEl =\n",
              "          document.querySelector('#df-1ddd8e89-bc12-410a-b932-48dc4eda7193 button.colab-df-convert');\n",
              "        buttonEl.style.display =\n",
              "          google.colab.kernel.accessAllowed ? 'block' : 'none';\n",
              "\n",
              "        async function convertToInteractive(key) {\n",
              "          const element = document.querySelector('#df-1ddd8e89-bc12-410a-b932-48dc4eda7193');\n",
              "          const dataTable =\n",
              "            await google.colab.kernel.invokeFunction('convertToInteractive',\n",
              "                                                     [key], {});\n",
              "          if (!dataTable) return;\n",
              "\n",
              "          const docLinkHtml = 'Like what you see? Visit the ' +\n",
              "            '<a target=\"_blank\" href=https://colab.research.google.com/notebooks/data_table.ipynb>data table notebook</a>'\n",
              "            + ' to learn more about interactive tables.';\n",
              "          element.innerHTML = '';\n",
              "          dataTable['output_type'] = 'display_data';\n",
              "          await google.colab.output.renderOutput(dataTable, element);\n",
              "          const docLink = document.createElement('div');\n",
              "          docLink.innerHTML = docLinkHtml;\n",
              "          element.appendChild(docLink);\n",
              "        }\n",
              "      </script>\n",
              "    </div>\n",
              "  </div>\n",
              "  "
            ]
          },
          "metadata": {},
          "execution_count": 5
        }
      ],
      "source": [
        "#Check data frame\n",
        "df.head()"
      ]
    },
    {
      "cell_type": "code",
      "execution_count": null,
      "metadata": {
        "id": "zQxzIQue6R2I",
        "outputId": "92132e60-f330-40a0-f3bc-89b87cc5a53a",
        "colab": {
          "base_uri": "https://localhost:8080/",
          "height": 206
        }
      },
      "outputs": [
        {
          "output_type": "execute_result",
          "data": {
            "text/plain": [
              "         FOV  Bead_ID     BB1     BB2      BB3          BL        81nM\n",
              "4569308  188    18246  CP_119  CP_812    CP_74  115.443242  145.613177\n",
              "4569309  188    18247  CP_763  CP_905   CP_509  115.706068  143.098141\n",
              "4569310  188    18250  CP_266  CP_444    CP_54  117.468244  146.319109\n",
              "4569311  188    18251  CP_876  CP_841  CP_1036  114.667637  143.043256\n",
              "4569312  188        1     NaN     NaN      NaN         NaN         NaN"
            ],
            "text/html": [
              "\n",
              "  <div id=\"df-b0e8a0b2-ead3-4022-8e8b-af4807f9f7c5\">\n",
              "    <div class=\"colab-df-container\">\n",
              "      <div>\n",
              "<style scoped>\n",
              "    .dataframe tbody tr th:only-of-type {\n",
              "        vertical-align: middle;\n",
              "    }\n",
              "\n",
              "    .dataframe tbody tr th {\n",
              "        vertical-align: top;\n",
              "    }\n",
              "\n",
              "    .dataframe thead th {\n",
              "        text-align: right;\n",
              "    }\n",
              "</style>\n",
              "<table border=\"1\" class=\"dataframe\">\n",
              "  <thead>\n",
              "    <tr style=\"text-align: right;\">\n",
              "      <th></th>\n",
              "      <th>FOV</th>\n",
              "      <th>Bead_ID</th>\n",
              "      <th>BB1</th>\n",
              "      <th>BB2</th>\n",
              "      <th>BB3</th>\n",
              "      <th>BL</th>\n",
              "      <th>81nM</th>\n",
              "    </tr>\n",
              "  </thead>\n",
              "  <tbody>\n",
              "    <tr>\n",
              "      <th>4569308</th>\n",
              "      <td>188</td>\n",
              "      <td>18246</td>\n",
              "      <td>CP_119</td>\n",
              "      <td>CP_812</td>\n",
              "      <td>CP_74</td>\n",
              "      <td>115.443242</td>\n",
              "      <td>145.613177</td>\n",
              "    </tr>\n",
              "    <tr>\n",
              "      <th>4569309</th>\n",
              "      <td>188</td>\n",
              "      <td>18247</td>\n",
              "      <td>CP_763</td>\n",
              "      <td>CP_905</td>\n",
              "      <td>CP_509</td>\n",
              "      <td>115.706068</td>\n",
              "      <td>143.098141</td>\n",
              "    </tr>\n",
              "    <tr>\n",
              "      <th>4569310</th>\n",
              "      <td>188</td>\n",
              "      <td>18250</td>\n",
              "      <td>CP_266</td>\n",
              "      <td>CP_444</td>\n",
              "      <td>CP_54</td>\n",
              "      <td>117.468244</td>\n",
              "      <td>146.319109</td>\n",
              "    </tr>\n",
              "    <tr>\n",
              "      <th>4569311</th>\n",
              "      <td>188</td>\n",
              "      <td>18251</td>\n",
              "      <td>CP_876</td>\n",
              "      <td>CP_841</td>\n",
              "      <td>CP_1036</td>\n",
              "      <td>114.667637</td>\n",
              "      <td>143.043256</td>\n",
              "    </tr>\n",
              "    <tr>\n",
              "      <th>4569312</th>\n",
              "      <td>188</td>\n",
              "      <td>1</td>\n",
              "      <td>NaN</td>\n",
              "      <td>NaN</td>\n",
              "      <td>NaN</td>\n",
              "      <td>NaN</td>\n",
              "      <td>NaN</td>\n",
              "    </tr>\n",
              "  </tbody>\n",
              "</table>\n",
              "</div>\n",
              "      <button class=\"colab-df-convert\" onclick=\"convertToInteractive('df-b0e8a0b2-ead3-4022-8e8b-af4807f9f7c5')\"\n",
              "              title=\"Convert this dataframe to an interactive table.\"\n",
              "              style=\"display:none;\">\n",
              "        \n",
              "  <svg xmlns=\"http://www.w3.org/2000/svg\" height=\"24px\"viewBox=\"0 0 24 24\"\n",
              "       width=\"24px\">\n",
              "    <path d=\"M0 0h24v24H0V0z\" fill=\"none\"/>\n",
              "    <path d=\"M18.56 5.44l.94 2.06.94-2.06 2.06-.94-2.06-.94-.94-2.06-.94 2.06-2.06.94zm-11 1L8.5 8.5l.94-2.06 2.06-.94-2.06-.94L8.5 2.5l-.94 2.06-2.06.94zm10 10l.94 2.06.94-2.06 2.06-.94-2.06-.94-.94-2.06-.94 2.06-2.06.94z\"/><path d=\"M17.41 7.96l-1.37-1.37c-.4-.4-.92-.59-1.43-.59-.52 0-1.04.2-1.43.59L10.3 9.45l-7.72 7.72c-.78.78-.78 2.05 0 2.83L4 21.41c.39.39.9.59 1.41.59.51 0 1.02-.2 1.41-.59l7.78-7.78 2.81-2.81c.8-.78.8-2.07 0-2.86zM5.41 20L4 18.59l7.72-7.72 1.47 1.35L5.41 20z\"/>\n",
              "  </svg>\n",
              "      </button>\n",
              "      \n",
              "  <style>\n",
              "    .colab-df-container {\n",
              "      display:flex;\n",
              "      flex-wrap:wrap;\n",
              "      gap: 12px;\n",
              "    }\n",
              "\n",
              "    .colab-df-convert {\n",
              "      background-color: #E8F0FE;\n",
              "      border: none;\n",
              "      border-radius: 50%;\n",
              "      cursor: pointer;\n",
              "      display: none;\n",
              "      fill: #1967D2;\n",
              "      height: 32px;\n",
              "      padding: 0 0 0 0;\n",
              "      width: 32px;\n",
              "    }\n",
              "\n",
              "    .colab-df-convert:hover {\n",
              "      background-color: #E2EBFA;\n",
              "      box-shadow: 0px 1px 2px rgba(60, 64, 67, 0.3), 0px 1px 3px 1px rgba(60, 64, 67, 0.15);\n",
              "      fill: #174EA6;\n",
              "    }\n",
              "\n",
              "    [theme=dark] .colab-df-convert {\n",
              "      background-color: #3B4455;\n",
              "      fill: #D2E3FC;\n",
              "    }\n",
              "\n",
              "    [theme=dark] .colab-df-convert:hover {\n",
              "      background-color: #434B5C;\n",
              "      box-shadow: 0px 1px 3px 1px rgba(0, 0, 0, 0.15);\n",
              "      filter: drop-shadow(0px 1px 2px rgba(0, 0, 0, 0.3));\n",
              "      fill: #FFFFFF;\n",
              "    }\n",
              "  </style>\n",
              "\n",
              "      <script>\n",
              "        const buttonEl =\n",
              "          document.querySelector('#df-b0e8a0b2-ead3-4022-8e8b-af4807f9f7c5 button.colab-df-convert');\n",
              "        buttonEl.style.display =\n",
              "          google.colab.kernel.accessAllowed ? 'block' : 'none';\n",
              "\n",
              "        async function convertToInteractive(key) {\n",
              "          const element = document.querySelector('#df-b0e8a0b2-ead3-4022-8e8b-af4807f9f7c5');\n",
              "          const dataTable =\n",
              "            await google.colab.kernel.invokeFunction('convertToInteractive',\n",
              "                                                     [key], {});\n",
              "          if (!dataTable) return;\n",
              "\n",
              "          const docLinkHtml = 'Like what you see? Visit the ' +\n",
              "            '<a target=\"_blank\" href=https://colab.research.google.com/notebooks/data_table.ipynb>data table notebook</a>'\n",
              "            + ' to learn more about interactive tables.';\n",
              "          element.innerHTML = '';\n",
              "          dataTable['output_type'] = 'display_data';\n",
              "          await google.colab.output.renderOutput(dataTable, element);\n",
              "          const docLink = document.createElement('div');\n",
              "          docLink.innerHTML = docLinkHtml;\n",
              "          element.appendChild(docLink);\n",
              "        }\n",
              "      </script>\n",
              "    </div>\n",
              "  </div>\n",
              "  "
            ]
          },
          "metadata": {},
          "execution_count": 6
        }
      ],
      "source": [
        "#Check data frame\n",
        "df.tail()"
      ]
    },
    {
      "cell_type": "code",
      "execution_count": null,
      "metadata": {
        "id": "hZMyH5Qn6R2I",
        "outputId": "585d4dc5-b9f6-4033-f7be-a667d468b182",
        "colab": {
          "base_uri": "https://localhost:8080/"
        }
      },
      "outputs": [
        {
          "output_type": "execute_result",
          "data": {
            "text/plain": [
              "array([  1,   2,   3,   4,   5,   6,   7,   8,   9,  10,  11,  12,  13,\n",
              "        14,  15,  16,  17,  18,  19,  20,  21,  22,  23,  24,  25,  26,\n",
              "        27,  28,  29,  30,  31,  32,  33,  34,  35,  36,  37,  38,  39,\n",
              "        40,  41,  42,  43,  44,  45,  46,  47,  48,  49,  50,  51,  52,\n",
              "        53,  54,  55,  56,  57,  58,  59,  60,  61,  62,  63,  64,  65,\n",
              "        66,  67,  68,  69,  70,  71,  72,  73,  74,  75,  76,  77,  78,\n",
              "        79,  80,  81,  82,  83,  84,  85,  86,  87,  88,  89,  90,  91,\n",
              "        92,  93,  94,  95,  96,  97,  98,  99, 100, 101, 102, 103, 104,\n",
              "       105, 106, 107, 108, 109, 110, 111, 112, 113, 114, 115, 116, 117,\n",
              "       118, 119, 120, 121, 122, 123, 124, 125, 126, 127, 128, 129, 130,\n",
              "       131, 132, 133, 134, 135, 136, 137, 138, 139, 140, 141, 142, 143,\n",
              "       144, 145, 146, 147, 148, 149, 150, 151, 152, 153, 154, 155, 156,\n",
              "       157, 158, 159, 160, 161, 162, 163, 164, 165, 166, 167, 168, 169,\n",
              "       170, 171, 172, 173, 174, 175, 176, 177, 178, 179, 180, 181, 182,\n",
              "       183, 184, 185, 186, 187, 188])"
            ]
          },
          "metadata": {},
          "execution_count": 7
        }
      ],
      "source": [
        "\n",
        "# Check the unique values of the 'FOV' column\n",
        "df['FOV'].unique()"
      ]
    },
    {
      "cell_type": "code",
      "execution_count": null,
      "metadata": {
        "id": "Ob5K4NTK6R2J",
        "outputId": "9979200c-0b28-4486-da91-a6533cdf2882",
        "colab": {
          "base_uri": "https://localhost:8080/"
        }
      },
      "outputs": [
        {
          "output_type": "execute_result",
          "data": {
            "text/plain": [
              "34841    142\n",
              "17256    139\n",
              "22445    139\n",
              "34046    139\n",
              "39941    139\n",
              "        ... \n",
              "38195     55\n",
              "39197     54\n",
              "39799     52\n",
              "38799     50\n",
              "39399     48\n",
              "Name: Bead_ID, Length: 40000, dtype: int64"
            ]
          },
          "metadata": {},
          "execution_count": 8
        }
      ],
      "source": [
        "#If there are  792 FOV we want to check if there are 792 data points for each Bead-ID. \n",
        "#Check the number of data points per Bead-ID\n",
        "df['Bead_ID'].value_counts()"
      ]
    },
    {
      "cell_type": "markdown",
      "metadata": {
        "id": "cc_ThLnh6R2K"
      },
      "source": [
        "The number of data points are less than 792 per Bead-ID and seems to vary . \n",
        "I assume the reason why the measurement data points is less than the expected \"40,000 beads per FOV in a 200 x 200 layout\" is because the experimental yield is less than 100% and it varies."
      ]
    },
    {
      "cell_type": "code",
      "execution_count": null,
      "metadata": {
        "id": "HxNrmaxL6R2K",
        "outputId": "73fd0688-82c0-4538-fc81-b93f87f01e6e",
        "colab": {
          "base_uri": "https://localhost:8080/"
        }
      },
      "outputs": [
        {
          "output_type": "execute_result",
          "data": {
            "text/plain": [
              "186    26824\n",
              "184    26760\n",
              "185    26746\n",
              "180    26734\n",
              "112    26725\n",
              "       ...  \n",
              "58     19522\n",
              "72     19020\n",
              "2      15576\n",
              "146    15036\n",
              "188    12119\n",
              "Name: FOV, Length: 188, dtype: int64"
            ]
          },
          "metadata": {},
          "execution_count": 9
        }
      ],
      "source": [
        "df['FOV'].value_counts()"
      ]
    },
    {
      "cell_type": "code",
      "execution_count": null,
      "metadata": {
        "id": "I-3VN3D66R2L",
        "outputId": "d578c542-9751-441a-ed03-81cc3ac974c1",
        "colab": {
          "base_uri": "https://localhost:8080/"
        }
      },
      "outputs": [
        {
          "output_type": "execute_result",
          "data": {
            "text/plain": [
              "(0, 7)"
            ]
          },
          "metadata": {},
          "execution_count": 10
        }
      ],
      "source": [
        "#Check for any duplicated rows\n",
        "m = df[df.duplicated() == True]\n",
        "m.shape"
      ]
    },
    {
      "cell_type": "code",
      "execution_count": null,
      "metadata": {
        "id": "4l--SAIf6R2L",
        "outputId": "809caea9-4aa5-48f8-d231-22a3cf9e2b32",
        "colab": {
          "base_uri": "https://localhost:8080/"
        }
      },
      "outputs": [
        {
          "output_type": "execute_result",
          "data": {
            "text/plain": [
              "(0, 7)"
            ]
          },
          "metadata": {},
          "execution_count": 11
        }
      ],
      "source": [
        "m.shape"
      ]
    },
    {
      "cell_type": "markdown",
      "metadata": {
        "id": "aEQWTOZ66R2L"
      },
      "source": [
        "There are no duplicated rows."
      ]
    },
    {
      "cell_type": "markdown",
      "metadata": {
        "id": "MqhxfmYx6R2M"
      },
      "source": [
        "Check the number of unique BB per position."
      ]
    },
    {
      "cell_type": "code",
      "execution_count": null,
      "metadata": {
        "id": "qynLS32q6R2M",
        "outputId": "c9a8babc-bc3d-47e3-f196-1b9d5e747dda",
        "colab": {
          "base_uri": "https://localhost:8080/",
          "height": 175
        }
      },
      "outputs": [
        {
          "output_type": "execute_result",
          "data": {
            "text/plain": [
              "            BB1      BB2      BB3\n",
              "count   4569312  4569312  4569312\n",
              "unique        8      480      768\n",
              "top      CP_981  CP_1038   CP_821\n",
              "freq     634241    11224    10068"
            ],
            "text/html": [
              "\n",
              "  <div id=\"df-c3bccb8a-916b-493f-9313-3d9305270042\">\n",
              "    <div class=\"colab-df-container\">\n",
              "      <div>\n",
              "<style scoped>\n",
              "    .dataframe tbody tr th:only-of-type {\n",
              "        vertical-align: middle;\n",
              "    }\n",
              "\n",
              "    .dataframe tbody tr th {\n",
              "        vertical-align: top;\n",
              "    }\n",
              "\n",
              "    .dataframe thead th {\n",
              "        text-align: right;\n",
              "    }\n",
              "</style>\n",
              "<table border=\"1\" class=\"dataframe\">\n",
              "  <thead>\n",
              "    <tr style=\"text-align: right;\">\n",
              "      <th></th>\n",
              "      <th>BB1</th>\n",
              "      <th>BB2</th>\n",
              "      <th>BB3</th>\n",
              "    </tr>\n",
              "  </thead>\n",
              "  <tbody>\n",
              "    <tr>\n",
              "      <th>count</th>\n",
              "      <td>4569312</td>\n",
              "      <td>4569312</td>\n",
              "      <td>4569312</td>\n",
              "    </tr>\n",
              "    <tr>\n",
              "      <th>unique</th>\n",
              "      <td>8</td>\n",
              "      <td>480</td>\n",
              "      <td>768</td>\n",
              "    </tr>\n",
              "    <tr>\n",
              "      <th>top</th>\n",
              "      <td>CP_981</td>\n",
              "      <td>CP_1038</td>\n",
              "      <td>CP_821</td>\n",
              "    </tr>\n",
              "    <tr>\n",
              "      <th>freq</th>\n",
              "      <td>634241</td>\n",
              "      <td>11224</td>\n",
              "      <td>10068</td>\n",
              "    </tr>\n",
              "  </tbody>\n",
              "</table>\n",
              "</div>\n",
              "      <button class=\"colab-df-convert\" onclick=\"convertToInteractive('df-c3bccb8a-916b-493f-9313-3d9305270042')\"\n",
              "              title=\"Convert this dataframe to an interactive table.\"\n",
              "              style=\"display:none;\">\n",
              "        \n",
              "  <svg xmlns=\"http://www.w3.org/2000/svg\" height=\"24px\"viewBox=\"0 0 24 24\"\n",
              "       width=\"24px\">\n",
              "    <path d=\"M0 0h24v24H0V0z\" fill=\"none\"/>\n",
              "    <path d=\"M18.56 5.44l.94 2.06.94-2.06 2.06-.94-2.06-.94-.94-2.06-.94 2.06-2.06.94zm-11 1L8.5 8.5l.94-2.06 2.06-.94-2.06-.94L8.5 2.5l-.94 2.06-2.06.94zm10 10l.94 2.06.94-2.06 2.06-.94-2.06-.94-.94-2.06-.94 2.06-2.06.94z\"/><path d=\"M17.41 7.96l-1.37-1.37c-.4-.4-.92-.59-1.43-.59-.52 0-1.04.2-1.43.59L10.3 9.45l-7.72 7.72c-.78.78-.78 2.05 0 2.83L4 21.41c.39.39.9.59 1.41.59.51 0 1.02-.2 1.41-.59l7.78-7.78 2.81-2.81c.8-.78.8-2.07 0-2.86zM5.41 20L4 18.59l7.72-7.72 1.47 1.35L5.41 20z\"/>\n",
              "  </svg>\n",
              "      </button>\n",
              "      \n",
              "  <style>\n",
              "    .colab-df-container {\n",
              "      display:flex;\n",
              "      flex-wrap:wrap;\n",
              "      gap: 12px;\n",
              "    }\n",
              "\n",
              "    .colab-df-convert {\n",
              "      background-color: #E8F0FE;\n",
              "      border: none;\n",
              "      border-radius: 50%;\n",
              "      cursor: pointer;\n",
              "      display: none;\n",
              "      fill: #1967D2;\n",
              "      height: 32px;\n",
              "      padding: 0 0 0 0;\n",
              "      width: 32px;\n",
              "    }\n",
              "\n",
              "    .colab-df-convert:hover {\n",
              "      background-color: #E2EBFA;\n",
              "      box-shadow: 0px 1px 2px rgba(60, 64, 67, 0.3), 0px 1px 3px 1px rgba(60, 64, 67, 0.15);\n",
              "      fill: #174EA6;\n",
              "    }\n",
              "\n",
              "    [theme=dark] .colab-df-convert {\n",
              "      background-color: #3B4455;\n",
              "      fill: #D2E3FC;\n",
              "    }\n",
              "\n",
              "    [theme=dark] .colab-df-convert:hover {\n",
              "      background-color: #434B5C;\n",
              "      box-shadow: 0px 1px 3px 1px rgba(0, 0, 0, 0.15);\n",
              "      filter: drop-shadow(0px 1px 2px rgba(0, 0, 0, 0.3));\n",
              "      fill: #FFFFFF;\n",
              "    }\n",
              "  </style>\n",
              "\n",
              "      <script>\n",
              "        const buttonEl =\n",
              "          document.querySelector('#df-c3bccb8a-916b-493f-9313-3d9305270042 button.colab-df-convert');\n",
              "        buttonEl.style.display =\n",
              "          google.colab.kernel.accessAllowed ? 'block' : 'none';\n",
              "\n",
              "        async function convertToInteractive(key) {\n",
              "          const element = document.querySelector('#df-c3bccb8a-916b-493f-9313-3d9305270042');\n",
              "          const dataTable =\n",
              "            await google.colab.kernel.invokeFunction('convertToInteractive',\n",
              "                                                     [key], {});\n",
              "          if (!dataTable) return;\n",
              "\n",
              "          const docLinkHtml = 'Like what you see? Visit the ' +\n",
              "            '<a target=\"_blank\" href=https://colab.research.google.com/notebooks/data_table.ipynb>data table notebook</a>'\n",
              "            + ' to learn more about interactive tables.';\n",
              "          element.innerHTML = '';\n",
              "          dataTable['output_type'] = 'display_data';\n",
              "          await google.colab.output.renderOutput(dataTable, element);\n",
              "          const docLink = document.createElement('div');\n",
              "          docLink.innerHTML = docLinkHtml;\n",
              "          element.appendChild(docLink);\n",
              "        }\n",
              "      </script>\n",
              "    </div>\n",
              "  </div>\n",
              "  "
            ]
          },
          "metadata": {},
          "execution_count": 12
        }
      ],
      "source": [
        "df.describe(exclude=[np.number]) "
      ]
    },
    {
      "cell_type": "markdown",
      "metadata": {
        "id": "0N_n0PZp6R2M"
      },
      "source": [
        "Visually check if the unique values of the BBs to see if any are seemigly erroneous."
      ]
    },
    {
      "cell_type": "code",
      "execution_count": null,
      "metadata": {
        "id": "oUJxtbQa6R2M",
        "outputId": "eef46beb-db02-4a96-993c-bad01687030f",
        "colab": {
          "base_uri": "https://localhost:8080/"
        }
      },
      "outputs": [
        {
          "output_type": "execute_result",
          "data": {
            "text/plain": [
              "array(['CP_692', 'CP_981', 'CP_781', 'CP_266', 'CP_173', 'CP_119',\n",
              "       'CP_763', 'CP_876', nan], dtype=object)"
            ]
          },
          "metadata": {},
          "execution_count": 13
        }
      ],
      "source": [
        "df['BB1'].unique()"
      ]
    },
    {
      "cell_type": "code",
      "execution_count": null,
      "metadata": {
        "id": "tFzu-v6x6R2N",
        "outputId": "432b189c-31d1-43af-cccc-752f9bc557e4",
        "colab": {
          "base_uri": "https://localhost:8080/"
        }
      },
      "outputs": [
        {
          "output_type": "execute_result",
          "data": {
            "text/plain": [
              "array(['CP_742', 'CP_482', 'CP_165', 'CP_986', 'CP_834', 'CP_346',\n",
              "       'CP_328', 'CP_261', 'CP_981', 'CP_104', 'CP_1006', 'CP_694',\n",
              "       'CP_947', 'CP_1161', 'CP_418', 'CP_160', 'CP_944', 'CP_774',\n",
              "       'CP_926', 'CP_220', 'CP_1107', 'CP_170', 'CP_235', 'CP_109',\n",
              "       'CP_855', 'CP_305', 'CP_1074', 'CP_460', 'CP_872', 'CP_286',\n",
              "       'CP_875', 'CP_1014', 'CP_692', 'CP_912', 'CP_176', 'CP_129',\n",
              "       'CP_750', 'CP_55', 'CP_426', 'CP_260', 'CP_1', 'CP_196', 'CP_736',\n",
              "       'CP_427', 'CP_799', 'CP_152', 'CP_202', 'CP_498', 'CP_1125',\n",
              "       'CP_23', 'CP_171', 'CP_753', 'CP_537', 'CP_359', 'CP_1159',\n",
              "       'CP_90', 'CP_262', 'CP_85', 'CP_491', 'CP_192', 'CP_789', 'CP_0',\n",
              "       'CP_714', 'CP_982', 'CP_122', 'CP_229', 'CP_380', 'CP_1171',\n",
              "       'CP_341', 'CP_330', 'CP_900', 'CP_1119', 'CP_993', 'CP_63',\n",
              "       'CP_539', 'CP_937', 'CP_790', 'CP_522', 'CP_334', 'CP_675',\n",
              "       'CP_766', 'CP_404', 'CP_676', 'CP_461', 'CP_668', 'CP_573',\n",
              "       'CP_577', 'CP_1137', 'CP_1054', 'CP_472', 'CP_1136', 'CP_213',\n",
              "       'CP_351', 'CP_1141', 'CP_1139', 'CP_716', 'CP_726', 'CP_620',\n",
              "       'CP_1129', 'CP_951', 'CP_249', 'CP_256', 'CP_164', 'CP_643',\n",
              "       'CP_7', 'CP_763', 'CP_64', 'CP_782', 'CP_138', 'CP_563', 'CP_501',\n",
              "       'CP_396', 'CP_526', 'CP_140', 'CP_557', 'CP_518', 'CP_473',\n",
              "       'CP_34', 'CP_1026', 'CP_499', 'CP_636', 'CP_154', 'CP_969',\n",
              "       'CP_516', 'CP_208', 'CP_1085', 'CP_295', 'CP_858', 'CP_575',\n",
              "       'CP_1042', 'CP_533', 'CP_549', 'CP_232', 'CP_111', 'CP_923',\n",
              "       'CP_765', 'CP_168', 'CP_1055', 'CP_670', 'CP_704', 'CP_209',\n",
              "       'CP_932', 'CP_758', 'CP_994', 'CP_649', 'CP_348', 'CP_946',\n",
              "       'CP_1150', 'CP_813', 'CP_579', 'CP_1024', 'CP_927', 'CP_72',\n",
              "       'CP_485', 'CP_417', 'CP_996', 'CP_406', 'CP_836', 'CP_933',\n",
              "       'CP_929', 'CP_110', 'CP_1115', 'CP_848', 'CP_619', 'CP_106',\n",
              "       'CP_1189', 'CP_309', 'CP_1120', 'CP_159', 'CP_442', 'CP_671',\n",
              "       'CP_698', 'CP_1204', 'CP_225', 'CP_560', 'CP_75', 'CP_450',\n",
              "       'CP_241', 'CP_983', 'CP_41', 'CP_1029', 'CP_376', 'CP_242',\n",
              "       'CP_950', 'CP_441', 'CP_1098', 'CP_352', 'CP_913', 'CP_285',\n",
              "       'CP_955', 'CP_1135', 'CP_859', 'CP_283', 'CP_632', 'CP_161',\n",
              "       'CP_1073', 'CP_812', 'CP_153', 'CP_411', 'CP_487', 'CP_1174',\n",
              "       'CP_997', 'CP_661', 'CP_664', 'CP_1181', 'CP_760', 'CP_602',\n",
              "       'CP_1227', 'CP_1131', 'CP_172', 'CP_1084', 'CP_565', 'CP_369',\n",
              "       'CP_777', 'CP_49', 'CP_1108', 'CP_298', 'CP_317', 'CP_1192',\n",
              "       'CP_1053', 'CP_682', 'CP_978', 'CP_882', 'CP_1196', 'CP_251',\n",
              "       'CP_475', 'CP_215', 'CP_216', 'CP_862', 'CP_1144', 'CP_938',\n",
              "       'CP_69', 'CP_1180', 'CP_173', 'CP_827', 'CP_857', 'CP_413',\n",
              "       'CP_633', 'CP_608', 'CP_856', 'CP_1245', 'CP_29', 'CP_479',\n",
              "       'CP_635', 'CP_1030', 'CP_30', 'CP_530', 'CP_136', 'CP_1216',\n",
              "       'CP_182', 'CP_803', 'CP_497', 'CP_1194', 'CP_323', 'CP_616',\n",
              "       'CP_488', 'CP_634', 'CP_572', 'CP_1104', 'CP_240', 'CP_952',\n",
              "       'CP_967', 'CP_399', 'CP_372', 'CP_1088', 'CP_316', 'CP_970',\n",
              "       'CP_863', 'CP_231', 'CP_529', 'CP_288', 'CP_558', 'CP_1154',\n",
              "       'CP_888', 'CP_284', 'CP_1007', 'CP_36', 'CP_998', 'CP_555',\n",
              "       'CP_395', 'CP_975', 'CP_1038', 'CP_625', 'CP_841', 'CP_844',\n",
              "       'CP_1077', 'CP_1067', 'CP_15', 'CP_956', 'CP_898', 'CP_815',\n",
              "       'CP_1043', 'CP_718', 'CP_1116', 'CP_211', 'CP_370', 'CP_723',\n",
              "       'CP_436', 'CP_1235', 'CP_785', 'CP_222', 'CP_197', 'CP_382',\n",
              "       'CP_303', 'CP_1233', 'CP_640', 'CP_377', 'CP_120', 'CP_581',\n",
              "       'CP_185', 'CP_809', 'CP_158', 'CP_740', 'CP_1072', 'CP_1050',\n",
              "       'CP_265', 'CP_277', 'CP_464', 'CP_432', 'CP_234', 'CP_1103',\n",
              "       'CP_550', 'CP_910', 'CP_746', 'CP_1219', 'CP_824', 'CP_127',\n",
              "       'CP_364', 'CP_214', 'CP_327', 'CP_477', 'CP_611', 'CP_315',\n",
              "       'CP_606', 'CP_31', 'CP_548', 'CP_883', 'CP_1206', 'CP_304',\n",
              "       'CP_169', 'CP_1094', 'CP_99', 'CP_1041', 'CP_1009', 'CP_851',\n",
              "       'CP_744', 'CP_91', 'CP_70', 'CP_1143', 'CP_366', 'CP_1217',\n",
              "       'CP_496', 'CP_190', 'CP_569', 'CP_1008', 'CP_311', 'CP_796',\n",
              "       'CP_12', 'CP_903', 'CP_105', 'CP_945', 'CP_835', 'CP_878',\n",
              "       'CP_358', 'CP_954', 'CP_423', 'CP_609', 'CP_1101', 'CP_1225',\n",
              "       'CP_444', 'CP_1025', 'CP_59', 'CP_1237', 'CP_905', 'CP_468',\n",
              "       'CP_895', 'CP_928', 'CP_88', 'CP_543', 'CP_1097', 'CP_759',\n",
              "       'CP_146', 'CP_989', 'CP_1186', 'CP_610', 'CP_976', 'CP_519',\n",
              "       'CP_274', 'CP_574', 'CP_959', 'CP_662', 'CP_11', 'CP_92',\n",
              "       'CP_1165', 'CP_1114', 'CP_33', 'CP_1218', 'CP_1034', 'CP_68',\n",
              "       'CP_915', 'CP_1198', 'CP_663', 'CP_924', 'CP_630', 'CP_16',\n",
              "       'CP_795', 'CP_424', 'CP_506', 'CP_93', 'CP_163', 'CP_525',\n",
              "       'CP_128', 'CP_590', 'CP_674', 'CP_638', 'CP_187', 'CP_246',\n",
              "       'CP_1117', 'CP_53', 'CP_297', 'CP_1128', 'CP_1066', 'CP_806',\n",
              "       'CP_2', 'CP_939', 'CP_421', 'CP_873', 'CP_345', 'CP_383', 'CP_28',\n",
              "       'CP_254', 'CP_1191', 'CP_722', 'CP_1064', 'CP_184', 'CP_918',\n",
              "       'CP_38', 'CP_476', 'CP_1162', 'CP_1164', 'CP_826', 'CP_922',\n",
              "       'CP_1214', 'CP_916', 'CP_904', 'CP_876', 'CP_1221', 'CP_1035',\n",
              "       'CP_94', 'CP_886', 'CP_294', 'CP_329', 'CP_623', 'CP_219',\n",
              "       'CP_135', 'CP_296', 'CP_73', 'CP_471', 'CP_56', 'CP_580', 'CP_909',\n",
              "       'CP_116', 'CP_781', 'CP_702', 'CP_1079', 'CP_756', 'CP_339',\n",
              "       'CP_1172', 'CP_290', 'CP_622', 'CP_287', 'CP_37', 'CP_1182',\n",
              "       'CP_1081', 'CP_725', 'CP_108', 'CP_768', 'CP_820', 'CP_1092',\n",
              "       'CP_691', nan], dtype=object)"
            ]
          },
          "metadata": {},
          "execution_count": 14
        }
      ],
      "source": [
        "df['BB2'].unique()"
      ]
    },
    {
      "cell_type": "code",
      "execution_count": null,
      "metadata": {
        "scrolled": false,
        "id": "S0OAPiEk6R2N",
        "outputId": "08605187-4854-4dfe-9c63-bc77dc50f363",
        "colab": {
          "base_uri": "https://localhost:8080/"
        }
      },
      "outputs": [
        {
          "output_type": "execute_result",
          "data": {
            "text/plain": [
              "array(['CP_247', 'CP_1123', 'CP_958', 'CP_394', 'CP_310', 'CP_586',\n",
              "       'CP_601', 'CP_520', 'CP_24', 'CP_703', 'CP_155', 'CP_787', 'CP_51',\n",
              "       'CP_819', 'CP_494', 'CP_343', 'CP_291', 'CP_206', 'CP_972',\n",
              "       'CP_752', 'CP_26', 'CP_308', 'CP_1011', 'CP_1122', 'CP_659',\n",
              "       'CP_1013', 'CP_443', 'CP_730', 'CP_571', 'CP_360', 'CP_1032',\n",
              "       'CP_734', 'CP_614', 'CP_253', 'CP_1222', 'CP_1001', 'CP_492',\n",
              "       'CP_1076', 'CP_1205', 'CP_112', 'CP_534', 'CP_1234', 'CP_699',\n",
              "       'CP_20', 'CP_1231', 'CP_829', 'CP_821', 'CP_22', 'CP_80', 'CP_564',\n",
              "       'CP_300', 'CP_502', 'CP_398', 'CP_992', 'CP_1027', 'CP_515',\n",
              "       'CP_1126', 'CP_228', 'CP_400', 'CP_191', 'CP_1045', 'CP_595',\n",
              "       'CP_1232', 'CP_270', 'CP_1083', 'CP_696', 'CP_536', 'CP_612',\n",
              "       'CP_868', 'CP_4', 'CP_1018', 'CP_921', 'CP_935', 'CP_1179',\n",
              "       'CP_271', 'CP_356', 'CP_144', 'CP_416', 'CP_644', 'CP_658',\n",
              "       'CP_974', 'CP_384', 'CP_504', 'CP_454', 'CP_814', 'CP_1169',\n",
              "       'CP_500', 'CP_1049', 'CP_18', 'CP_899', 'CP_843', 'CP_183',\n",
              "       'CP_198', 'CP_437', 'CP_1082', 'CP_480', 'CP_95', 'CP_58',\n",
              "       'CP_683', 'CP_652', 'CP_1173', 'CP_709', 'CP_1071', 'CP_422',\n",
              "       'CP_776', 'CP_879', 'CP_517', 'CP_1155', 'CP_224', 'CP_71',\n",
              "       'CP_880', 'CP_646', 'CP_478', 'CP_48', 'CP_332', 'CP_604',\n",
              "       'CP_481', 'CP_1099', 'CP_1243', 'CP_137', 'CP_542', 'CP_175',\n",
              "       'CP_521', 'CP_957', 'CP_860', 'CP_445', 'CP_559', 'CP_1175',\n",
              "       'CP_965', 'CP_318', 'CP_401', 'CP_459', 'CP_712', 'CP_320',\n",
              "       'CP_822', 'CP_869', 'CP_773', 'CP_402', 'CP_408', 'CP_631',\n",
              "       'CP_613', 'CP_877', 'CP_1005', 'CP_960', 'CP_1134', 'CP_387',\n",
              "       'CP_1089', 'CP_203', 'CP_508', 'CP_486', 'CP_751', 'CP_1211',\n",
              "       'CP_839', 'CP_961', 'CP_545', 'CP_456', 'CP_669', 'CP_510',\n",
              "       'CP_901', 'CP_1224', 'CP_701', 'CP_1059', 'CP_792', 'CP_931',\n",
              "       'CP_764', 'CP_738', 'CP_825', 'CP_681', 'CP_592', 'CP_737',\n",
              "       'CP_433', 'CP_263', 'CP_425', 'CP_831', 'CP_971', 'CP_1230',\n",
              "       'CP_677', 'CP_607', 'CP_379', 'CP_1060', 'CP_512', 'CP_143',\n",
              "       'CP_850', 'CP_735', 'CP_673', 'CP_710', 'CP_177', 'CP_919',\n",
              "       'CP_397', 'CP_221', 'CP_1111', 'CP_684', 'CP_35', 'CP_588',\n",
              "       'CP_355', 'CP_134', 'CP_280', 'CP_908', 'CP_87', 'CP_50',\n",
              "       'CP_1238', 'CP_361', 'CP_867', 'CP_289', 'CP_771', 'CP_1209',\n",
              "       'CP_14', 'CP_728', 'CP_403', 'CP_582', 'CP_1249', 'CP_1220',\n",
              "       'CP_977', 'CP_42', 'CP_1100', 'CP_292', 'CP_783', 'CP_747',\n",
              "       'CP_798', 'CP_326', 'CP_507', 'CP_818', 'CP_448', 'CP_439',\n",
              "       'CP_693', 'CP_1229', 'CP_748', 'CP_10', 'CP_672', 'CP_180',\n",
              "       'CP_267', 'CP_724', 'CP_1044', 'CP_451', 'CP_193', 'CP_828',\n",
              "       'CP_1212', 'CP_852', 'CP_797', 'CP_778', 'CP_272', 'CP_357',\n",
              "       'CP_1112', 'CP_258', 'CP_570', 'CP_76', 'CP_449', 'CP_125',\n",
              "       'CP_313', 'CP_1023', 'CP_648', 'CP_720', 'CP_264', 'CP_467',\n",
              "       'CP_123', 'CP_968', 'CP_407', 'CP_988', 'CP_86', 'CP_596',\n",
              "       'CP_233', 'CP_973', 'CP_745', 'CP_808', 'CP_405', 'CP_807',\n",
              "       'CP_1149', 'CP_342', 'CP_1226', 'CP_906', 'CP_705', 'CP_547',\n",
              "       'CP_62', 'CP_553', 'CP_800', 'CP_1124', 'CP_121', 'CP_335',\n",
              "       'CP_505', 'CP_896', 'CP_103', 'CP_1109', 'CP_687', 'CP_1040',\n",
              "       'CP_1239', 'CP_489', 'CP_893', 'CP_1142', 'CP_885', 'CP_98',\n",
              "       'CP_365', 'CP_239', 'CP_321', 'CP_991', 'CP_1061', 'CP_420',\n",
              "       'CP_362', 'CP_1113', 'CP_1177', 'CP_1015', 'CP_840', 'CP_252',\n",
              "       'CP_115', 'CP_25', 'CP_1052', 'CP_147', 'CP_660', 'CP_374',\n",
              "       'CP_654', 'CP_838', 'CP_269', 'CP_637', 'CP_409', 'CP_1016',\n",
              "       'CP_9', 'CP_801', 'CP_1170', 'CP_428', 'CP_749', 'CP_1000',\n",
              "       'CP_853', 'CP_810', 'CP_465', 'CP_1039', 'CP_711', 'CP_1183',\n",
              "       'CP_1146', 'CP_1210', 'CP_349', 'CP_846', 'CP_117', 'CP_697',\n",
              "       'CP_1247', 'CP_811', 'CP_656', 'CP_1178', 'CP_474', 'CP_118',\n",
              "       'CP_65', 'CP_78', 'CP_446', 'CP_82', 'CP_322', 'CP_57', 'CP_8',\n",
              "       'CP_1246', 'CP_1078', 'CP_911', 'CP_554', 'CP_149', 'CP_431',\n",
              "       'CP_1207', 'CP_1070', 'CP_626', 'CP_1147', 'CP_685', 'CP_46',\n",
              "       'CP_762', 'CP_578', 'CP_179', 'CP_667', 'CP_1244', 'CP_599',\n",
              "       'CP_1002', 'CP_594', 'CP_568', 'CP_1127', 'CP_293', 'CP_393',\n",
              "       'CP_540', 'CP_1202', 'CP_40', 'CP_1095', 'CP_21', 'CP_700',\n",
              "       'CP_205', 'CP_686', 'CP_854', 'CP_741', 'CP_178', 'CP_615',\n",
              "       'CP_452', 'CP_689', 'CP_434', 'CP_386', 'CP_430', 'CP_995',\n",
              "       'CP_666', 'CP_385', 'CP_647', 'CP_435', 'CP_333', 'CP_331',\n",
              "       'CP_276', 'CP_639', 'CP_230', 'CP_457', 'CP_257', 'CP_236',\n",
              "       'CP_188', 'CP_273', 'CP_363', 'CP_201', 'CP_1057', 'CP_890',\n",
              "       'CP_466', 'CP_1152', 'CP_999', 'CP_1102', 'CP_907', 'CP_552',\n",
              "       'CP_74', 'CP_336', 'CP_1223', 'CP_833', 'CP_794', 'CP_1010',\n",
              "       'CP_174', 'CP_148', 'CP_410', 'CP_392', 'CP_139', 'CP_145',\n",
              "       'CP_371', 'CP_458', 'CP_218', 'CP_864', 'CP_453', 'CP_665',\n",
              "       'CP_1062', 'CP_583', 'CP_1242', 'CP_200', 'CP_866', 'CP_1121',\n",
              "       'CP_1153', 'CP_13', 'CP_531', 'CP_259', 'CP_414', 'CP_884',\n",
              "       'CP_181', 'CP_39', 'CP_469', 'CP_544', 'CP_1248', 'CP_621',\n",
              "       'CP_1168', 'CP_1166', 'CP_210', 'CP_255', 'CP_688', 'CP_1063',\n",
              "       'CP_984', 'CP_314', 'CP_381', 'CP_244', 'CP_1106', 'CP_1093',\n",
              "       'CP_1031', 'CP_891', 'CP_645', 'CP_805', 'CP_514', 'CP_567',\n",
              "       'CP_524', 'CP_920', 'CP_865', 'CP_733', 'CP_743', 'CP_132',\n",
              "       'CP_470', 'CP_1195', 'CP_133', 'CP_162', 'CP_1022', 'CP_195',\n",
              "       'CP_1086', 'CP_338', 'CP_653', 'CP_27', 'CP_650', 'CP_1193',\n",
              "       'CP_690', 'CP_54', 'CP_19', 'CP_306', 'CP_902', 'CP_43', 'CP_721',\n",
              "       'CP_124', 'CP_1021', 'CP_1068', 'CP_678', 'CP_1240', 'CP_936',\n",
              "       'CP_847', 'CP_77', 'CP_1208', 'CP_199', 'CP_1236', 'CP_892',\n",
              "       'CP_81', 'CP_953', 'CP_1185', 'CP_589', 'CP_447', 'CP_1133',\n",
              "       'CP_279', 'CP_556', 'CP_367', 'CP_157', 'CP_84', 'CP_319',\n",
              "       'CP_389', 'CP_894', 'CP_96', 'CP_987', 'CP_52', 'CP_642', 'CP_302',\n",
              "       'CP_1187', 'CP_493', 'CP_887', 'CP_368', 'CP_779', 'CP_713',\n",
              "       'CP_817', 'CP_1197', 'CP_223', 'CP_830', 'CP_1080', 'CP_1058',\n",
              "       'CP_89', 'CP_1051', 'CP_243', 'CP_823', 'CP_1241', 'CP_1148',\n",
              "       'CP_324', 'CP_985', 'CP_484', 'CP_113', 'CP_627', 'CP_934',\n",
              "       'CP_788', 'CP_551', 'CP_717', 'CP_226', 'CP_1004', 'CP_1075',\n",
              "       'CP_731', 'CP_576', 'CP_715', 'CP_772', 'CP_980', 'CP_245',\n",
              "       'CP_1096', 'CP_914', 'CP_1200', 'CP_541', 'CP_842', 'CP_1003',\n",
              "       'CP_45', 'CP_962', 'CP_598', 'CP_679', 'CP_657', 'CP_1017',\n",
              "       'CP_941', 'CP_1056', 'CP_189', 'CP_204', 'CP_1188', 'CP_732',\n",
              "       'CP_727', 'CP_1132', 'CP_1138', 'CP_948', 'CP_353', 'CP_786',\n",
              "       'CP_1069', 'CP_1047', 'CP_1019', 'CP_761', 'CP_546', 'CP_299',\n",
              "       'CP_1048', 'CP_917', 'CP_1140', 'CP_130', 'CP_754', 'CP_1176',\n",
              "       'CP_440', 'CP_942', 'CP_1213', 'CP_142', 'CP_624', 'CP_1145',\n",
              "       'CP_6', 'CP_1156', 'CP_587', 'CP_804', 'CP_131', 'CP_438',\n",
              "       'CP_483', 'CP_166', 'CP_767', 'CP_585', 'CP_870', 'CP_340',\n",
              "       'CP_32', 'CP_755', 'CP_114', 'CP_769', 'CP_495', 'CP_719',\n",
              "       'CP_925', 'CP_1184', 'CP_538', 'CP_617', 'CP_419', 'CP_837',\n",
              "       'CP_375', 'CP_680', 'CP_275', 'CP_5', 'CP_1118', 'CP_1028',\n",
              "       'CP_1163', 'CP_562', 'CP_1012', 'CP_217', 'CP_739', 'CP_949',\n",
              "       'CP_1110', 'CP_561', 'CP_605', 'CP_107', 'CP_429', 'CP_212',\n",
              "       'CP_802', 'CP_1151', 'CP_641', 'CP_347', 'CP_509', 'CP_784',\n",
              "       'CP_793', 'CP_415', 'CP_528', 'CP_874', 'CP_845', 'CP_238',\n",
              "       'CP_593', 'CP_963', 'CP_1090', 'CP_100', 'CP_44', 'CP_167',\n",
              "       'CP_412', 'CP_527', 'CP_757', 'CP_378', 'CP_966', 'CP_1199',\n",
              "       'CP_775', 'CP_871', 'CP_1036', 'CP_301', 'CP_1130', 'CP_1190',\n",
              "       'CP_337', 'CP_523', 'CP_1158', 'CP_695', 'CP_354', 'CP_490',\n",
              "       'CP_194', 'CP_628', 'CP_455', 'CP_325', 'CP_618', 'CP_373',\n",
              "       'CP_278', 'CP_1087', 'CP_248', 'CP_237', 'CP_1091', 'CP_281',\n",
              "       'CP_282', 'CP_1037', 'CP_227', 'CP_532', 'CP_591', 'CP_930',\n",
              "       'CP_566', 'CP_350', 'CP_156', 'CP_344', 'CP_940', 'CP_67',\n",
              "       'CP_889', 'CP_268', 'CP_141', 'CP_66', 'CP_61', 'CP_307', 'CP_97',\n",
              "       'CP_979', 'CP_629', 'CP_79', 'CP_186', 'CP_707', 'CP_17', 'CP_791',\n",
              "       'CP_770', 'CP_151', 'CP_390', 'CP_126', 'CP_391', 'CP_1203',\n",
              "       'CP_102', 'CP_1046', 'CP_503', 'CP_708', 'CP_1020', 'CP_1065',\n",
              "       'CP_511', 'CP_706', 'CP_964', 'CP_1228', 'CP_101', 'CP_832',\n",
              "       'CP_1167', 'CP_1033', 'CP_849', 'CP_600', 'CP_3', 'CP_1160',\n",
              "       'CP_463', 'CP_881', 'CP_535', 'CP_603', 'CP_816', 'CP_651',\n",
              "       'CP_729', 'CP_597', 'CP_312', 'CP_861', 'CP_655', 'CP_943',\n",
              "       'CP_47', 'CP_250', 'CP_1201', 'CP_990', 'CP_1215', 'CP_1105',\n",
              "       'CP_207', 'CP_780', 'CP_83', 'CP_1157', 'CP_60', 'CP_584',\n",
              "       'CP_150', 'CP_462', 'CP_897', 'CP_388', 'CP_513', nan],\n",
              "      dtype=object)"
            ]
          },
          "metadata": {},
          "execution_count": 15
        }
      ],
      "source": [
        "df['BB3'].unique()"
      ]
    },
    {
      "cell_type": "code",
      "execution_count": null,
      "metadata": {
        "id": "WhZlW7eu6R2N"
      },
      "outputs": [],
      "source": [
        "#add column with decriptive row identifier name FOV_Bead_ID\n",
        "df['FOV_BeadID'] = df['FOV'].astype(str) +\"-\"+ df['Bead_ID'].astype(str)\n",
        "#Move last column to first\n",
        "new_cols = ['FOV_BeadID','FOV','Bead_ID','BB1', 'BB2', 'BB3','BL','81nM']\n",
        "df = df[new_cols]"
      ]
    },
    {
      "cell_type": "code",
      "execution_count": null,
      "metadata": {
        "id": "I0D389iq6R2O",
        "outputId": "c5a940be-ee94-45c0-94e7-87c23947e549",
        "colab": {
          "base_uri": "https://localhost:8080/",
          "height": 206
        }
      },
      "outputs": [
        {
          "output_type": "execute_result",
          "data": {
            "text/plain": [
              "  FOV_BeadID  FOV  Bead_ID     BB1     BB2      BB3          BL        81nM\n",
              "0        1-3    1        3  CP_692  CP_742   CP_247  108.000474  114.849700\n",
              "1       1-12    1       12  CP_981  CP_482  CP_1123  112.035264  117.157116\n",
              "2       1-13    1       13  CP_781  CP_165   CP_958  110.413860  120.200005\n",
              "3       1-26    1       26  CP_266  CP_986   CP_394  111.415696  115.645036\n",
              "4       1-28    1       28  CP_173  CP_834   CP_310  112.760089  117.613977"
            ],
            "text/html": [
              "\n",
              "  <div id=\"df-94f364ba-76b7-4057-a205-f31fd3ea5064\">\n",
              "    <div class=\"colab-df-container\">\n",
              "      <div>\n",
              "<style scoped>\n",
              "    .dataframe tbody tr th:only-of-type {\n",
              "        vertical-align: middle;\n",
              "    }\n",
              "\n",
              "    .dataframe tbody tr th {\n",
              "        vertical-align: top;\n",
              "    }\n",
              "\n",
              "    .dataframe thead th {\n",
              "        text-align: right;\n",
              "    }\n",
              "</style>\n",
              "<table border=\"1\" class=\"dataframe\">\n",
              "  <thead>\n",
              "    <tr style=\"text-align: right;\">\n",
              "      <th></th>\n",
              "      <th>FOV_BeadID</th>\n",
              "      <th>FOV</th>\n",
              "      <th>Bead_ID</th>\n",
              "      <th>BB1</th>\n",
              "      <th>BB2</th>\n",
              "      <th>BB3</th>\n",
              "      <th>BL</th>\n",
              "      <th>81nM</th>\n",
              "    </tr>\n",
              "  </thead>\n",
              "  <tbody>\n",
              "    <tr>\n",
              "      <th>0</th>\n",
              "      <td>1-3</td>\n",
              "      <td>1</td>\n",
              "      <td>3</td>\n",
              "      <td>CP_692</td>\n",
              "      <td>CP_742</td>\n",
              "      <td>CP_247</td>\n",
              "      <td>108.000474</td>\n",
              "      <td>114.849700</td>\n",
              "    </tr>\n",
              "    <tr>\n",
              "      <th>1</th>\n",
              "      <td>1-12</td>\n",
              "      <td>1</td>\n",
              "      <td>12</td>\n",
              "      <td>CP_981</td>\n",
              "      <td>CP_482</td>\n",
              "      <td>CP_1123</td>\n",
              "      <td>112.035264</td>\n",
              "      <td>117.157116</td>\n",
              "    </tr>\n",
              "    <tr>\n",
              "      <th>2</th>\n",
              "      <td>1-13</td>\n",
              "      <td>1</td>\n",
              "      <td>13</td>\n",
              "      <td>CP_781</td>\n",
              "      <td>CP_165</td>\n",
              "      <td>CP_958</td>\n",
              "      <td>110.413860</td>\n",
              "      <td>120.200005</td>\n",
              "    </tr>\n",
              "    <tr>\n",
              "      <th>3</th>\n",
              "      <td>1-26</td>\n",
              "      <td>1</td>\n",
              "      <td>26</td>\n",
              "      <td>CP_266</td>\n",
              "      <td>CP_986</td>\n",
              "      <td>CP_394</td>\n",
              "      <td>111.415696</td>\n",
              "      <td>115.645036</td>\n",
              "    </tr>\n",
              "    <tr>\n",
              "      <th>4</th>\n",
              "      <td>1-28</td>\n",
              "      <td>1</td>\n",
              "      <td>28</td>\n",
              "      <td>CP_173</td>\n",
              "      <td>CP_834</td>\n",
              "      <td>CP_310</td>\n",
              "      <td>112.760089</td>\n",
              "      <td>117.613977</td>\n",
              "    </tr>\n",
              "  </tbody>\n",
              "</table>\n",
              "</div>\n",
              "      <button class=\"colab-df-convert\" onclick=\"convertToInteractive('df-94f364ba-76b7-4057-a205-f31fd3ea5064')\"\n",
              "              title=\"Convert this dataframe to an interactive table.\"\n",
              "              style=\"display:none;\">\n",
              "        \n",
              "  <svg xmlns=\"http://www.w3.org/2000/svg\" height=\"24px\"viewBox=\"0 0 24 24\"\n",
              "       width=\"24px\">\n",
              "    <path d=\"M0 0h24v24H0V0z\" fill=\"none\"/>\n",
              "    <path d=\"M18.56 5.44l.94 2.06.94-2.06 2.06-.94-2.06-.94-.94-2.06-.94 2.06-2.06.94zm-11 1L8.5 8.5l.94-2.06 2.06-.94-2.06-.94L8.5 2.5l-.94 2.06-2.06.94zm10 10l.94 2.06.94-2.06 2.06-.94-2.06-.94-.94-2.06-.94 2.06-2.06.94z\"/><path d=\"M17.41 7.96l-1.37-1.37c-.4-.4-.92-.59-1.43-.59-.52 0-1.04.2-1.43.59L10.3 9.45l-7.72 7.72c-.78.78-.78 2.05 0 2.83L4 21.41c.39.39.9.59 1.41.59.51 0 1.02-.2 1.41-.59l7.78-7.78 2.81-2.81c.8-.78.8-2.07 0-2.86zM5.41 20L4 18.59l7.72-7.72 1.47 1.35L5.41 20z\"/>\n",
              "  </svg>\n",
              "      </button>\n",
              "      \n",
              "  <style>\n",
              "    .colab-df-container {\n",
              "      display:flex;\n",
              "      flex-wrap:wrap;\n",
              "      gap: 12px;\n",
              "    }\n",
              "\n",
              "    .colab-df-convert {\n",
              "      background-color: #E8F0FE;\n",
              "      border: none;\n",
              "      border-radius: 50%;\n",
              "      cursor: pointer;\n",
              "      display: none;\n",
              "      fill: #1967D2;\n",
              "      height: 32px;\n",
              "      padding: 0 0 0 0;\n",
              "      width: 32px;\n",
              "    }\n",
              "\n",
              "    .colab-df-convert:hover {\n",
              "      background-color: #E2EBFA;\n",
              "      box-shadow: 0px 1px 2px rgba(60, 64, 67, 0.3), 0px 1px 3px 1px rgba(60, 64, 67, 0.15);\n",
              "      fill: #174EA6;\n",
              "    }\n",
              "\n",
              "    [theme=dark] .colab-df-convert {\n",
              "      background-color: #3B4455;\n",
              "      fill: #D2E3FC;\n",
              "    }\n",
              "\n",
              "    [theme=dark] .colab-df-convert:hover {\n",
              "      background-color: #434B5C;\n",
              "      box-shadow: 0px 1px 3px 1px rgba(0, 0, 0, 0.15);\n",
              "      filter: drop-shadow(0px 1px 2px rgba(0, 0, 0, 0.3));\n",
              "      fill: #FFFFFF;\n",
              "    }\n",
              "  </style>\n",
              "\n",
              "      <script>\n",
              "        const buttonEl =\n",
              "          document.querySelector('#df-94f364ba-76b7-4057-a205-f31fd3ea5064 button.colab-df-convert');\n",
              "        buttonEl.style.display =\n",
              "          google.colab.kernel.accessAllowed ? 'block' : 'none';\n",
              "\n",
              "        async function convertToInteractive(key) {\n",
              "          const element = document.querySelector('#df-94f364ba-76b7-4057-a205-f31fd3ea5064');\n",
              "          const dataTable =\n",
              "            await google.colab.kernel.invokeFunction('convertToInteractive',\n",
              "                                                     [key], {});\n",
              "          if (!dataTable) return;\n",
              "\n",
              "          const docLinkHtml = 'Like what you see? Visit the ' +\n",
              "            '<a target=\"_blank\" href=https://colab.research.google.com/notebooks/data_table.ipynb>data table notebook</a>'\n",
              "            + ' to learn more about interactive tables.';\n",
              "          element.innerHTML = '';\n",
              "          dataTable['output_type'] = 'display_data';\n",
              "          await google.colab.output.renderOutput(dataTable, element);\n",
              "          const docLink = document.createElement('div');\n",
              "          docLink.innerHTML = docLinkHtml;\n",
              "          element.appendChild(docLink);\n",
              "        }\n",
              "      </script>\n",
              "    </div>\n",
              "  </div>\n",
              "  "
            ]
          },
          "metadata": {},
          "execution_count": 17
        }
      ],
      "source": [
        "df.head()"
      ]
    },
    {
      "cell_type": "markdown",
      "metadata": {
        "id": "f1cRoL0U6R2O"
      },
      "source": [
        "## Baseline correction"
      ]
    },
    {
      "cell_type": "raw",
      "metadata": {
        "id": "Ox0pzfsg6R2O"
      },
      "source": [
        "Since there are base line measurements per data point we can just subtract the BL intesnitties "
      ]
    },
    {
      "cell_type": "code",
      "execution_count": null,
      "metadata": {
        "id": "7F9sQrck6R2O"
      },
      "outputs": [],
      "source": [
        "df['Intensity'] = df['81nM'] - df['BL']"
      ]
    },
    {
      "cell_type": "code",
      "execution_count": null,
      "metadata": {
        "id": "SqvRxW9L6R2P",
        "outputId": "53258ed6-74c4-46d2-e479-75eac8373869",
        "colab": {
          "base_uri": "https://localhost:8080/",
          "height": 206
        }
      },
      "outputs": [
        {
          "output_type": "execute_result",
          "data": {
            "text/plain": [
              "  FOV_BeadID  FOV  Bead_ID     BB1     BB2      BB3          BL        81nM  \\\n",
              "0        1-3    1        3  CP_692  CP_742   CP_247  108.000474  114.849700   \n",
              "1       1-12    1       12  CP_981  CP_482  CP_1123  112.035264  117.157116   \n",
              "2       1-13    1       13  CP_781  CP_165   CP_958  110.413860  120.200005   \n",
              "3       1-26    1       26  CP_266  CP_986   CP_394  111.415696  115.645036   \n",
              "4       1-28    1       28  CP_173  CP_834   CP_310  112.760089  117.613977   \n",
              "\n",
              "   Intensity  \n",
              "0   6.849226  \n",
              "1   5.121852  \n",
              "2   9.786146  \n",
              "3   4.229340  \n",
              "4   4.853888  "
            ],
            "text/html": [
              "\n",
              "  <div id=\"df-09282094-c1ba-46c1-b85f-51cb19ae0d80\">\n",
              "    <div class=\"colab-df-container\">\n",
              "      <div>\n",
              "<style scoped>\n",
              "    .dataframe tbody tr th:only-of-type {\n",
              "        vertical-align: middle;\n",
              "    }\n",
              "\n",
              "    .dataframe tbody tr th {\n",
              "        vertical-align: top;\n",
              "    }\n",
              "\n",
              "    .dataframe thead th {\n",
              "        text-align: right;\n",
              "    }\n",
              "</style>\n",
              "<table border=\"1\" class=\"dataframe\">\n",
              "  <thead>\n",
              "    <tr style=\"text-align: right;\">\n",
              "      <th></th>\n",
              "      <th>FOV_BeadID</th>\n",
              "      <th>FOV</th>\n",
              "      <th>Bead_ID</th>\n",
              "      <th>BB1</th>\n",
              "      <th>BB2</th>\n",
              "      <th>BB3</th>\n",
              "      <th>BL</th>\n",
              "      <th>81nM</th>\n",
              "      <th>Intensity</th>\n",
              "    </tr>\n",
              "  </thead>\n",
              "  <tbody>\n",
              "    <tr>\n",
              "      <th>0</th>\n",
              "      <td>1-3</td>\n",
              "      <td>1</td>\n",
              "      <td>3</td>\n",
              "      <td>CP_692</td>\n",
              "      <td>CP_742</td>\n",
              "      <td>CP_247</td>\n",
              "      <td>108.000474</td>\n",
              "      <td>114.849700</td>\n",
              "      <td>6.849226</td>\n",
              "    </tr>\n",
              "    <tr>\n",
              "      <th>1</th>\n",
              "      <td>1-12</td>\n",
              "      <td>1</td>\n",
              "      <td>12</td>\n",
              "      <td>CP_981</td>\n",
              "      <td>CP_482</td>\n",
              "      <td>CP_1123</td>\n",
              "      <td>112.035264</td>\n",
              "      <td>117.157116</td>\n",
              "      <td>5.121852</td>\n",
              "    </tr>\n",
              "    <tr>\n",
              "      <th>2</th>\n",
              "      <td>1-13</td>\n",
              "      <td>1</td>\n",
              "      <td>13</td>\n",
              "      <td>CP_781</td>\n",
              "      <td>CP_165</td>\n",
              "      <td>CP_958</td>\n",
              "      <td>110.413860</td>\n",
              "      <td>120.200005</td>\n",
              "      <td>9.786146</td>\n",
              "    </tr>\n",
              "    <tr>\n",
              "      <th>3</th>\n",
              "      <td>1-26</td>\n",
              "      <td>1</td>\n",
              "      <td>26</td>\n",
              "      <td>CP_266</td>\n",
              "      <td>CP_986</td>\n",
              "      <td>CP_394</td>\n",
              "      <td>111.415696</td>\n",
              "      <td>115.645036</td>\n",
              "      <td>4.229340</td>\n",
              "    </tr>\n",
              "    <tr>\n",
              "      <th>4</th>\n",
              "      <td>1-28</td>\n",
              "      <td>1</td>\n",
              "      <td>28</td>\n",
              "      <td>CP_173</td>\n",
              "      <td>CP_834</td>\n",
              "      <td>CP_310</td>\n",
              "      <td>112.760089</td>\n",
              "      <td>117.613977</td>\n",
              "      <td>4.853888</td>\n",
              "    </tr>\n",
              "  </tbody>\n",
              "</table>\n",
              "</div>\n",
              "      <button class=\"colab-df-convert\" onclick=\"convertToInteractive('df-09282094-c1ba-46c1-b85f-51cb19ae0d80')\"\n",
              "              title=\"Convert this dataframe to an interactive table.\"\n",
              "              style=\"display:none;\">\n",
              "        \n",
              "  <svg xmlns=\"http://www.w3.org/2000/svg\" height=\"24px\"viewBox=\"0 0 24 24\"\n",
              "       width=\"24px\">\n",
              "    <path d=\"M0 0h24v24H0V0z\" fill=\"none\"/>\n",
              "    <path d=\"M18.56 5.44l.94 2.06.94-2.06 2.06-.94-2.06-.94-.94-2.06-.94 2.06-2.06.94zm-11 1L8.5 8.5l.94-2.06 2.06-.94-2.06-.94L8.5 2.5l-.94 2.06-2.06.94zm10 10l.94 2.06.94-2.06 2.06-.94-2.06-.94-.94-2.06-.94 2.06-2.06.94z\"/><path d=\"M17.41 7.96l-1.37-1.37c-.4-.4-.92-.59-1.43-.59-.52 0-1.04.2-1.43.59L10.3 9.45l-7.72 7.72c-.78.78-.78 2.05 0 2.83L4 21.41c.39.39.9.59 1.41.59.51 0 1.02-.2 1.41-.59l7.78-7.78 2.81-2.81c.8-.78.8-2.07 0-2.86zM5.41 20L4 18.59l7.72-7.72 1.47 1.35L5.41 20z\"/>\n",
              "  </svg>\n",
              "      </button>\n",
              "      \n",
              "  <style>\n",
              "    .colab-df-container {\n",
              "      display:flex;\n",
              "      flex-wrap:wrap;\n",
              "      gap: 12px;\n",
              "    }\n",
              "\n",
              "    .colab-df-convert {\n",
              "      background-color: #E8F0FE;\n",
              "      border: none;\n",
              "      border-radius: 50%;\n",
              "      cursor: pointer;\n",
              "      display: none;\n",
              "      fill: #1967D2;\n",
              "      height: 32px;\n",
              "      padding: 0 0 0 0;\n",
              "      width: 32px;\n",
              "    }\n",
              "\n",
              "    .colab-df-convert:hover {\n",
              "      background-color: #E2EBFA;\n",
              "      box-shadow: 0px 1px 2px rgba(60, 64, 67, 0.3), 0px 1px 3px 1px rgba(60, 64, 67, 0.15);\n",
              "      fill: #174EA6;\n",
              "    }\n",
              "\n",
              "    [theme=dark] .colab-df-convert {\n",
              "      background-color: #3B4455;\n",
              "      fill: #D2E3FC;\n",
              "    }\n",
              "\n",
              "    [theme=dark] .colab-df-convert:hover {\n",
              "      background-color: #434B5C;\n",
              "      box-shadow: 0px 1px 3px 1px rgba(0, 0, 0, 0.15);\n",
              "      filter: drop-shadow(0px 1px 2px rgba(0, 0, 0, 0.3));\n",
              "      fill: #FFFFFF;\n",
              "    }\n",
              "  </style>\n",
              "\n",
              "      <script>\n",
              "        const buttonEl =\n",
              "          document.querySelector('#df-09282094-c1ba-46c1-b85f-51cb19ae0d80 button.colab-df-convert');\n",
              "        buttonEl.style.display =\n",
              "          google.colab.kernel.accessAllowed ? 'block' : 'none';\n",
              "\n",
              "        async function convertToInteractive(key) {\n",
              "          const element = document.querySelector('#df-09282094-c1ba-46c1-b85f-51cb19ae0d80');\n",
              "          const dataTable =\n",
              "            await google.colab.kernel.invokeFunction('convertToInteractive',\n",
              "                                                     [key], {});\n",
              "          if (!dataTable) return;\n",
              "\n",
              "          const docLinkHtml = 'Like what you see? Visit the ' +\n",
              "            '<a target=\"_blank\" href=https://colab.research.google.com/notebooks/data_table.ipynb>data table notebook</a>'\n",
              "            + ' to learn more about interactive tables.';\n",
              "          element.innerHTML = '';\n",
              "          dataTable['output_type'] = 'display_data';\n",
              "          await google.colab.output.renderOutput(dataTable, element);\n",
              "          const docLink = document.createElement('div');\n",
              "          docLink.innerHTML = docLinkHtml;\n",
              "          element.appendChild(docLink);\n",
              "        }\n",
              "      </script>\n",
              "    </div>\n",
              "  </div>\n",
              "  "
            ]
          },
          "metadata": {},
          "execution_count": 19
        }
      ],
      "source": [
        "df.head()"
      ]
    },
    {
      "cell_type": "markdown",
      "metadata": {
        "id": "U4nLIBlU6R2P"
      },
      "source": [
        "## One-hot-encode"
      ]
    },
    {
      "cell_type": "code",
      "execution_count": null,
      "metadata": {
        "id": "WgYDiEu96R2P"
      },
      "outputs": [],
      "source": [
        "#One-hot-encode the building blocks columns\n",
        "df2 = pd.get_dummies(data=df, columns=['BB1', 'BB2', 'BB3'])"
      ]
    },
    {
      "cell_type": "code",
      "execution_count": null,
      "metadata": {
        "id": "RL3V8jWA6R2P"
      },
      "outputs": [],
      "source": [
        "df2.head()"
      ]
    },
    {
      "cell_type": "markdown",
      "metadata": {
        "id": "e6zHSibW6R2Q"
      },
      "source": [
        "## Anomaly Detection"
      ]
    },
    {
      "cell_type": "markdown",
      "metadata": {
        "id": "prrGX5Nz6R2Q"
      },
      "source": [
        "### Check if there is any bias intensity measurements by FOV"
      ]
    },
    {
      "cell_type": "markdown",
      "metadata": {
        "id": "HESo2zu36R2Q"
      },
      "source": [
        "In order to check if there is intensity bias by FOV we can look at distributions of the highest intensity values and lowest values in the \n",
        "dataset separately and check if all the FOVs are equally represented. "
      ]
    },
    {
      "cell_type": "code",
      "execution_count": null,
      "metadata": {
        "id": "mIIxc8tj6R2Q",
        "outputId": "a15cc7ca-0ece-4c14-e677-8d90b22b1e8f"
      },
      "outputs": [
        {
          "data": {
            "text/html": [
              "<div>\n",
              "<style scoped>\n",
              "    .dataframe tbody tr th:only-of-type {\n",
              "        vertical-align: middle;\n",
              "    }\n",
              "\n",
              "    .dataframe tbody tr th {\n",
              "        vertical-align: top;\n",
              "    }\n",
              "\n",
              "    .dataframe thead th {\n",
              "        text-align: right;\n",
              "    }\n",
              "</style>\n",
              "<table border=\"1\" class=\"dataframe\">\n",
              "  <thead>\n",
              "    <tr style=\"text-align: right;\">\n",
              "      <th></th>\n",
              "      <th>FOV</th>\n",
              "      <th>Bead_ID</th>\n",
              "      <th>BL</th>\n",
              "      <th>81nM</th>\n",
              "      <th>Intensity</th>\n",
              "    </tr>\n",
              "  </thead>\n",
              "  <tbody>\n",
              "    <tr>\n",
              "      <th>count</th>\n",
              "      <td>1.819693e+07</td>\n",
              "      <td>1.819693e+07</td>\n",
              "      <td>1.819693e+07</td>\n",
              "      <td>1.819693e+07</td>\n",
              "      <td>1.819693e+07</td>\n",
              "    </tr>\n",
              "    <tr>\n",
              "      <th>mean</th>\n",
              "      <td>3.844563e+02</td>\n",
              "      <td>1.985068e+04</td>\n",
              "      <td>1.142181e+02</td>\n",
              "      <td>1.486604e+02</td>\n",
              "      <td>3.444231e+01</td>\n",
              "    </tr>\n",
              "    <tr>\n",
              "      <th>std</th>\n",
              "      <td>2.279551e+02</td>\n",
              "      <td>1.151027e+04</td>\n",
              "      <td>2.799765e+00</td>\n",
              "      <td>3.999479e+01</td>\n",
              "      <td>3.982897e+01</td>\n",
              "    </tr>\n",
              "    <tr>\n",
              "      <th>min</th>\n",
              "      <td>1.000000e+00</td>\n",
              "      <td>1.000000e+00</td>\n",
              "      <td>1.033266e+02</td>\n",
              "      <td>1.146850e+02</td>\n",
              "      <td>-6.477990e+02</td>\n",
              "    </tr>\n",
              "    <tr>\n",
              "      <th>25%</th>\n",
              "      <td>1.870000e+02</td>\n",
              "      <td>9.884000e+03</td>\n",
              "      <td>1.122932e+02</td>\n",
              "      <td>1.401007e+02</td>\n",
              "      <td>2.643763e+01</td>\n",
              "    </tr>\n",
              "    <tr>\n",
              "      <th>50%</th>\n",
              "      <td>3.740000e+02</td>\n",
              "      <td>1.977100e+04</td>\n",
              "      <td>1.141500e+02</td>\n",
              "      <td>1.450352e+02</td>\n",
              "      <td>3.055335e+01</td>\n",
              "    </tr>\n",
              "    <tr>\n",
              "      <th>75%</th>\n",
              "      <td>5.810000e+02</td>\n",
              "      <td>2.978000e+04</td>\n",
              "      <td>1.160612e+02</td>\n",
              "      <td>1.499727e+02</td>\n",
              "      <td>3.495220e+01</td>\n",
              "    </tr>\n",
              "    <tr>\n",
              "      <th>max</th>\n",
              "      <td>7.920000e+02</td>\n",
              "      <td>4.000000e+04</td>\n",
              "      <td>7.897129e+02</td>\n",
              "      <td>4.926682e+03</td>\n",
              "      <td>4.817079e+03</td>\n",
              "    </tr>\n",
              "  </tbody>\n",
              "</table>\n",
              "</div>"
            ],
            "text/plain": [
              "                FOV       Bead_ID            BL          81nM     Intensity\n",
              "count  1.819693e+07  1.819693e+07  1.819693e+07  1.819693e+07  1.819693e+07\n",
              "mean   3.844563e+02  1.985068e+04  1.142181e+02  1.486604e+02  3.444231e+01\n",
              "std    2.279551e+02  1.151027e+04  2.799765e+00  3.999479e+01  3.982897e+01\n",
              "min    1.000000e+00  1.000000e+00  1.033266e+02  1.146850e+02 -6.477990e+02\n",
              "25%    1.870000e+02  9.884000e+03  1.122932e+02  1.401007e+02  2.643763e+01\n",
              "50%    3.740000e+02  1.977100e+04  1.141500e+02  1.450352e+02  3.055335e+01\n",
              "75%    5.810000e+02  2.978000e+04  1.160612e+02  1.499727e+02  3.495220e+01\n",
              "max    7.920000e+02  4.000000e+04  7.897129e+02  4.926682e+03  4.817079e+03"
            ]
          },
          "execution_count": 22,
          "metadata": {},
          "output_type": "execute_result"
        }
      ],
      "source": [
        "df.describe()"
      ]
    },
    {
      "cell_type": "code",
      "execution_count": null,
      "metadata": {
        "id": "aKgZb5c46R2Q"
      },
      "outputs": [],
      "source": [
        "#Intensity values in the lowest range\n",
        "df_25percent = df[df['Intensity']< np.quantile(df['Intensity'], 0.25)]"
      ]
    },
    {
      "cell_type": "code",
      "execution_count": null,
      "metadata": {
        "id": "OjzcdPPY6R2R",
        "outputId": "ace31eee-7ea2-4aad-960e-e730c4e9e21a"
      },
      "outputs": [
        {
          "data": {
            "text/plain": [
              "24     13738\n",
              "22     12899\n",
              "23     12366\n",
              "94     11981\n",
              "19     11756\n",
              "       ...  \n",
              "761        8\n",
              "746        8\n",
              "749        4\n",
              "747        3\n",
              "748        2\n",
              "Name: FOV, Length: 782, dtype: int64"
            ]
          },
          "execution_count": 24,
          "metadata": {},
          "output_type": "execute_result"
        }
      ],
      "source": [
        "#Let's see which FOVs have the most data points in the lowest range\n",
        "df_25percent['FOV'].value_counts()"
      ]
    },
    {
      "cell_type": "code",
      "execution_count": null,
      "metadata": {
        "id": "wfhogEFA6R2R"
      },
      "outputs": [],
      "source": [
        "#Intensity values in the highest range\n",
        "df_75percent = df[df['Intensity']> np.quantile(df['Intensity'], 0.75)]"
      ]
    },
    {
      "cell_type": "code",
      "execution_count": null,
      "metadata": {
        "id": "-U7p9WBi6R2R",
        "outputId": "0a26ded0-b93d-4ed0-ca11-030c549cba51"
      },
      "outputs": [
        {
          "data": {
            "text/plain": [
              "763    26317\n",
              "762    26316\n",
              "761    26236\n",
              "764    25278\n",
              "765    24969\n",
              "       ...  \n",
              "21      1926\n",
              "51      1914\n",
              "29      1865\n",
              "20      1776\n",
              "24      1757\n",
              "Name: FOV, Length: 791, dtype: int64"
            ]
          },
          "execution_count": 26,
          "metadata": {},
          "output_type": "execute_result"
        }
      ],
      "source": [
        "#Let's see which FOVs have the most data points in the highest range\n",
        "df_75percent['FOV'].value_counts()"
      ]
    },
    {
      "cell_type": "code",
      "execution_count": null,
      "metadata": {
        "id": "p5Axob0a6R2S",
        "outputId": "a317d0f5-bf80-46e9-dea2-1837d4b20af2"
      },
      "outputs": [
        {
          "name": "stderr",
          "output_type": "stream",
          "text": [
            "/Users/ruserel/opt/anaconda3/lib/python3.8/site-packages/seaborn/_decorators.py:36: FutureWarning: Pass the following variable as a keyword arg: x. From version 0.12, the only valid positional argument will be `data`, and passing other arguments without an explicit keyword will result in an error or misinterpretation.\n",
            "  warnings.warn(\n"
          ]
        },
        {
          "data": {
            "image/png": "[encoded data removed]",
            "text/plain": [
              "<Figure size 1296x432 with 1 Axes>"
            ]
          },
          "metadata": {
            "needs_background": "light"
          },
          "output_type": "display_data"
        }
      ],
      "source": [
        "#Plot FOV counts in the 75th percentile\n",
        "plt.figure(figsize=(18,6))\n",
        "sns.countplot(df_75percent['FOV'])\n",
        "plt.title(\"FOVs in the 75th percentile\", fontsize=20)\n",
        "plt.xlabel('FOV', fontsize=18)\n",
        "plt.ylabel('Counts', fontsize=18)\n",
        "plt.xticks(fontsize=10, rotation=90)\n",
        "plt.show()"
      ]
    },
    {
      "cell_type": "code",
      "execution_count": null,
      "metadata": {
        "id": "K36kfHzt6R2S"
      },
      "outputs": [],
      "source": [
        "df_75percent81nM = df[df['81nM']> np.quantile(df['81nM'], 0.75)]"
      ]
    },
    {
      "cell_type": "code",
      "execution_count": null,
      "metadata": {
        "id": "qiTQu4A26R2S",
        "outputId": "81d843bc-b45b-409e-d04f-185e28b33fe4"
      },
      "outputs": [
        {
          "name": "stderr",
          "output_type": "stream",
          "text": [
            "/Users/ruserel/opt/anaconda3/lib/python3.8/site-packages/seaborn/_decorators.py:36: FutureWarning: Pass the following variable as a keyword arg: x. From version 0.12, the only valid positional argument will be `data`, and passing other arguments without an explicit keyword will result in an error or misinterpretation.\n",
            "  warnings.warn(\n"
          ]
        },
        {
          "data": {
            "image/png": "[encoded data removed]",
            "text/plain": [
              "<Figure size 1296x432 with 1 Axes>"
            ]
          },
          "metadata": {
            "needs_background": "light"
          },
          "output_type": "display_data"
        }
      ],
      "source": [
        "plt.figure(figsize=(18,6))\n",
        "sns.countplot(df_75percent81nM['FOV'])\n",
        "plt.title(\"FOVs in the 75th percentile 81nM\", fontsize=20)\n",
        "plt.xlabel('FOV', fontsize=18)\n",
        "plt.ylabel('Counts', fontsize=18)\n",
        "plt.xticks(fontsize=10, rotation=90)\n",
        "plt.show()"
      ]
    },
    {
      "cell_type": "code",
      "execution_count": null,
      "metadata": {
        "id": "6C9kG29C6R2S"
      },
      "outputs": [],
      "source": [
        "df_75percentBL = df[df['BL']> np.quantile(df['BL'], 0.75)]"
      ]
    },
    {
      "cell_type": "code",
      "execution_count": null,
      "metadata": {
        "id": "MBjqjfhC6R2S",
        "outputId": "0115a96d-d156-49a1-cf1f-c0dae2858df0"
      },
      "outputs": [
        {
          "name": "stderr",
          "output_type": "stream",
          "text": [
            "/Users/ruserel/opt/anaconda3/lib/python3.8/site-packages/seaborn/_decorators.py:36: FutureWarning: Pass the following variable as a keyword arg: x. From version 0.12, the only valid positional argument will be `data`, and passing other arguments without an explicit keyword will result in an error or misinterpretation.\n",
            "  warnings.warn(\n"
          ]
        },
        {
          "data": {
            "image/png": "[encoded data removed]",
            "text/plain": [
              "<Figure size 1296x432 with 1 Axes>"
            ]
          },
          "metadata": {
            "needs_background": "light"
          },
          "output_type": "display_data"
        }
      ],
      "source": [
        "plt.figure(figsize=(18,6))\n",
        "sns.countplot(df_75percentBL['FOV'])\n",
        "plt.title(\"FOVs in the 75th percentile BL\", fontsize=20)\n",
        "plt.xlabel('FOV', fontsize=18)\n",
        "plt.ylabel('Counts', fontsize=18)\n",
        "plt.xticks(fontsize=10, rotation=90)\n",
        "plt.show()"
      ]
    },
    {
      "cell_type": "code",
      "execution_count": null,
      "metadata": {
        "id": "flxqLCRI6R2T",
        "outputId": "e99cecc4-608a-4e98-ed4d-f30eb007a93a"
      },
      "outputs": [
        {
          "name": "stderr",
          "output_type": "stream",
          "text": [
            "/Users/ruserel/opt/anaconda3/lib/python3.8/site-packages/seaborn/_decorators.py:36: FutureWarning: Pass the following variable as a keyword arg: x. From version 0.12, the only valid positional argument will be `data`, and passing other arguments without an explicit keyword will result in an error or misinterpretation.\n",
            "  warnings.warn(\n"
          ]
        },
        {
          "data": {
            "image/png": "[encoded data removed]",
            "text/plain": [
              "<Figure size 1296x432 with 1 Axes>"
            ]
          },
          "metadata": {
            "needs_background": "light"
          },
          "output_type": "display_data"
        }
      ],
      "source": [
        "#Plot FOV counts in the 25th percentile\n",
        "plt.figure(figsize=(18,6))\n",
        "sns.countplot(df_25percent['FOV'])\n",
        "plt.title(\"FOVs in the 25th percentile\", fontsize=20)\n",
        "plt.xlabel('FOV', fontsize=18)\n",
        "plt.ylabel('Counts', fontsize=18)\n",
        "plt.xticks(fontsize=10, rotation=90)\n",
        "plt.show()"
      ]
    },
    {
      "cell_type": "markdown",
      "metadata": {
        "id": "4Hv2meXm6R2T"
      },
      "source": [
        "There appears to be some bias in the intensity measurements. Some FOVs appear to have more intensities scoring high. The distribution would be equal if there was no bias."
      ]
    },
    {
      "cell_type": "code",
      "execution_count": null,
      "metadata": {
        "id": "8Lu5jLnd6R2T",
        "outputId": "8c00c35c-d8d3-4db9-d994-79bba3f7c8a8"
      },
      "outputs": [
        {
          "data": {
            "text/html": [
              "<div>\n",
              "<style scoped>\n",
              "    .dataframe tbody tr th:only-of-type {\n",
              "        vertical-align: middle;\n",
              "    }\n",
              "\n",
              "    .dataframe tbody tr th {\n",
              "        vertical-align: top;\n",
              "    }\n",
              "\n",
              "    .dataframe thead th {\n",
              "        text-align: right;\n",
              "    }\n",
              "</style>\n",
              "<table border=\"1\" class=\"dataframe\">\n",
              "  <thead>\n",
              "    <tr style=\"text-align: right;\">\n",
              "      <th></th>\n",
              "      <th>FOV</th>\n",
              "      <th>Bead_ID</th>\n",
              "      <th>BL</th>\n",
              "      <th>81nM</th>\n",
              "      <th>Intensity</th>\n",
              "    </tr>\n",
              "  </thead>\n",
              "  <tbody>\n",
              "    <tr>\n",
              "      <th>count</th>\n",
              "      <td>1.819693e+07</td>\n",
              "      <td>1.819693e+07</td>\n",
              "      <td>1.819693e+07</td>\n",
              "      <td>1.819693e+07</td>\n",
              "      <td>1.819693e+07</td>\n",
              "    </tr>\n",
              "    <tr>\n",
              "      <th>mean</th>\n",
              "      <td>3.844563e+02</td>\n",
              "      <td>1.985068e+04</td>\n",
              "      <td>1.142181e+02</td>\n",
              "      <td>1.486604e+02</td>\n",
              "      <td>3.444231e+01</td>\n",
              "    </tr>\n",
              "    <tr>\n",
              "      <th>std</th>\n",
              "      <td>2.279551e+02</td>\n",
              "      <td>1.151027e+04</td>\n",
              "      <td>2.799765e+00</td>\n",
              "      <td>3.999479e+01</td>\n",
              "      <td>3.982897e+01</td>\n",
              "    </tr>\n",
              "    <tr>\n",
              "      <th>min</th>\n",
              "      <td>1.000000e+00</td>\n",
              "      <td>1.000000e+00</td>\n",
              "      <td>1.033266e+02</td>\n",
              "      <td>1.146850e+02</td>\n",
              "      <td>-6.477990e+02</td>\n",
              "    </tr>\n",
              "    <tr>\n",
              "      <th>25%</th>\n",
              "      <td>1.870000e+02</td>\n",
              "      <td>9.884000e+03</td>\n",
              "      <td>1.122932e+02</td>\n",
              "      <td>1.401007e+02</td>\n",
              "      <td>2.643763e+01</td>\n",
              "    </tr>\n",
              "    <tr>\n",
              "      <th>50%</th>\n",
              "      <td>3.740000e+02</td>\n",
              "      <td>1.977100e+04</td>\n",
              "      <td>1.141500e+02</td>\n",
              "      <td>1.450352e+02</td>\n",
              "      <td>3.055335e+01</td>\n",
              "    </tr>\n",
              "    <tr>\n",
              "      <th>75%</th>\n",
              "      <td>5.810000e+02</td>\n",
              "      <td>2.978000e+04</td>\n",
              "      <td>1.160612e+02</td>\n",
              "      <td>1.499727e+02</td>\n",
              "      <td>3.495220e+01</td>\n",
              "    </tr>\n",
              "    <tr>\n",
              "      <th>max</th>\n",
              "      <td>7.920000e+02</td>\n",
              "      <td>4.000000e+04</td>\n",
              "      <td>7.897129e+02</td>\n",
              "      <td>4.926682e+03</td>\n",
              "      <td>4.817079e+03</td>\n",
              "    </tr>\n",
              "  </tbody>\n",
              "</table>\n",
              "</div>"
            ],
            "text/plain": [
              "                FOV       Bead_ID            BL          81nM     Intensity\n",
              "count  1.819693e+07  1.819693e+07  1.819693e+07  1.819693e+07  1.819693e+07\n",
              "mean   3.844563e+02  1.985068e+04  1.142181e+02  1.486604e+02  3.444231e+01\n",
              "std    2.279551e+02  1.151027e+04  2.799765e+00  3.999479e+01  3.982897e+01\n",
              "min    1.000000e+00  1.000000e+00  1.033266e+02  1.146850e+02 -6.477990e+02\n",
              "25%    1.870000e+02  9.884000e+03  1.122932e+02  1.401007e+02  2.643763e+01\n",
              "50%    3.740000e+02  1.977100e+04  1.141500e+02  1.450352e+02  3.055335e+01\n",
              "75%    5.810000e+02  2.978000e+04  1.160612e+02  1.499727e+02  3.495220e+01\n",
              "max    7.920000e+02  4.000000e+04  7.897129e+02  4.926682e+03  4.817079e+03"
            ]
          },
          "execution_count": 33,
          "metadata": {},
          "output_type": "execute_result"
        }
      ],
      "source": [
        "df.describe()"
      ]
    },
    {
      "cell_type": "code",
      "execution_count": null,
      "metadata": {
        "id": "LxAHPc2w6R2T",
        "outputId": "b72b41fd-5ac7-4c64-c5e2-aa0cb3964aba"
      },
      "outputs": [
        {
          "name": "stderr",
          "output_type": "stream",
          "text": [
            "/Users/ruserel/opt/anaconda3/lib/python3.8/site-packages/seaborn/distributions.py:2551: FutureWarning: `distplot` is a deprecated function and will be removed in a future version. Please adapt your code to use either `displot` (a figure-level function with similar flexibility) or `histplot` (an axes-level function for histograms).\n",
            "  warnings.warn(msg, FutureWarning)\n"
          ]
        },
        {
          "data": {
            "image/png": "[encoded data removed]",
            "text/plain": [
              "<Figure size 1296x432 with 1 Axes>"
            ]
          },
          "metadata": {
            "needs_background": "light"
          },
          "output_type": "display_data"
        }
      ],
      "source": [
        "#Distibution of Intensity\n",
        "plt.figure(figsize=(18,6))\n",
        "sns.distplot(df['Intensity'])\n",
        "plt.show()"
      ]
    },
    {
      "cell_type": "code",
      "execution_count": null,
      "metadata": {
        "id": "6lcgPKx26R2U",
        "outputId": "ad3386c8-3fa1-4027-84dd-5f18db419536"
      },
      "outputs": [
        {
          "data": {
            "image/png": "[encoded data removed]",
            "text/plain": [
              "<Figure size 1296x432 with 1 Axes>"
            ]
          },
          "metadata": {
            "needs_background": "light"
          },
          "output_type": "display_data"
        }
      ],
      "source": [
        "#Boxplot of all Intensity measurements\n",
        "plt.figure(figsize=(18,6))\n",
        "sns.boxplot(x=df['Intensity'])\n",
        "plt.show()"
      ]
    },
    {
      "cell_type": "code",
      "execution_count": null,
      "metadata": {
        "id": "nG5ejwNG6R2U"
      },
      "outputs": [],
      "source": [
        "#Let's look at the distribution for one FOV sample\n",
        "temp_df = df[df['FOV'] == 153]"
      ]
    },
    {
      "cell_type": "code",
      "execution_count": null,
      "metadata": {
        "id": "YlZ5z8hW6R2U",
        "outputId": "6a914fe6-6ddf-4cf5-9ac7-a705ec2d7fb2"
      },
      "outputs": [
        {
          "name": "stdout",
          "output_type": "stream",
          "text": [
            "<class 'pandas.core.frame.DataFrame'>\n",
            "Int64Index: 26097 entries, 3644800 to 3670896\n",
            "Data columns (total 9 columns):\n",
            " #   Column      Non-Null Count  Dtype  \n",
            "---  ------      --------------  -----  \n",
            " 0   FOV_BeadID  26097 non-null  object \n",
            " 1   FOV         26097 non-null  int64  \n",
            " 2   Bead_ID     26097 non-null  int64  \n",
            " 3   BB1         26097 non-null  object \n",
            " 4   BB2         26097 non-null  object \n",
            " 5   BB3         26097 non-null  object \n",
            " 6   BL          26097 non-null  float64\n",
            " 7   81nM        26097 non-null  float64\n",
            " 8   Intensity   26097 non-null  float64\n",
            "dtypes: float64(3), int64(2), object(4)\n",
            "memory usage: 2.0+ MB\n"
          ]
        }
      ],
      "source": [
        "temp_df.info()"
      ]
    },
    {
      "cell_type": "code",
      "execution_count": null,
      "metadata": {
        "id": "qln2yMJa6R2U",
        "outputId": "861780a1-c04e-4219-82e4-4bf79141cc56"
      },
      "outputs": [
        {
          "name": "stderr",
          "output_type": "stream",
          "text": [
            "/Users/ruserel/opt/anaconda3/lib/python3.8/site-packages/seaborn/distributions.py:2551: FutureWarning: `distplot` is a deprecated function and will be removed in a future version. Please adapt your code to use either `displot` (a figure-level function with similar flexibility) or `histplot` (an axes-level function for histograms).\n",
            "  warnings.warn(msg, FutureWarning)\n",
            "/Users/ruserel/opt/anaconda3/lib/python3.8/site-packages/seaborn/_decorators.py:36: FutureWarning: Pass the following variable as a keyword arg: x. From version 0.12, the only valid positional argument will be `data`, and passing other arguments without an explicit keyword will result in an error or misinterpretation.\n",
            "  warnings.warn(\n"
          ]
        },
        {
          "data": {
            "image/png": "[encoded data removed]",
            "text/plain": [
              "<Figure size 1152x576 with 2 Axes>"
            ]
          },
          "metadata": {
            "needs_background": "light"
          },
          "output_type": "display_data"
        }
      ],
      "source": [
        "#Distribution of intensity for FOV 153\n",
        "plt.figure(figsize=(16,8))\n",
        "plt.subplot(2,2,1)\n",
        "sns.distplot(temp_df['Intensity'])\n",
        "plt.subplot(2,2,2)\n",
        "sns.boxplot(temp_df['Intensity'])\n",
        "plt.show()"
      ]
    },
    {
      "cell_type": "code",
      "execution_count": null,
      "metadata": {
        "id": "xrqgawhb6R2U"
      },
      "outputs": [],
      "source": [
        "#Now let's look at the distribution for one Bead sample\n",
        "temp_df2 = df[df['Bead_ID'] == 10]"
      ]
    },
    {
      "cell_type": "code",
      "execution_count": null,
      "metadata": {
        "id": "TzfXeanX6R2U",
        "outputId": "5794b468-a3c2-4262-b480-1cdf6f5f4530"
      },
      "outputs": [
        {
          "name": "stdout",
          "output_type": "stream",
          "text": [
            "<class 'pandas.core.frame.DataFrame'>\n",
            "Int64Index: 452 entries, 20209 to 18163681\n",
            "Data columns (total 9 columns):\n",
            " #   Column      Non-Null Count  Dtype  \n",
            "---  ------      --------------  -----  \n",
            " 0   FOV_BeadID  452 non-null    object \n",
            " 1   FOV         452 non-null    int64  \n",
            " 2   Bead_ID     452 non-null    int64  \n",
            " 3   BB1         452 non-null    object \n",
            " 4   BB2         452 non-null    object \n",
            " 5   BB3         452 non-null    object \n",
            " 6   BL          452 non-null    float64\n",
            " 7   81nM        452 non-null    float64\n",
            " 8   Intensity   452 non-null    float64\n",
            "dtypes: float64(3), int64(2), object(4)\n",
            "memory usage: 35.3+ KB\n"
          ]
        }
      ],
      "source": [
        "temp_df2.info()"
      ]
    },
    {
      "cell_type": "code",
      "execution_count": null,
      "metadata": {
        "id": "A87JrX4N6R2V",
        "outputId": "438ccdf7-d939-48d8-ccd1-76d4a6ff110a"
      },
      "outputs": [
        {
          "name": "stderr",
          "output_type": "stream",
          "text": [
            "/Users/ruserel/opt/anaconda3/lib/python3.8/site-packages/seaborn/distributions.py:2551: FutureWarning: `distplot` is a deprecated function and will be removed in a future version. Please adapt your code to use either `displot` (a figure-level function with similar flexibility) or `histplot` (an axes-level function for histograms).\n",
            "  warnings.warn(msg, FutureWarning)\n",
            "/Users/ruserel/opt/anaconda3/lib/python3.8/site-packages/seaborn/_decorators.py:36: FutureWarning: Pass the following variable as a keyword arg: x. From version 0.12, the only valid positional argument will be `data`, and passing other arguments without an explicit keyword will result in an error or misinterpretation.\n",
            "  warnings.warn(\n"
          ]
        },
        {
          "data": {
            "image/png": "[encoded data removed]",
            "text/plain": [
              "<Figure size 1152x576 with 2 Axes>"
            ]
          },
          "metadata": {
            "needs_background": "light"
          },
          "output_type": "display_data"
        }
      ],
      "source": [
        "#Distribution of intensity for Bead_ID 10\n",
        "plt.figure(figsize=(16,8))\n",
        "plt.subplot(2,2,1)\n",
        "sns.distplot(temp_df2['Intensity'])\n",
        "plt.subplot(2,2,2)\n",
        "sns.boxplot(temp_df2['Intensity'])\n",
        "plt.show()"
      ]
    },
    {
      "cell_type": "code",
      "execution_count": null,
      "metadata": {
        "id": "szhcfqqF6R2V"
      },
      "outputs": [],
      "source": []
    },
    {
      "cell_type": "markdown",
      "metadata": {
        "id": "FZ2O6ZCk6R2V"
      },
      "source": [
        "There are a few anomaly detection methods are normally used for outlier detection inclluding Z scores,\n",
        "box plots and unsupervised ML methods. In this instance, since the data is not normally distributed, the most suitable and simplest to detect outliers in the intensity data is a boxplot. Outliers are points that are less than the Min(Q1 - 1.5 x IQR) or greater than Max(Q3 + 1.5 x IQR)\n",
        "We need to define a funtion that selects outliers in a data set.\n"
      ]
    },
    {
      "cell_type": "markdown",
      "metadata": {
        "id": "is3d3eaj6R2V"
      },
      "source": [
        "In order to avoid removing hits that are misidentified as outliers, we can first group the data by Bead-ID, and then detect outliers for each bead-ID. We can define a function that does this."
      ]
    },
    {
      "cell_type": "code",
      "execution_count": null,
      "metadata": {
        "id": "moclLQFK6R2V"
      },
      "outputs": [],
      "source": [
        "# Detect the outliers\n",
        "def outlierDetector(col):  \n",
        "    Q3 = np.quantile( col, 0.75)\n",
        "    Q1 = np.quantile( col, 0.25)\n",
        "    IQR = Q3 - Q1\n",
        "    Min = Q1 - 1.5 * IQR\n",
        "    Max = Q3 + 1.5 * IQR\n",
        "    if col > Min and col < Max:\n",
        "        outlier = 0\n",
        "    else: \n",
        "        outlier = 1\n",
        "        \n",
        "    return outlier\n",
        " \n",
        " \n"
      ]
    },
    {
      "cell_type": "code",
      "source": [
        "df.head()"
      ],
      "metadata": {
        "id": "5Q2BhYJ6IwcR",
        "outputId": "8c5ebef2-2288-405a-d896-a8345043f1e4",
        "colab": {
          "base_uri": "https://localhost:8080/",
          "height": 206
        }
      },
      "execution_count": 15,
      "outputs": [
        {
          "output_type": "execute_result",
          "data": {
            "text/plain": [
              "   FOV  Bead_ID     BB1     BB2      BB3          BL        81nM\n",
              "0    1        3  CP_692  CP_742   CP_247  108.000474  114.849700\n",
              "1    1       12  CP_981  CP_482  CP_1123  112.035264  117.157116\n",
              "2    1       13  CP_781  CP_165   CP_958  110.413860  120.200005\n",
              "3    1       26  CP_266  CP_986   CP_394  111.415696  115.645036\n",
              "4    1       28  CP_173  CP_834   CP_310  112.760089  117.613977"
            ],
            "text/html": [
              "\n",
              "  <div id=\"df-9b656264-4450-4997-800d-cb630a0e9fa8\">\n",
              "    <div class=\"colab-df-container\">\n",
              "      <div>\n",
              "<style scoped>\n",
              "    .dataframe tbody tr th:only-of-type {\n",
              "        vertical-align: middle;\n",
              "    }\n",
              "\n",
              "    .dataframe tbody tr th {\n",
              "        vertical-align: top;\n",
              "    }\n",
              "\n",
              "    .dataframe thead th {\n",
              "        text-align: right;\n",
              "    }\n",
              "</style>\n",
              "<table border=\"1\" class=\"dataframe\">\n",
              "  <thead>\n",
              "    <tr style=\"text-align: right;\">\n",
              "      <th></th>\n",
              "      <th>FOV</th>\n",
              "      <th>Bead_ID</th>\n",
              "      <th>BB1</th>\n",
              "      <th>BB2</th>\n",
              "      <th>BB3</th>\n",
              "      <th>BL</th>\n",
              "      <th>81nM</th>\n",
              "    </tr>\n",
              "  </thead>\n",
              "  <tbody>\n",
              "    <tr>\n",
              "      <th>0</th>\n",
              "      <td>1</td>\n",
              "      <td>3</td>\n",
              "      <td>CP_692</td>\n",
              "      <td>CP_742</td>\n",
              "      <td>CP_247</td>\n",
              "      <td>108.000474</td>\n",
              "      <td>114.849700</td>\n",
              "    </tr>\n",
              "    <tr>\n",
              "      <th>1</th>\n",
              "      <td>1</td>\n",
              "      <td>12</td>\n",
              "      <td>CP_981</td>\n",
              "      <td>CP_482</td>\n",
              "      <td>CP_1123</td>\n",
              "      <td>112.035264</td>\n",
              "      <td>117.157116</td>\n",
              "    </tr>\n",
              "    <tr>\n",
              "      <th>2</th>\n",
              "      <td>1</td>\n",
              "      <td>13</td>\n",
              "      <td>CP_781</td>\n",
              "      <td>CP_165</td>\n",
              "      <td>CP_958</td>\n",
              "      <td>110.413860</td>\n",
              "      <td>120.200005</td>\n",
              "    </tr>\n",
              "    <tr>\n",
              "      <th>3</th>\n",
              "      <td>1</td>\n",
              "      <td>26</td>\n",
              "      <td>CP_266</td>\n",
              "      <td>CP_986</td>\n",
              "      <td>CP_394</td>\n",
              "      <td>111.415696</td>\n",
              "      <td>115.645036</td>\n",
              "    </tr>\n",
              "    <tr>\n",
              "      <th>4</th>\n",
              "      <td>1</td>\n",
              "      <td>28</td>\n",
              "      <td>CP_173</td>\n",
              "      <td>CP_834</td>\n",
              "      <td>CP_310</td>\n",
              "      <td>112.760089</td>\n",
              "      <td>117.613977</td>\n",
              "    </tr>\n",
              "  </tbody>\n",
              "</table>\n",
              "</div>\n",
              "      <button class=\"colab-df-convert\" onclick=\"convertToInteractive('df-9b656264-4450-4997-800d-cb630a0e9fa8')\"\n",
              "              title=\"Convert this dataframe to an interactive table.\"\n",
              "              style=\"display:none;\">\n",
              "        \n",
              "  <svg xmlns=\"http://www.w3.org/2000/svg\" height=\"24px\"viewBox=\"0 0 24 24\"\n",
              "       width=\"24px\">\n",
              "    <path d=\"M0 0h24v24H0V0z\" fill=\"none\"/>\n",
              "    <path d=\"M18.56 5.44l.94 2.06.94-2.06 2.06-.94-2.06-.94-.94-2.06-.94 2.06-2.06.94zm-11 1L8.5 8.5l.94-2.06 2.06-.94-2.06-.94L8.5 2.5l-.94 2.06-2.06.94zm10 10l.94 2.06.94-2.06 2.06-.94-2.06-.94-.94-2.06-.94 2.06-2.06.94z\"/><path d=\"M17.41 7.96l-1.37-1.37c-.4-.4-.92-.59-1.43-.59-.52 0-1.04.2-1.43.59L10.3 9.45l-7.72 7.72c-.78.78-.78 2.05 0 2.83L4 21.41c.39.39.9.59 1.41.59.51 0 1.02-.2 1.41-.59l7.78-7.78 2.81-2.81c.8-.78.8-2.07 0-2.86zM5.41 20L4 18.59l7.72-7.72 1.47 1.35L5.41 20z\"/>\n",
              "  </svg>\n",
              "      </button>\n",
              "      \n",
              "  <style>\n",
              "    .colab-df-container {\n",
              "      display:flex;\n",
              "      flex-wrap:wrap;\n",
              "      gap: 12px;\n",
              "    }\n",
              "\n",
              "    .colab-df-convert {\n",
              "      background-color: #E8F0FE;\n",
              "      border: none;\n",
              "      border-radius: 50%;\n",
              "      cursor: pointer;\n",
              "      display: none;\n",
              "      fill: #1967D2;\n",
              "      height: 32px;\n",
              "      padding: 0 0 0 0;\n",
              "      width: 32px;\n",
              "    }\n",
              "\n",
              "    .colab-df-convert:hover {\n",
              "      background-color: #E2EBFA;\n",
              "      box-shadow: 0px 1px 2px rgba(60, 64, 67, 0.3), 0px 1px 3px 1px rgba(60, 64, 67, 0.15);\n",
              "      fill: #174EA6;\n",
              "    }\n",
              "\n",
              "    [theme=dark] .colab-df-convert {\n",
              "      background-color: #3B4455;\n",
              "      fill: #D2E3FC;\n",
              "    }\n",
              "\n",
              "    [theme=dark] .colab-df-convert:hover {\n",
              "      background-color: #434B5C;\n",
              "      box-shadow: 0px 1px 3px 1px rgba(0, 0, 0, 0.15);\n",
              "      filter: drop-shadow(0px 1px 2px rgba(0, 0, 0, 0.3));\n",
              "      fill: #FFFFFF;\n",
              "    }\n",
              "  </style>\n",
              "\n",
              "      <script>\n",
              "        const buttonEl =\n",
              "          document.querySelector('#df-9b656264-4450-4997-800d-cb630a0e9fa8 button.colab-df-convert');\n",
              "        buttonEl.style.display =\n",
              "          google.colab.kernel.accessAllowed ? 'block' : 'none';\n",
              "\n",
              "        async function convertToInteractive(key) {\n",
              "          const element = document.querySelector('#df-9b656264-4450-4997-800d-cb630a0e9fa8');\n",
              "          const dataTable =\n",
              "            await google.colab.kernel.invokeFunction('convertToInteractive',\n",
              "                                                     [key], {});\n",
              "          if (!dataTable) return;\n",
              "\n",
              "          const docLinkHtml = 'Like what you see? Visit the ' +\n",
              "            '<a target=\"_blank\" href=https://colab.research.google.com/notebooks/data_table.ipynb>data table notebook</a>'\n",
              "            + ' to learn more about interactive tables.';\n",
              "          element.innerHTML = '';\n",
              "          dataTable['output_type'] = 'display_data';\n",
              "          await google.colab.output.renderOutput(dataTable, element);\n",
              "          const docLink = document.createElement('div');\n",
              "          docLink.innerHTML = docLinkHtml;\n",
              "          element.appendChild(docLink);\n",
              "        }\n",
              "      </script>\n",
              "    </div>\n",
              "  </div>\n",
              "  "
            ]
          },
          "metadata": {},
          "execution_count": 15
        }
      ]
    },
    {
      "cell_type": "code",
      "source": [
        "Q1 = df[\"81nM\"].quantile(0.25)\n",
        "Q3 = df[\"81nM\"].quantile(0.75)\n",
        "IQR = np.diff(df[\"81nM\"].quantile([0.25,0.75]))[0]\n",
        "S = 1.5*IQR\n",
        "print(Q1, Q3, IQR, S)"
      ],
      "metadata": {
        "id": "d2gMNziwC2ce",
        "outputId": "349c9ee5-378c-45fd-dd92-a96a254ccf7c",
        "colab": {
          "base_uri": "https://localhost:8080/"
        }
      },
      "execution_count": 16,
      "outputs": [
        {
          "output_type": "stream",
          "name": "stdout",
          "text": [
            "140.1007197929667 149.9727437910035 9.87202399803681 14.808035997055214\n"
          ]
        }
      ]
    },
    {
      "cell_type": "code",
      "source": [
        "def iqr(x):\n",
        "  S = 1.5*IQR\n",
        "  if x < Q1 - S or x > Q3 + S:\n",
        "      return False\n",
        "  else:\n",
        "      return True"
      ],
      "metadata": {
        "id": "3MCZqO6vHopa"
      },
      "execution_count": 17,
      "outputs": []
    },
    {
      "cell_type": "code",
      "source": [
        "df_groupedby_Bead_ID = df.groupby(\"Bead_ID\")"
      ],
      "metadata": {
        "id": "hXdk_n2ZI8a0"
      },
      "execution_count": 19,
      "outputs": []
    },
    {
      "cell_type": "code",
      "source": [
        "\n",
        "temp = df_groupedby_Bead_ID.get_group(4)\n",
        "temp[\"isOutlier\"]= temp[\"81nM\"].apply(iqr)\n",
        "temp"
      ],
      "metadata": {
        "id": "031LUmFqJGXz",
        "outputId": "f93f5654-515d-475a-fee5-c5c25fc5419b",
        "colab": {
          "base_uri": "https://localhost:8080/",
          "height": 551
        }
      },
      "execution_count": 23,
      "outputs": [
        {
          "output_type": "stream",
          "name": "stderr",
          "text": [
            "/usr/local/lib/python3.7/dist-packages/ipykernel_launcher.py:2: SettingWithCopyWarning: \n",
            "A value is trying to be set on a copy of a slice from a DataFrame.\n",
            "Try using .loc[row_indexer,col_indexer] = value instead\n",
            "\n",
            "See the caveats in the documentation: https://pandas.pydata.org/pandas-docs/stable/user_guide/indexing.html#returning-a-view-versus-a-copy\n",
            "  \n"
          ]
        },
        {
          "output_type": "execute_result",
          "data": {
            "text/plain": [
              "          FOV  Bead_ID     BB1      BB2      BB3          BL        81nM  \\\n",
              "80587       5        4  CP_692   CP_923   CP_440  109.922482  129.758076   \n",
              "199622     10        4  CP_692   CP_616  CP_1223  107.709487  123.197717   \n",
              "224662     11        4  CP_266   CP_590    CP_79  110.408738  137.590372   \n",
              "274316     13        4  CP_119   CP_722   CP_995  108.658847  124.675808   \n",
              "367883     17        4  CP_266   CP_922   CP_137  105.890516  136.995045   \n",
              "...       ...      ...     ...      ...      ...         ...         ...   \n",
              "17939320  780        4  CP_266   CP_479  CP_1185  112.181722  125.874367   \n",
              "17961963  781        4  CP_876  CP_1030    CP_78  107.458066  123.922655   \n",
              "18004932  783        4  CP_173   CP_209   CP_576  109.092984  126.012073   \n",
              "18142425  790        4  CP_266   CP_506    CP_35  108.307508  130.000930   \n",
              "18163678  791        4  CP_763   CP_820   CP_842  109.707059  126.593217   \n",
              "\n",
              "          isOutlier  \n",
              "80587          True  \n",
              "199622        False  \n",
              "224662         True  \n",
              "274316        False  \n",
              "367883         True  \n",
              "...             ...  \n",
              "17939320       True  \n",
              "17961963      False  \n",
              "18004932       True  \n",
              "18142425       True  \n",
              "18163678       True  \n",
              "\n",
              "[430 rows x 8 columns]"
            ],
            "text/html": [
              "\n",
              "  <div id=\"df-2397ef3d-01cd-4ad5-a102-fd7fa6aa147e\">\n",
              "    <div class=\"colab-df-container\">\n",
              "      <div>\n",
              "<style scoped>\n",
              "    .dataframe tbody tr th:only-of-type {\n",
              "        vertical-align: middle;\n",
              "    }\n",
              "\n",
              "    .dataframe tbody tr th {\n",
              "        vertical-align: top;\n",
              "    }\n",
              "\n",
              "    .dataframe thead th {\n",
              "        text-align: right;\n",
              "    }\n",
              "</style>\n",
              "<table border=\"1\" class=\"dataframe\">\n",
              "  <thead>\n",
              "    <tr style=\"text-align: right;\">\n",
              "      <th></th>\n",
              "      <th>FOV</th>\n",
              "      <th>Bead_ID</th>\n",
              "      <th>BB1</th>\n",
              "      <th>BB2</th>\n",
              "      <th>BB3</th>\n",
              "      <th>BL</th>\n",
              "      <th>81nM</th>\n",
              "      <th>isOutlier</th>\n",
              "    </tr>\n",
              "  </thead>\n",
              "  <tbody>\n",
              "    <tr>\n",
              "      <th>80587</th>\n",
              "      <td>5</td>\n",
              "      <td>4</td>\n",
              "      <td>CP_692</td>\n",
              "      <td>CP_923</td>\n",
              "      <td>CP_440</td>\n",
              "      <td>109.922482</td>\n",
              "      <td>129.758076</td>\n",
              "      <td>True</td>\n",
              "    </tr>\n",
              "    <tr>\n",
              "      <th>199622</th>\n",
              "      <td>10</td>\n",
              "      <td>4</td>\n",
              "      <td>CP_692</td>\n",
              "      <td>CP_616</td>\n",
              "      <td>CP_1223</td>\n",
              "      <td>107.709487</td>\n",
              "      <td>123.197717</td>\n",
              "      <td>False</td>\n",
              "    </tr>\n",
              "    <tr>\n",
              "      <th>224662</th>\n",
              "      <td>11</td>\n",
              "      <td>4</td>\n",
              "      <td>CP_266</td>\n",
              "      <td>CP_590</td>\n",
              "      <td>CP_79</td>\n",
              "      <td>110.408738</td>\n",
              "      <td>137.590372</td>\n",
              "      <td>True</td>\n",
              "    </tr>\n",
              "    <tr>\n",
              "      <th>274316</th>\n",
              "      <td>13</td>\n",
              "      <td>4</td>\n",
              "      <td>CP_119</td>\n",
              "      <td>CP_722</td>\n",
              "      <td>CP_995</td>\n",
              "      <td>108.658847</td>\n",
              "      <td>124.675808</td>\n",
              "      <td>False</td>\n",
              "    </tr>\n",
              "    <tr>\n",
              "      <th>367883</th>\n",
              "      <td>17</td>\n",
              "      <td>4</td>\n",
              "      <td>CP_266</td>\n",
              "      <td>CP_922</td>\n",
              "      <td>CP_137</td>\n",
              "      <td>105.890516</td>\n",
              "      <td>136.995045</td>\n",
              "      <td>True</td>\n",
              "    </tr>\n",
              "    <tr>\n",
              "      <th>...</th>\n",
              "      <td>...</td>\n",
              "      <td>...</td>\n",
              "      <td>...</td>\n",
              "      <td>...</td>\n",
              "      <td>...</td>\n",
              "      <td>...</td>\n",
              "      <td>...</td>\n",
              "      <td>...</td>\n",
              "    </tr>\n",
              "    <tr>\n",
              "      <th>17939320</th>\n",
              "      <td>780</td>\n",
              "      <td>4</td>\n",
              "      <td>CP_266</td>\n",
              "      <td>CP_479</td>\n",
              "      <td>CP_1185</td>\n",
              "      <td>112.181722</td>\n",
              "      <td>125.874367</td>\n",
              "      <td>True</td>\n",
              "    </tr>\n",
              "    <tr>\n",
              "      <th>17961963</th>\n",
              "      <td>781</td>\n",
              "      <td>4</td>\n",
              "      <td>CP_876</td>\n",
              "      <td>CP_1030</td>\n",
              "      <td>CP_78</td>\n",
              "      <td>107.458066</td>\n",
              "      <td>123.922655</td>\n",
              "      <td>False</td>\n",
              "    </tr>\n",
              "    <tr>\n",
              "      <th>18004932</th>\n",
              "      <td>783</td>\n",
              "      <td>4</td>\n",
              "      <td>CP_173</td>\n",
              "      <td>CP_209</td>\n",
              "      <td>CP_576</td>\n",
              "      <td>109.092984</td>\n",
              "      <td>126.012073</td>\n",
              "      <td>True</td>\n",
              "    </tr>\n",
              "    <tr>\n",
              "      <th>18142425</th>\n",
              "      <td>790</td>\n",
              "      <td>4</td>\n",
              "      <td>CP_266</td>\n",
              "      <td>CP_506</td>\n",
              "      <td>CP_35</td>\n",
              "      <td>108.307508</td>\n",
              "      <td>130.000930</td>\n",
              "      <td>True</td>\n",
              "    </tr>\n",
              "    <tr>\n",
              "      <th>18163678</th>\n",
              "      <td>791</td>\n",
              "      <td>4</td>\n",
              "      <td>CP_763</td>\n",
              "      <td>CP_820</td>\n",
              "      <td>CP_842</td>\n",
              "      <td>109.707059</td>\n",
              "      <td>126.593217</td>\n",
              "      <td>True</td>\n",
              "    </tr>\n",
              "  </tbody>\n",
              "</table>\n",
              "<p>430 rows × 8 columns</p>\n",
              "</div>\n",
              "      <button class=\"colab-df-convert\" onclick=\"convertToInteractive('df-2397ef3d-01cd-4ad5-a102-fd7fa6aa147e')\"\n",
              "              title=\"Convert this dataframe to an interactive table.\"\n",
              "              style=\"display:none;\">\n",
              "        \n",
              "  <svg xmlns=\"http://www.w3.org/2000/svg\" height=\"24px\"viewBox=\"0 0 24 24\"\n",
              "       width=\"24px\">\n",
              "    <path d=\"M0 0h24v24H0V0z\" fill=\"none\"/>\n",
              "    <path d=\"M18.56 5.44l.94 2.06.94-2.06 2.06-.94-2.06-.94-.94-2.06-.94 2.06-2.06.94zm-11 1L8.5 8.5l.94-2.06 2.06-.94-2.06-.94L8.5 2.5l-.94 2.06-2.06.94zm10 10l.94 2.06.94-2.06 2.06-.94-2.06-.94-.94-2.06-.94 2.06-2.06.94z\"/><path d=\"M17.41 7.96l-1.37-1.37c-.4-.4-.92-.59-1.43-.59-.52 0-1.04.2-1.43.59L10.3 9.45l-7.72 7.72c-.78.78-.78 2.05 0 2.83L4 21.41c.39.39.9.59 1.41.59.51 0 1.02-.2 1.41-.59l7.78-7.78 2.81-2.81c.8-.78.8-2.07 0-2.86zM5.41 20L4 18.59l7.72-7.72 1.47 1.35L5.41 20z\"/>\n",
              "  </svg>\n",
              "      </button>\n",
              "      \n",
              "  <style>\n",
              "    .colab-df-container {\n",
              "      display:flex;\n",
              "      flex-wrap:wrap;\n",
              "      gap: 12px;\n",
              "    }\n",
              "\n",
              "    .colab-df-convert {\n",
              "      background-color: #E8F0FE;\n",
              "      border: none;\n",
              "      border-radius: 50%;\n",
              "      cursor: pointer;\n",
              "      display: none;\n",
              "      fill: #1967D2;\n",
              "      height: 32px;\n",
              "      padding: 0 0 0 0;\n",
              "      width: 32px;\n",
              "    }\n",
              "\n",
              "    .colab-df-convert:hover {\n",
              "      background-color: #E2EBFA;\n",
              "      box-shadow: 0px 1px 2px rgba(60, 64, 67, 0.3), 0px 1px 3px 1px rgba(60, 64, 67, 0.15);\n",
              "      fill: #174EA6;\n",
              "    }\n",
              "\n",
              "    [theme=dark] .colab-df-convert {\n",
              "      background-color: #3B4455;\n",
              "      fill: #D2E3FC;\n",
              "    }\n",
              "\n",
              "    [theme=dark] .colab-df-convert:hover {\n",
              "      background-color: #434B5C;\n",
              "      box-shadow: 0px 1px 3px 1px rgba(0, 0, 0, 0.15);\n",
              "      filter: drop-shadow(0px 1px 2px rgba(0, 0, 0, 0.3));\n",
              "      fill: #FFFFFF;\n",
              "    }\n",
              "  </style>\n",
              "\n",
              "      <script>\n",
              "        const buttonEl =\n",
              "          document.querySelector('#df-2397ef3d-01cd-4ad5-a102-fd7fa6aa147e button.colab-df-convert');\n",
              "        buttonEl.style.display =\n",
              "          google.colab.kernel.accessAllowed ? 'block' : 'none';\n",
              "\n",
              "        async function convertToInteractive(key) {\n",
              "          const element = document.querySelector('#df-2397ef3d-01cd-4ad5-a102-fd7fa6aa147e');\n",
              "          const dataTable =\n",
              "            await google.colab.kernel.invokeFunction('convertToInteractive',\n",
              "                                                     [key], {});\n",
              "          if (!dataTable) return;\n",
              "\n",
              "          const docLinkHtml = 'Like what you see? Visit the ' +\n",
              "            '<a target=\"_blank\" href=https://colab.research.google.com/notebooks/data_table.ipynb>data table notebook</a>'\n",
              "            + ' to learn more about interactive tables.';\n",
              "          element.innerHTML = '';\n",
              "          dataTable['output_type'] = 'display_data';\n",
              "          await google.colab.output.renderOutput(dataTable, element);\n",
              "          const docLink = document.createElement('div');\n",
              "          docLink.innerHTML = docLinkHtml;\n",
              "          element.appendChild(docLink);\n",
              "        }\n",
              "      </script>\n",
              "    </div>\n",
              "  </div>\n",
              "  "
            ]
          },
          "metadata": {},
          "execution_count": 23
        }
      ]
    },
    {
      "cell_type": "code",
      "execution_count": 11,
      "metadata": {
        "id": "aOFZhpsz6R2W"
      },
      "outputs": [],
      "source": [
        "df[\"isOutlier\"]= df[\"81nM\"].apply(iqr)"
      ]
    },
    {
      "cell_type": "code",
      "source": [
        "df.head()"
      ],
      "metadata": {
        "id": "Y5S2CJEBHsx1",
        "outputId": "3b20dda1-b2d5-4387-dc49-2197e5a3c415",
        "colab": {
          "base_uri": "https://localhost:8080/",
          "height": 206
        }
      },
      "execution_count": 12,
      "outputs": [
        {
          "output_type": "execute_result",
          "data": {
            "text/plain": [
              "   FOV  Bead_ID     BB1     BB2      BB3          BL        81nM  isOutlier\n",
              "0    1        3  CP_692  CP_742   CP_247  108.000474  114.849700      False\n",
              "1    1       12  CP_981  CP_482  CP_1123  112.035264  117.157116      False\n",
              "2    1       13  CP_781  CP_165   CP_958  110.413860  120.200005      False\n",
              "3    1       26  CP_266  CP_986   CP_394  111.415696  115.645036      False\n",
              "4    1       28  CP_173  CP_834   CP_310  112.760089  117.613977      False"
            ],
            "text/html": [
              "\n",
              "  <div id=\"df-a257a3b8-1033-484f-a088-127662a3fc5d\">\n",
              "    <div class=\"colab-df-container\">\n",
              "      <div>\n",
              "<style scoped>\n",
              "    .dataframe tbody tr th:only-of-type {\n",
              "        vertical-align: middle;\n",
              "    }\n",
              "\n",
              "    .dataframe tbody tr th {\n",
              "        vertical-align: top;\n",
              "    }\n",
              "\n",
              "    .dataframe thead th {\n",
              "        text-align: right;\n",
              "    }\n",
              "</style>\n",
              "<table border=\"1\" class=\"dataframe\">\n",
              "  <thead>\n",
              "    <tr style=\"text-align: right;\">\n",
              "      <th></th>\n",
              "      <th>FOV</th>\n",
              "      <th>Bead_ID</th>\n",
              "      <th>BB1</th>\n",
              "      <th>BB2</th>\n",
              "      <th>BB3</th>\n",
              "      <th>BL</th>\n",
              "      <th>81nM</th>\n",
              "      <th>isOutlier</th>\n",
              "    </tr>\n",
              "  </thead>\n",
              "  <tbody>\n",
              "    <tr>\n",
              "      <th>0</th>\n",
              "      <td>1</td>\n",
              "      <td>3</td>\n",
              "      <td>CP_692</td>\n",
              "      <td>CP_742</td>\n",
              "      <td>CP_247</td>\n",
              "      <td>108.000474</td>\n",
              "      <td>114.849700</td>\n",
              "      <td>False</td>\n",
              "    </tr>\n",
              "    <tr>\n",
              "      <th>1</th>\n",
              "      <td>1</td>\n",
              "      <td>12</td>\n",
              "      <td>CP_981</td>\n",
              "      <td>CP_482</td>\n",
              "      <td>CP_1123</td>\n",
              "      <td>112.035264</td>\n",
              "      <td>117.157116</td>\n",
              "      <td>False</td>\n",
              "    </tr>\n",
              "    <tr>\n",
              "      <th>2</th>\n",
              "      <td>1</td>\n",
              "      <td>13</td>\n",
              "      <td>CP_781</td>\n",
              "      <td>CP_165</td>\n",
              "      <td>CP_958</td>\n",
              "      <td>110.413860</td>\n",
              "      <td>120.200005</td>\n",
              "      <td>False</td>\n",
              "    </tr>\n",
              "    <tr>\n",
              "      <th>3</th>\n",
              "      <td>1</td>\n",
              "      <td>26</td>\n",
              "      <td>CP_266</td>\n",
              "      <td>CP_986</td>\n",
              "      <td>CP_394</td>\n",
              "      <td>111.415696</td>\n",
              "      <td>115.645036</td>\n",
              "      <td>False</td>\n",
              "    </tr>\n",
              "    <tr>\n",
              "      <th>4</th>\n",
              "      <td>1</td>\n",
              "      <td>28</td>\n",
              "      <td>CP_173</td>\n",
              "      <td>CP_834</td>\n",
              "      <td>CP_310</td>\n",
              "      <td>112.760089</td>\n",
              "      <td>117.613977</td>\n",
              "      <td>False</td>\n",
              "    </tr>\n",
              "  </tbody>\n",
              "</table>\n",
              "</div>\n",
              "      <button class=\"colab-df-convert\" onclick=\"convertToInteractive('df-a257a3b8-1033-484f-a088-127662a3fc5d')\"\n",
              "              title=\"Convert this dataframe to an interactive table.\"\n",
              "              style=\"display:none;\">\n",
              "        \n",
              "  <svg xmlns=\"http://www.w3.org/2000/svg\" height=\"24px\"viewBox=\"0 0 24 24\"\n",
              "       width=\"24px\">\n",
              "    <path d=\"M0 0h24v24H0V0z\" fill=\"none\"/>\n",
              "    <path d=\"M18.56 5.44l.94 2.06.94-2.06 2.06-.94-2.06-.94-.94-2.06-.94 2.06-2.06.94zm-11 1L8.5 8.5l.94-2.06 2.06-.94-2.06-.94L8.5 2.5l-.94 2.06-2.06.94zm10 10l.94 2.06.94-2.06 2.06-.94-2.06-.94-.94-2.06-.94 2.06-2.06.94z\"/><path d=\"M17.41 7.96l-1.37-1.37c-.4-.4-.92-.59-1.43-.59-.52 0-1.04.2-1.43.59L10.3 9.45l-7.72 7.72c-.78.78-.78 2.05 0 2.83L4 21.41c.39.39.9.59 1.41.59.51 0 1.02-.2 1.41-.59l7.78-7.78 2.81-2.81c.8-.78.8-2.07 0-2.86zM5.41 20L4 18.59l7.72-7.72 1.47 1.35L5.41 20z\"/>\n",
              "  </svg>\n",
              "      </button>\n",
              "      \n",
              "  <style>\n",
              "    .colab-df-container {\n",
              "      display:flex;\n",
              "      flex-wrap:wrap;\n",
              "      gap: 12px;\n",
              "    }\n",
              "\n",
              "    .colab-df-convert {\n",
              "      background-color: #E8F0FE;\n",
              "      border: none;\n",
              "      border-radius: 50%;\n",
              "      cursor: pointer;\n",
              "      display: none;\n",
              "      fill: #1967D2;\n",
              "      height: 32px;\n",
              "      padding: 0 0 0 0;\n",
              "      width: 32px;\n",
              "    }\n",
              "\n",
              "    .colab-df-convert:hover {\n",
              "      background-color: #E2EBFA;\n",
              "      box-shadow: 0px 1px 2px rgba(60, 64, 67, 0.3), 0px 1px 3px 1px rgba(60, 64, 67, 0.15);\n",
              "      fill: #174EA6;\n",
              "    }\n",
              "\n",
              "    [theme=dark] .colab-df-convert {\n",
              "      background-color: #3B4455;\n",
              "      fill: #D2E3FC;\n",
              "    }\n",
              "\n",
              "    [theme=dark] .colab-df-convert:hover {\n",
              "      background-color: #434B5C;\n",
              "      box-shadow: 0px 1px 3px 1px rgba(0, 0, 0, 0.15);\n",
              "      filter: drop-shadow(0px 1px 2px rgba(0, 0, 0, 0.3));\n",
              "      fill: #FFFFFF;\n",
              "    }\n",
              "  </style>\n",
              "\n",
              "      <script>\n",
              "        const buttonEl =\n",
              "          document.querySelector('#df-a257a3b8-1033-484f-a088-127662a3fc5d button.colab-df-convert');\n",
              "        buttonEl.style.display =\n",
              "          google.colab.kernel.accessAllowed ? 'block' : 'none';\n",
              "\n",
              "        async function convertToInteractive(key) {\n",
              "          const element = document.querySelector('#df-a257a3b8-1033-484f-a088-127662a3fc5d');\n",
              "          const dataTable =\n",
              "            await google.colab.kernel.invokeFunction('convertToInteractive',\n",
              "                                                     [key], {});\n",
              "          if (!dataTable) return;\n",
              "\n",
              "          const docLinkHtml = 'Like what you see? Visit the ' +\n",
              "            '<a target=\"_blank\" href=https://colab.research.google.com/notebooks/data_table.ipynb>data table notebook</a>'\n",
              "            + ' to learn more about interactive tables.';\n",
              "          element.innerHTML = '';\n",
              "          dataTable['output_type'] = 'display_data';\n",
              "          await google.colab.output.renderOutput(dataTable, element);\n",
              "          const docLink = document.createElement('div');\n",
              "          docLink.innerHTML = docLinkHtml;\n",
              "          element.appendChild(docLink);\n",
              "        }\n",
              "      </script>\n",
              "    </div>\n",
              "  </div>\n",
              "  "
            ]
          },
          "metadata": {},
          "execution_count": 12
        }
      ]
    },
    {
      "cell_type": "code",
      "execution_count": null,
      "metadata": {
        "id": "8LrCprqt6R2W",
        "outputId": "170f91cf-1c5d-4da6-d789-2212b12f62f2"
      },
      "outputs": [
        {
          "ename": "AttributeError",
          "evalue": "'DataFrame' object has no attribute 'daily_visitors'",
          "output_type": "error",
          "traceback": [
            "\u001b[0;31m---------------------------------------------------------------------------\u001b[0m",
            "\u001b[0;31mAttributeError\u001b[0m                            Traceback (most recent call last)",
            "\u001b[0;32m<ipython-input-60-ddcc891c45f0>\u001b[0m in \u001b[0;36m<module>\u001b[0;34m\u001b[0m\n\u001b[0;32m----> 1\u001b[0;31m \u001b[0mconditions\u001b[0m \u001b[0;34m=\u001b[0m \u001b[0;34m[\u001b[0m\u001b[0mdf\u001b[0m\u001b[0;34m.\u001b[0m\u001b[0mdaily_visitors\u001b[0m \u001b[0;34m>\u001b[0m \u001b[0mdf\u001b[0m\u001b[0;34m.\u001b[0m\u001b[0mgroupby\u001b[0m\u001b[0;34m(\u001b[0m\u001b[0;34m'store_id'\u001b[0m\u001b[0;34m)\u001b[0m\u001b[0;34m[\u001b[0m\u001b[0;34m'daily_visitors'\u001b[0m\u001b[0;34m]\u001b[0m\u001b[0;34m.\u001b[0m\u001b[0mtransform\u001b[0m\u001b[0;34m(\u001b[0m\u001b[0;34m'quantile'\u001b[0m\u001b[0;34m,\u001b[0m \u001b[0;36m0.75\u001b[0m\u001b[0;34m)\u001b[0m\u001b[0;34m,\u001b[0m \u001b[0mdf\u001b[0m\u001b[0;34m.\u001b[0m\u001b[0mdaily_visitors\u001b[0m \u001b[0;34m<\u001b[0m \u001b[0mdf\u001b[0m\u001b[0;34m.\u001b[0m\u001b[0mgroupby\u001b[0m\u001b[0;34m(\u001b[0m\u001b[0;34m'store_id'\u001b[0m\u001b[0;34m)\u001b[0m\u001b[0;34m[\u001b[0m\u001b[0;34m'daily_visitors'\u001b[0m\u001b[0;34m]\u001b[0m\u001b[0;34m.\u001b[0m\u001b[0mtransform\u001b[0m\u001b[0;34m(\u001b[0m\u001b[0;34m'quantile'\u001b[0m\u001b[0;34m,\u001b[0m \u001b[0;36m0.25\u001b[0m\u001b[0;34m)\u001b[0m\u001b[0;34m]\u001b[0m\u001b[0;34m\u001b[0m\u001b[0;34m\u001b[0m\u001b[0m\n\u001b[0m\u001b[1;32m      2\u001b[0m \u001b[0;34m\u001b[0m\u001b[0m\n\u001b[1;32m      3\u001b[0m \u001b[0mchoices\u001b[0m \u001b[0;34m=\u001b[0m \u001b[0;34m[\u001b[0m\u001b[0;36m1\u001b[0m\u001b[0;34m,\u001b[0m\u001b[0;36m1\u001b[0m\u001b[0;34m]\u001b[0m\u001b[0;34m\u001b[0m\u001b[0;34m\u001b[0m\u001b[0m\n\u001b[1;32m      4\u001b[0m \u001b[0;34m\u001b[0m\u001b[0m\n\u001b[1;32m      5\u001b[0m \u001b[0mdf\u001b[0m\u001b[0;34m[\u001b[0m\u001b[0;34m'outlier'\u001b[0m\u001b[0;34m]\u001b[0m \u001b[0;34m=\u001b[0m \u001b[0mnp\u001b[0m\u001b[0;34m.\u001b[0m\u001b[0mselect\u001b[0m\u001b[0;34m(\u001b[0m\u001b[0mconditions\u001b[0m\u001b[0;34m,\u001b[0m \u001b[0mchoices\u001b[0m\u001b[0;34m)\u001b[0m\u001b[0;34m\u001b[0m\u001b[0;34m\u001b[0m\u001b[0m\n",
            "\u001b[0;32m~/opt/anaconda3/lib/python3.8/site-packages/pandas/core/generic.py\u001b[0m in \u001b[0;36m__getattr__\u001b[0;34m(self, name)\u001b[0m\n\u001b[1;32m   5485\u001b[0m         ):\n\u001b[1;32m   5486\u001b[0m             \u001b[0;32mreturn\u001b[0m \u001b[0mself\u001b[0m\u001b[0;34m[\u001b[0m\u001b[0mname\u001b[0m\u001b[0;34m]\u001b[0m\u001b[0;34m\u001b[0m\u001b[0;34m\u001b[0m\u001b[0m\n\u001b[0;32m-> 5487\u001b[0;31m         \u001b[0;32mreturn\u001b[0m \u001b[0mobject\u001b[0m\u001b[0;34m.\u001b[0m\u001b[0m__getattribute__\u001b[0m\u001b[0;34m(\u001b[0m\u001b[0mself\u001b[0m\u001b[0;34m,\u001b[0m \u001b[0mname\u001b[0m\u001b[0;34m)\u001b[0m\u001b[0;34m\u001b[0m\u001b[0;34m\u001b[0m\u001b[0m\n\u001b[0m\u001b[1;32m   5488\u001b[0m \u001b[0;34m\u001b[0m\u001b[0m\n\u001b[1;32m   5489\u001b[0m     \u001b[0;32mdef\u001b[0m \u001b[0m__setattr__\u001b[0m\u001b[0;34m(\u001b[0m\u001b[0mself\u001b[0m\u001b[0;34m,\u001b[0m \u001b[0mname\u001b[0m\u001b[0;34m:\u001b[0m \u001b[0mstr\u001b[0m\u001b[0;34m,\u001b[0m \u001b[0mvalue\u001b[0m\u001b[0;34m)\u001b[0m \u001b[0;34m->\u001b[0m \u001b[0;32mNone\u001b[0m\u001b[0;34m:\u001b[0m\u001b[0;34m\u001b[0m\u001b[0;34m\u001b[0m\u001b[0m\n",
            "\u001b[0;31mAttributeError\u001b[0m: 'DataFrame' object has no attribute 'daily_visitors'"
          ]
        }
      ],
      "source": [
        "In [2272]: conditions = [df.daily_visitors > df.groupby('store_id')['daily_visitors'].transform('quantile', 0.75), df.daily_visitors < df.groupby('store_id')['daily_visitors'].transform('quantile', 0.25)]\n",
        "\n",
        "In [2273]: choices = [1,1]\n",
        "\n",
        "In [2276]: df['outlier'] = np.select(conditions, choices)\n"
      ]
    },
    {
      "cell_type": "code",
      "execution_count": null,
      "metadata": {
        "id": "Okml6gxA6R2W",
        "outputId": "57e8661c-4de1-4768-cb96-5c0a4d36d4dd"
      },
      "outputs": [
        {
          "ename": "ValueError",
          "evalue": "The truth value of a Series is ambiguous. Use a.empty, a.bool(), a.item(), a.any() or a.all().",
          "output_type": "error",
          "traceback": [
            "\u001b[0;31m---------------------------------------------------------------------------\u001b[0m",
            "\u001b[0;31mValueError\u001b[0m                                Traceback (most recent call last)",
            "\u001b[0;32m<ipython-input-51-d7bc62e3321d>\u001b[0m in \u001b[0;36m<module>\u001b[0;34m\u001b[0m\n\u001b[1;32m      1\u001b[0m \u001b[0mdf3\u001b[0m \u001b[0;34m=\u001b[0m \u001b[0mdf\u001b[0m\u001b[0;34m\u001b[0m\u001b[0;34m\u001b[0m\u001b[0m\n\u001b[0;32m----> 2\u001b[0;31m \u001b[0mdf3\u001b[0m\u001b[0;34m[\u001b[0m\u001b[0;34m'outlier'\u001b[0m\u001b[0;34m]\u001b[0m \u001b[0;34m=\u001b[0m \u001b[0mdf\u001b[0m\u001b[0;34m.\u001b[0m\u001b[0mgroupby\u001b[0m\u001b[0;34m(\u001b[0m\u001b[0;34m'Bead_ID'\u001b[0m\u001b[0;34m)\u001b[0m\u001b[0;34m[\u001b[0m\u001b[0;34m'Intensity'\u001b[0m\u001b[0;34m]\u001b[0m\u001b[0;34m.\u001b[0m\u001b[0mapply\u001b[0m\u001b[0;34m(\u001b[0m\u001b[0moutlierDetector\u001b[0m\u001b[0;34m)\u001b[0m\u001b[0;34m\u001b[0m\u001b[0;34m\u001b[0m\u001b[0m\n\u001b[0m",
            "\u001b[0;32m~/opt/anaconda3/lib/python3.8/site-packages/pandas/core/groupby/generic.py\u001b[0m in \u001b[0;36mapply\u001b[0;34m(self, func, *args, **kwargs)\u001b[0m\n\u001b[1;32m    221\u001b[0m     )\n\u001b[1;32m    222\u001b[0m     \u001b[0;32mdef\u001b[0m \u001b[0mapply\u001b[0m\u001b[0;34m(\u001b[0m\u001b[0mself\u001b[0m\u001b[0;34m,\u001b[0m \u001b[0mfunc\u001b[0m\u001b[0;34m,\u001b[0m \u001b[0;34m*\u001b[0m\u001b[0margs\u001b[0m\u001b[0;34m,\u001b[0m \u001b[0;34m**\u001b[0m\u001b[0mkwargs\u001b[0m\u001b[0;34m)\u001b[0m\u001b[0;34m:\u001b[0m\u001b[0;34m\u001b[0m\u001b[0;34m\u001b[0m\u001b[0m\n\u001b[0;32m--> 223\u001b[0;31m         \u001b[0;32mreturn\u001b[0m \u001b[0msuper\u001b[0m\u001b[0;34m(\u001b[0m\u001b[0;34m)\u001b[0m\u001b[0;34m.\u001b[0m\u001b[0mapply\u001b[0m\u001b[0;34m(\u001b[0m\u001b[0mfunc\u001b[0m\u001b[0;34m,\u001b[0m \u001b[0;34m*\u001b[0m\u001b[0margs\u001b[0m\u001b[0;34m,\u001b[0m \u001b[0;34m**\u001b[0m\u001b[0mkwargs\u001b[0m\u001b[0;34m)\u001b[0m\u001b[0;34m\u001b[0m\u001b[0;34m\u001b[0m\u001b[0m\n\u001b[0m\u001b[1;32m    224\u001b[0m \u001b[0;34m\u001b[0m\u001b[0m\n\u001b[1;32m    225\u001b[0m     \u001b[0;34m@\u001b[0m\u001b[0mdoc\u001b[0m\u001b[0;34m(\u001b[0m\u001b[0m_agg_template\u001b[0m\u001b[0;34m,\u001b[0m \u001b[0mexamples\u001b[0m\u001b[0;34m=\u001b[0m\u001b[0m_agg_examples_doc\u001b[0m\u001b[0;34m,\u001b[0m \u001b[0mklass\u001b[0m\u001b[0;34m=\u001b[0m\u001b[0;34m\"Series\"\u001b[0m\u001b[0;34m)\u001b[0m\u001b[0;34m\u001b[0m\u001b[0;34m\u001b[0m\u001b[0m\n",
            "\u001b[0;32m~/opt/anaconda3/lib/python3.8/site-packages/pandas/core/groupby/groupby.py\u001b[0m in \u001b[0;36mapply\u001b[0;34m(self, func, *args, **kwargs)\u001b[0m\n\u001b[1;32m   1273\u001b[0m         \u001b[0;32mwith\u001b[0m \u001b[0moption_context\u001b[0m\u001b[0;34m(\u001b[0m\u001b[0;34m\"mode.chained_assignment\"\u001b[0m\u001b[0;34m,\u001b[0m \u001b[0;32mNone\u001b[0m\u001b[0;34m)\u001b[0m\u001b[0;34m:\u001b[0m\u001b[0;34m\u001b[0m\u001b[0;34m\u001b[0m\u001b[0m\n\u001b[1;32m   1274\u001b[0m             \u001b[0;32mtry\u001b[0m\u001b[0;34m:\u001b[0m\u001b[0;34m\u001b[0m\u001b[0;34m\u001b[0m\u001b[0m\n\u001b[0;32m-> 1275\u001b[0;31m                 \u001b[0mresult\u001b[0m \u001b[0;34m=\u001b[0m \u001b[0mself\u001b[0m\u001b[0;34m.\u001b[0m\u001b[0m_python_apply_general\u001b[0m\u001b[0;34m(\u001b[0m\u001b[0mf\u001b[0m\u001b[0;34m,\u001b[0m \u001b[0mself\u001b[0m\u001b[0;34m.\u001b[0m\u001b[0m_selected_obj\u001b[0m\u001b[0;34m)\u001b[0m\u001b[0;34m\u001b[0m\u001b[0;34m\u001b[0m\u001b[0m\n\u001b[0m\u001b[1;32m   1276\u001b[0m             \u001b[0;32mexcept\u001b[0m \u001b[0mTypeError\u001b[0m\u001b[0;34m:\u001b[0m\u001b[0;34m\u001b[0m\u001b[0;34m\u001b[0m\u001b[0m\n\u001b[1;32m   1277\u001b[0m                 \u001b[0;31m# gh-20949\u001b[0m\u001b[0;34m\u001b[0m\u001b[0;34m\u001b[0m\u001b[0;34m\u001b[0m\u001b[0m\n",
            "\u001b[0;32m~/opt/anaconda3/lib/python3.8/site-packages/pandas/core/groupby/groupby.py\u001b[0m in \u001b[0;36m_python_apply_general\u001b[0;34m(self, f, data)\u001b[0m\n\u001b[1;32m   1307\u001b[0m             \u001b[0mdata\u001b[0m \u001b[0mafter\u001b[0m \u001b[0mapplying\u001b[0m \u001b[0mf\u001b[0m\u001b[0;34m\u001b[0m\u001b[0;34m\u001b[0m\u001b[0m\n\u001b[1;32m   1308\u001b[0m         \"\"\"\n\u001b[0;32m-> 1309\u001b[0;31m         \u001b[0mkeys\u001b[0m\u001b[0;34m,\u001b[0m \u001b[0mvalues\u001b[0m\u001b[0;34m,\u001b[0m \u001b[0mmutated\u001b[0m \u001b[0;34m=\u001b[0m \u001b[0mself\u001b[0m\u001b[0;34m.\u001b[0m\u001b[0mgrouper\u001b[0m\u001b[0;34m.\u001b[0m\u001b[0mapply\u001b[0m\u001b[0;34m(\u001b[0m\u001b[0mf\u001b[0m\u001b[0;34m,\u001b[0m \u001b[0mdata\u001b[0m\u001b[0;34m,\u001b[0m \u001b[0mself\u001b[0m\u001b[0;34m.\u001b[0m\u001b[0maxis\u001b[0m\u001b[0;34m)\u001b[0m\u001b[0;34m\u001b[0m\u001b[0;34m\u001b[0m\u001b[0m\n\u001b[0m\u001b[1;32m   1310\u001b[0m \u001b[0;34m\u001b[0m\u001b[0m\n\u001b[1;32m   1311\u001b[0m         return self._wrap_applied_output(\n",
            "\u001b[0;32m~/opt/anaconda3/lib/python3.8/site-packages/pandas/core/groupby/ops.py\u001b[0m in \u001b[0;36mapply\u001b[0;34m(self, f, data, axis)\u001b[0m\n\u001b[1;32m    850\u001b[0m             \u001b[0;31m# group might be modified\u001b[0m\u001b[0;34m\u001b[0m\u001b[0;34m\u001b[0m\u001b[0;34m\u001b[0m\u001b[0m\n\u001b[1;32m    851\u001b[0m             \u001b[0mgroup_axes\u001b[0m \u001b[0;34m=\u001b[0m \u001b[0mgroup\u001b[0m\u001b[0;34m.\u001b[0m\u001b[0maxes\u001b[0m\u001b[0;34m\u001b[0m\u001b[0;34m\u001b[0m\u001b[0m\n\u001b[0;32m--> 852\u001b[0;31m             \u001b[0mres\u001b[0m \u001b[0;34m=\u001b[0m \u001b[0mf\u001b[0m\u001b[0;34m(\u001b[0m\u001b[0mgroup\u001b[0m\u001b[0;34m)\u001b[0m\u001b[0;34m\u001b[0m\u001b[0;34m\u001b[0m\u001b[0m\n\u001b[0m\u001b[1;32m    853\u001b[0m             \u001b[0;32mif\u001b[0m \u001b[0;32mnot\u001b[0m \u001b[0m_is_indexed_like\u001b[0m\u001b[0;34m(\u001b[0m\u001b[0mres\u001b[0m\u001b[0;34m,\u001b[0m \u001b[0mgroup_axes\u001b[0m\u001b[0;34m,\u001b[0m \u001b[0maxis\u001b[0m\u001b[0;34m)\u001b[0m\u001b[0;34m:\u001b[0m\u001b[0;34m\u001b[0m\u001b[0;34m\u001b[0m\u001b[0m\n\u001b[1;32m    854\u001b[0m                 \u001b[0mmutated\u001b[0m \u001b[0;34m=\u001b[0m \u001b[0;32mTrue\u001b[0m\u001b[0;34m\u001b[0m\u001b[0;34m\u001b[0m\u001b[0m\n",
            "\u001b[0;32m<ipython-input-50-527c4bc6672e>\u001b[0m in \u001b[0;36moutlierDetector\u001b[0;34m(col)\u001b[0m\n\u001b[1;32m      6\u001b[0m     \u001b[0mMin\u001b[0m \u001b[0;34m=\u001b[0m \u001b[0mQ1\u001b[0m \u001b[0;34m-\u001b[0m \u001b[0;36m1.5\u001b[0m \u001b[0;34m*\u001b[0m \u001b[0mIQR\u001b[0m\u001b[0;34m\u001b[0m\u001b[0;34m\u001b[0m\u001b[0m\n\u001b[1;32m      7\u001b[0m     \u001b[0mMax\u001b[0m \u001b[0;34m=\u001b[0m \u001b[0mQ3\u001b[0m \u001b[0;34m+\u001b[0m \u001b[0;36m1.5\u001b[0m \u001b[0;34m*\u001b[0m \u001b[0mIQR\u001b[0m\u001b[0;34m\u001b[0m\u001b[0;34m\u001b[0m\u001b[0m\n\u001b[0;32m----> 8\u001b[0;31m     \u001b[0;32mif\u001b[0m \u001b[0mcol\u001b[0m \u001b[0;34m>\u001b[0m \u001b[0mMin\u001b[0m \u001b[0;32mand\u001b[0m \u001b[0mcol\u001b[0m \u001b[0;34m<\u001b[0m \u001b[0mMax\u001b[0m\u001b[0;34m:\u001b[0m\u001b[0;34m\u001b[0m\u001b[0;34m\u001b[0m\u001b[0m\n\u001b[0m\u001b[1;32m      9\u001b[0m         \u001b[0moutlier\u001b[0m \u001b[0;34m=\u001b[0m \u001b[0;36m0\u001b[0m\u001b[0;34m\u001b[0m\u001b[0;34m\u001b[0m\u001b[0m\n\u001b[1;32m     10\u001b[0m     \u001b[0;32melse\u001b[0m\u001b[0;34m:\u001b[0m\u001b[0;34m\u001b[0m\u001b[0;34m\u001b[0m\u001b[0m\n",
            "\u001b[0;32m~/opt/anaconda3/lib/python3.8/site-packages/pandas/core/generic.py\u001b[0m in \u001b[0;36m__nonzero__\u001b[0;34m(self)\u001b[0m\n\u001b[1;32m   1535\u001b[0m     \u001b[0;34m@\u001b[0m\u001b[0mfinal\u001b[0m\u001b[0;34m\u001b[0m\u001b[0;34m\u001b[0m\u001b[0m\n\u001b[1;32m   1536\u001b[0m     \u001b[0;32mdef\u001b[0m \u001b[0m__nonzero__\u001b[0m\u001b[0;34m(\u001b[0m\u001b[0mself\u001b[0m\u001b[0;34m)\u001b[0m\u001b[0;34m:\u001b[0m\u001b[0;34m\u001b[0m\u001b[0;34m\u001b[0m\u001b[0m\n\u001b[0;32m-> 1537\u001b[0;31m         raise ValueError(\n\u001b[0m\u001b[1;32m   1538\u001b[0m             \u001b[0;34mf\"The truth value of a {type(self).__name__} is ambiguous. \"\u001b[0m\u001b[0;34m\u001b[0m\u001b[0;34m\u001b[0m\u001b[0m\n\u001b[1;32m   1539\u001b[0m             \u001b[0;34m\"Use a.empty, a.bool(), a.item(), a.any() or a.all().\"\u001b[0m\u001b[0;34m\u001b[0m\u001b[0;34m\u001b[0m\u001b[0m\n",
            "\u001b[0;31mValueError\u001b[0m: The truth value of a Series is ambiguous. Use a.empty, a.bool(), a.item(), a.any() or a.all()."
          ]
        }
      ],
      "source": [
        "df3 = df\n",
        "df3['outlier'] = df.groupby('Bead_ID')['Intensity'].apply(outlierDetector)"
      ]
    },
    {
      "cell_type": "code",
      "execution_count": null,
      "metadata": {
        "id": "UHZNLCwI6R2W",
        "outputId": "cbaf96f8-884a-46a7-fee4-e9461ec53c8c"
      },
      "outputs": [
        {
          "data": {
            "text/html": [
              "<div>\n",
              "<style scoped>\n",
              "    .dataframe tbody tr th:only-of-type {\n",
              "        vertical-align: middle;\n",
              "    }\n",
              "\n",
              "    .dataframe tbody tr th {\n",
              "        vertical-align: top;\n",
              "    }\n",
              "\n",
              "    .dataframe thead th {\n",
              "        text-align: right;\n",
              "    }\n",
              "</style>\n",
              "<table border=\"1\" class=\"dataframe\">\n",
              "  <thead>\n",
              "    <tr style=\"text-align: right;\">\n",
              "      <th></th>\n",
              "      <th>FOV</th>\n",
              "      <th>Bead_ID</th>\n",
              "      <th>BB1</th>\n",
              "      <th>BB2</th>\n",
              "      <th>BB3</th>\n",
              "      <th>BL</th>\n",
              "      <th>81nM</th>\n",
              "      <th>Intensity</th>\n",
              "      <th>Outlier</th>\n",
              "      <th>outlier</th>\n",
              "    </tr>\n",
              "  </thead>\n",
              "  <tbody>\n",
              "    <tr>\n",
              "      <th>0</th>\n",
              "      <td>1</td>\n",
              "      <td>3</td>\n",
              "      <td>CP_692</td>\n",
              "      <td>CP_742</td>\n",
              "      <td>CP_247</td>\n",
              "      <td>108.000474</td>\n",
              "      <td>114.849700</td>\n",
              "      <td>6.849226</td>\n",
              "      <td>1.0</td>\n",
              "      <td>1.0</td>\n",
              "    </tr>\n",
              "    <tr>\n",
              "      <th>1</th>\n",
              "      <td>1</td>\n",
              "      <td>12</td>\n",
              "      <td>CP_981</td>\n",
              "      <td>CP_482</td>\n",
              "      <td>CP_1123</td>\n",
              "      <td>112.035264</td>\n",
              "      <td>117.157116</td>\n",
              "      <td>5.121852</td>\n",
              "      <td>1.0</td>\n",
              "      <td>1.0</td>\n",
              "    </tr>\n",
              "    <tr>\n",
              "      <th>2</th>\n",
              "      <td>1</td>\n",
              "      <td>13</td>\n",
              "      <td>CP_781</td>\n",
              "      <td>CP_165</td>\n",
              "      <td>CP_958</td>\n",
              "      <td>110.413860</td>\n",
              "      <td>120.200005</td>\n",
              "      <td>9.786146</td>\n",
              "      <td>1.0</td>\n",
              "      <td>1.0</td>\n",
              "    </tr>\n",
              "    <tr>\n",
              "      <th>3</th>\n",
              "      <td>1</td>\n",
              "      <td>26</td>\n",
              "      <td>CP_266</td>\n",
              "      <td>CP_986</td>\n",
              "      <td>CP_394</td>\n",
              "      <td>111.415696</td>\n",
              "      <td>115.645036</td>\n",
              "      <td>4.229340</td>\n",
              "      <td>1.0</td>\n",
              "      <td>1.0</td>\n",
              "    </tr>\n",
              "    <tr>\n",
              "      <th>4</th>\n",
              "      <td>1</td>\n",
              "      <td>28</td>\n",
              "      <td>CP_173</td>\n",
              "      <td>CP_834</td>\n",
              "      <td>CP_310</td>\n",
              "      <td>112.760089</td>\n",
              "      <td>117.613977</td>\n",
              "      <td>4.853888</td>\n",
              "      <td>1.0</td>\n",
              "      <td>1.0</td>\n",
              "    </tr>\n",
              "  </tbody>\n",
              "</table>\n",
              "</div>"
            ],
            "text/plain": [
              "   FOV  Bead_ID     BB1     BB2      BB3          BL        81nM  Intensity  \\\n",
              "0    1        3  CP_692  CP_742   CP_247  108.000474  114.849700   6.849226   \n",
              "1    1       12  CP_981  CP_482  CP_1123  112.035264  117.157116   5.121852   \n",
              "2    1       13  CP_781  CP_165   CP_958  110.413860  120.200005   9.786146   \n",
              "3    1       26  CP_266  CP_986   CP_394  111.415696  115.645036   4.229340   \n",
              "4    1       28  CP_173  CP_834   CP_310  112.760089  117.613977   4.853888   \n",
              "\n",
              "   Outlier  outlier  \n",
              "0      1.0      1.0  \n",
              "1      1.0      1.0  \n",
              "2      1.0      1.0  \n",
              "3      1.0      1.0  \n",
              "4      1.0      1.0  "
            ]
          },
          "execution_count": 46,
          "metadata": {},
          "output_type": "execute_result"
        }
      ],
      "source": [
        "df.head()"
      ]
    },
    {
      "cell_type": "code",
      "execution_count": null,
      "metadata": {
        "id": "_qMgoXj16R2W"
      },
      "outputs": [],
      "source": [
        "\n",
        "df['Outlier'] = df.groupby('Bead_ID')['Intensity'].apply(iqr)"
      ]
    },
    {
      "cell_type": "code",
      "execution_count": null,
      "metadata": {
        "id": "9LpRIZZ36R2W",
        "outputId": "e8b08766-f388-4136-bf7d-ac0a3fe14e81"
      },
      "outputs": [
        {
          "data": {
            "text/html": [
              "<div>\n",
              "<style scoped>\n",
              "    .dataframe tbody tr th:only-of-type {\n",
              "        vertical-align: middle;\n",
              "    }\n",
              "\n",
              "    .dataframe tbody tr th {\n",
              "        vertical-align: top;\n",
              "    }\n",
              "\n",
              "    .dataframe thead th {\n",
              "        text-align: right;\n",
              "    }\n",
              "</style>\n",
              "<table border=\"1\" class=\"dataframe\">\n",
              "  <thead>\n",
              "    <tr style=\"text-align: right;\">\n",
              "      <th></th>\n",
              "      <th>FOV</th>\n",
              "      <th>Bead_ID</th>\n",
              "      <th>BB1</th>\n",
              "      <th>BB2</th>\n",
              "      <th>BB3</th>\n",
              "      <th>BL</th>\n",
              "      <th>81nM</th>\n",
              "      <th>Intensity</th>\n",
              "      <th>Outlier</th>\n",
              "    </tr>\n",
              "  </thead>\n",
              "  <tbody>\n",
              "    <tr>\n",
              "      <th>0</th>\n",
              "      <td>1</td>\n",
              "      <td>3</td>\n",
              "      <td>CP_692</td>\n",
              "      <td>CP_742</td>\n",
              "      <td>CP_247</td>\n",
              "      <td>108.000474</td>\n",
              "      <td>114.849700</td>\n",
              "      <td>6.849226</td>\n",
              "      <td>6.849226</td>\n",
              "    </tr>\n",
              "    <tr>\n",
              "      <th>1</th>\n",
              "      <td>1</td>\n",
              "      <td>12</td>\n",
              "      <td>CP_981</td>\n",
              "      <td>CP_482</td>\n",
              "      <td>CP_1123</td>\n",
              "      <td>112.035264</td>\n",
              "      <td>117.157116</td>\n",
              "      <td>5.121852</td>\n",
              "      <td>1.000000</td>\n",
              "    </tr>\n",
              "    <tr>\n",
              "      <th>2</th>\n",
              "      <td>1</td>\n",
              "      <td>13</td>\n",
              "      <td>CP_781</td>\n",
              "      <td>CP_165</td>\n",
              "      <td>CP_958</td>\n",
              "      <td>110.413860</td>\n",
              "      <td>120.200005</td>\n",
              "      <td>9.786146</td>\n",
              "      <td>9.786146</td>\n",
              "    </tr>\n",
              "    <tr>\n",
              "      <th>3</th>\n",
              "      <td>1</td>\n",
              "      <td>26</td>\n",
              "      <td>CP_266</td>\n",
              "      <td>CP_986</td>\n",
              "      <td>CP_394</td>\n",
              "      <td>111.415696</td>\n",
              "      <td>115.645036</td>\n",
              "      <td>4.229340</td>\n",
              "      <td>1.000000</td>\n",
              "    </tr>\n",
              "    <tr>\n",
              "      <th>4</th>\n",
              "      <td>1</td>\n",
              "      <td>28</td>\n",
              "      <td>CP_173</td>\n",
              "      <td>CP_834</td>\n",
              "      <td>CP_310</td>\n",
              "      <td>112.760089</td>\n",
              "      <td>117.613977</td>\n",
              "      <td>4.853888</td>\n",
              "      <td>1.000000</td>\n",
              "    </tr>\n",
              "  </tbody>\n",
              "</table>\n",
              "</div>"
            ],
            "text/plain": [
              "   FOV  Bead_ID     BB1     BB2      BB3          BL        81nM  Intensity  \\\n",
              "0    1        3  CP_692  CP_742   CP_247  108.000474  114.849700   6.849226   \n",
              "1    1       12  CP_981  CP_482  CP_1123  112.035264  117.157116   5.121852   \n",
              "2    1       13  CP_781  CP_165   CP_958  110.413860  120.200005   9.786146   \n",
              "3    1       26  CP_266  CP_986   CP_394  111.415696  115.645036   4.229340   \n",
              "4    1       28  CP_173  CP_834   CP_310  112.760089  117.613977   4.853888   \n",
              "\n",
              "    Outlier  \n",
              "0  6.849226  \n",
              "1  1.000000  \n",
              "2  9.786146  \n",
              "3  1.000000  \n",
              "4  1.000000  "
            ]
          },
          "execution_count": 62,
          "metadata": {},
          "output_type": "execute_result"
        }
      ],
      "source": [
        "df.head()"
      ]
    },
    {
      "cell_type": "code",
      "execution_count": null,
      "metadata": {
        "id": "Cqm76kom6R2X",
        "outputId": "57d64ac3-9483-4521-c1d1-b34e807e0c85"
      },
      "outputs": [
        {
          "data": {
            "text/html": [
              "<div>\n",
              "<style scoped>\n",
              "    .dataframe tbody tr th:only-of-type {\n",
              "        vertical-align: middle;\n",
              "    }\n",
              "\n",
              "    .dataframe tbody tr th {\n",
              "        vertical-align: top;\n",
              "    }\n",
              "\n",
              "    .dataframe thead th {\n",
              "        text-align: right;\n",
              "    }\n",
              "</style>\n",
              "<table border=\"1\" class=\"dataframe\">\n",
              "  <thead>\n",
              "    <tr style=\"text-align: right;\">\n",
              "      <th></th>\n",
              "      <th>FOV</th>\n",
              "      <th>Bead_ID</th>\n",
              "      <th>BB1</th>\n",
              "      <th>BB2</th>\n",
              "      <th>BB3</th>\n",
              "      <th>BL</th>\n",
              "      <th>81nM</th>\n",
              "      <th>Intensity</th>\n",
              "      <th>Outlier</th>\n",
              "    </tr>\n",
              "  </thead>\n",
              "  <tbody>\n",
              "    <tr>\n",
              "      <th>0</th>\n",
              "      <td>1</td>\n",
              "      <td>3</td>\n",
              "      <td>CP_692</td>\n",
              "      <td>CP_742</td>\n",
              "      <td>CP_247</td>\n",
              "      <td>108.000474</td>\n",
              "      <td>114.849700</td>\n",
              "      <td>6.849226</td>\n",
              "      <td>1.0</td>\n",
              "    </tr>\n",
              "    <tr>\n",
              "      <th>1</th>\n",
              "      <td>1</td>\n",
              "      <td>12</td>\n",
              "      <td>CP_981</td>\n",
              "      <td>CP_482</td>\n",
              "      <td>CP_1123</td>\n",
              "      <td>112.035264</td>\n",
              "      <td>117.157116</td>\n",
              "      <td>5.121852</td>\n",
              "      <td>1.0</td>\n",
              "    </tr>\n",
              "    <tr>\n",
              "      <th>2</th>\n",
              "      <td>1</td>\n",
              "      <td>13</td>\n",
              "      <td>CP_781</td>\n",
              "      <td>CP_165</td>\n",
              "      <td>CP_958</td>\n",
              "      <td>110.413860</td>\n",
              "      <td>120.200005</td>\n",
              "      <td>9.786146</td>\n",
              "      <td>1.0</td>\n",
              "    </tr>\n",
              "    <tr>\n",
              "      <th>3</th>\n",
              "      <td>1</td>\n",
              "      <td>26</td>\n",
              "      <td>CP_266</td>\n",
              "      <td>CP_986</td>\n",
              "      <td>CP_394</td>\n",
              "      <td>111.415696</td>\n",
              "      <td>115.645036</td>\n",
              "      <td>4.229340</td>\n",
              "      <td>1.0</td>\n",
              "    </tr>\n",
              "    <tr>\n",
              "      <th>4</th>\n",
              "      <td>1</td>\n",
              "      <td>28</td>\n",
              "      <td>CP_173</td>\n",
              "      <td>CP_834</td>\n",
              "      <td>CP_310</td>\n",
              "      <td>112.760089</td>\n",
              "      <td>117.613977</td>\n",
              "      <td>4.853888</td>\n",
              "      <td>1.0</td>\n",
              "    </tr>\n",
              "    <tr>\n",
              "      <th>5</th>\n",
              "      <td>1</td>\n",
              "      <td>32</td>\n",
              "      <td>CP_981</td>\n",
              "      <td>CP_346</td>\n",
              "      <td>CP_586</td>\n",
              "      <td>114.606011</td>\n",
              "      <td>119.978622</td>\n",
              "      <td>5.372611</td>\n",
              "      <td>1.0</td>\n",
              "    </tr>\n",
              "    <tr>\n",
              "      <th>6</th>\n",
              "      <td>1</td>\n",
              "      <td>37</td>\n",
              "      <td>CP_119</td>\n",
              "      <td>CP_328</td>\n",
              "      <td>CP_601</td>\n",
              "      <td>111.144844</td>\n",
              "      <td>117.724606</td>\n",
              "      <td>6.579763</td>\n",
              "      <td>1.0</td>\n",
              "    </tr>\n",
              "    <tr>\n",
              "      <th>7</th>\n",
              "      <td>1</td>\n",
              "      <td>38</td>\n",
              "      <td>CP_763</td>\n",
              "      <td>CP_261</td>\n",
              "      <td>CP_520</td>\n",
              "      <td>113.715053</td>\n",
              "      <td>120.394527</td>\n",
              "      <td>6.679474</td>\n",
              "      <td>1.0</td>\n",
              "    </tr>\n",
              "    <tr>\n",
              "      <th>8</th>\n",
              "      <td>1</td>\n",
              "      <td>40</td>\n",
              "      <td>CP_692</td>\n",
              "      <td>CP_981</td>\n",
              "      <td>CP_24</td>\n",
              "      <td>112.174185</td>\n",
              "      <td>123.030435</td>\n",
              "      <td>10.856250</td>\n",
              "      <td>1.0</td>\n",
              "    </tr>\n",
              "    <tr>\n",
              "      <th>9</th>\n",
              "      <td>1</td>\n",
              "      <td>41</td>\n",
              "      <td>CP_876</td>\n",
              "      <td>CP_104</td>\n",
              "      <td>CP_247</td>\n",
              "      <td>109.389844</td>\n",
              "      <td>120.155707</td>\n",
              "      <td>10.765863</td>\n",
              "      <td>1.0</td>\n",
              "    </tr>\n",
              "    <tr>\n",
              "      <th>10</th>\n",
              "      <td>1</td>\n",
              "      <td>42</td>\n",
              "      <td>CP_763</td>\n",
              "      <td>CP_1006</td>\n",
              "      <td>CP_703</td>\n",
              "      <td>112.604922</td>\n",
              "      <td>126.600638</td>\n",
              "      <td>13.995716</td>\n",
              "      <td>1.0</td>\n",
              "    </tr>\n",
              "    <tr>\n",
              "      <th>11</th>\n",
              "      <td>1</td>\n",
              "      <td>44</td>\n",
              "      <td>CP_981</td>\n",
              "      <td>CP_694</td>\n",
              "      <td>CP_155</td>\n",
              "      <td>110.785854</td>\n",
              "      <td>118.352130</td>\n",
              "      <td>7.566276</td>\n",
              "      <td>1.0</td>\n",
              "    </tr>\n",
              "    <tr>\n",
              "      <th>12</th>\n",
              "      <td>1</td>\n",
              "      <td>45</td>\n",
              "      <td>CP_876</td>\n",
              "      <td>CP_947</td>\n",
              "      <td>CP_787</td>\n",
              "      <td>108.970362</td>\n",
              "      <td>120.157026</td>\n",
              "      <td>11.186664</td>\n",
              "      <td>1.0</td>\n",
              "    </tr>\n",
              "    <tr>\n",
              "      <th>13</th>\n",
              "      <td>1</td>\n",
              "      <td>47</td>\n",
              "      <td>CP_781</td>\n",
              "      <td>CP_482</td>\n",
              "      <td>CP_51</td>\n",
              "      <td>109.543816</td>\n",
              "      <td>119.490577</td>\n",
              "      <td>9.946761</td>\n",
              "      <td>1.0</td>\n",
              "    </tr>\n",
              "    <tr>\n",
              "      <th>14</th>\n",
              "      <td>1</td>\n",
              "      <td>51</td>\n",
              "      <td>CP_763</td>\n",
              "      <td>CP_1161</td>\n",
              "      <td>CP_819</td>\n",
              "      <td>107.567182</td>\n",
              "      <td>119.254752</td>\n",
              "      <td>11.687571</td>\n",
              "      <td>1.0</td>\n",
              "    </tr>\n",
              "  </tbody>\n",
              "</table>\n",
              "</div>"
            ],
            "text/plain": [
              "    FOV  Bead_ID     BB1      BB2      BB3          BL        81nM  Intensity  \\\n",
              "0     1        3  CP_692   CP_742   CP_247  108.000474  114.849700   6.849226   \n",
              "1     1       12  CP_981   CP_482  CP_1123  112.035264  117.157116   5.121852   \n",
              "2     1       13  CP_781   CP_165   CP_958  110.413860  120.200005   9.786146   \n",
              "3     1       26  CP_266   CP_986   CP_394  111.415696  115.645036   4.229340   \n",
              "4     1       28  CP_173   CP_834   CP_310  112.760089  117.613977   4.853888   \n",
              "5     1       32  CP_981   CP_346   CP_586  114.606011  119.978622   5.372611   \n",
              "6     1       37  CP_119   CP_328   CP_601  111.144844  117.724606   6.579763   \n",
              "7     1       38  CP_763   CP_261   CP_520  113.715053  120.394527   6.679474   \n",
              "8     1       40  CP_692   CP_981    CP_24  112.174185  123.030435  10.856250   \n",
              "9     1       41  CP_876   CP_104   CP_247  109.389844  120.155707  10.765863   \n",
              "10    1       42  CP_763  CP_1006   CP_703  112.604922  126.600638  13.995716   \n",
              "11    1       44  CP_981   CP_694   CP_155  110.785854  118.352130   7.566276   \n",
              "12    1       45  CP_876   CP_947   CP_787  108.970362  120.157026  11.186664   \n",
              "13    1       47  CP_781   CP_482    CP_51  109.543816  119.490577   9.946761   \n",
              "14    1       51  CP_763  CP_1161   CP_819  107.567182  119.254752  11.687571   \n",
              "\n",
              "    Outlier  \n",
              "0       1.0  \n",
              "1       1.0  \n",
              "2       1.0  \n",
              "3       1.0  \n",
              "4       1.0  \n",
              "5       1.0  \n",
              "6       1.0  \n",
              "7       1.0  \n",
              "8       1.0  \n",
              "9       1.0  \n",
              "10      1.0  \n",
              "11      1.0  \n",
              "12      1.0  \n",
              "13      1.0  \n",
              "14      1.0  "
            ]
          },
          "execution_count": 65,
          "metadata": {},
          "output_type": "execute_result"
        }
      ],
      "source": [
        "df.head(15)"
      ]
    },
    {
      "cell_type": "code",
      "execution_count": null,
      "metadata": {
        "id": "b7Fk-wOK6R2X"
      },
      "outputs": [],
      "source": [
        "def filter_by_FOV(data, x):\n",
        "    \"\"\"\n",
        "    this fuction filters the dataframe by just the FOV\n",
        "    it inputes the FOV = x and the data frame to be filtered \n",
        "    \"\"\"\n",
        "    temp_df = data[data['FOV'] == x]\n",
        "    \n",
        "    return temp_df\n",
        "\n",
        "def filter_by_BeadID(data, y):\n",
        "    \"\"\"\n",
        "    this fuction filters the dataframe by just the Bead_ID\n",
        "    it inputes the Bead_ID = y and the data frame to be filtered \n",
        "    \"\"\"\n",
        "    temp_df = data[data['Bead_ID'] == y]\n",
        "\n",
        "def filter_by_FOV_and_BeadID(data, x,y):\n",
        "    \"\"\"\n",
        "    this fuction inputes the FOV = x and the Bead_ID = y and use these to filter the dataframe\n",
        "    and the data frame to be filtered \n",
        "    it returns a filtered dataframe\n",
        "    \"\"\"\n",
        "    temp_df = data[data['FOV'] == x]\n",
        "    temp_df = temp_df[temp_df['Bead_ID'] == y]\n",
        "    return temp_df\n"
      ]
    },
    {
      "cell_type": "code",
      "execution_count": null,
      "metadata": {
        "id": "XAwDKCsT6R2X"
      },
      "outputs": [],
      "source": [
        "# model specification\n",
        "model1 = LocalOutlierFactor(n_neighbors = 2, metric = \"manhattan\", contamination = 0.02)\n",
        "# model fitting\n",
        "y_pred = model1.fit_predict(df)\n",
        "# filter outlier index\n",
        "outlier_index = where(y_pred == -1) # negative values are outliers and positives inliers\n",
        "# filter outlier values\n",
        "outlier_values = df.iloc[outlier_index]\n",
        "# plot data\n",
        "plt.scatter(df[\"x\"], df[\"y\"], color = \"b\", s = 65)\n",
        "# plot outlier values\n",
        "plt.scatter(outlier_values[\"x\"], outlier_values[\"y\"], color = \"r\")"
      ]
    },
    {
      "cell_type": "markdown",
      "metadata": {
        "id": "2F0YbfuU6R2X"
      },
      "source": [
        "## Isolation forest"
      ]
    },
    {
      "cell_type": "code",
      "execution_count": null,
      "metadata": {
        "id": "RFP3iYBF6R2X"
      },
      "outputs": [],
      "source": [
        "from sklearn.ensemble import IsolationForest"
      ]
    },
    {
      "cell_type": "code",
      "execution_count": null,
      "metadata": {
        "id": "PuT5AsDy6R2X"
      },
      "outputs": [],
      "source": [
        "X = df.drop(columns=['FOV_BeadID', '81nM', 'BL'])\n",
        "y = df['Intensity']"
      ]
    },
    {
      "cell_type": "code",
      "execution_count": null,
      "metadata": {
        "id": "Iz6lvd9B6R2Y"
      },
      "outputs": [],
      "source": [
        "X_ohe = df2.drop(columns=['FOV_BeadID','Bead_ID', '81nM', 'BL'])\n",
        "y = df['Intensity']"
      ]
    },
    {
      "cell_type": "code",
      "execution_count": null,
      "metadata": {
        "id": "_Ea0Kcht6R2Y",
        "outputId": "2eb46a66-c396-4547-b737-a760de2dfaa9"
      },
      "outputs": [
        {
          "data": {
            "image/png": "[encoded data removed]",
            "text/plain": [
              "<Figure size 1296x432 with 1 Axes>"
            ]
          },
          "metadata": {
            "needs_background": "light"
          },
          "output_type": "display_data"
        }
      ],
      "source": [
        "plt.figure(figsize=(18,6))\n",
        "plt.scatter(df['Bead_ID'], df['Intensity'])\n",
        "plt.show()"
      ]
    },
    {
      "cell_type": "code",
      "execution_count": null,
      "metadata": {
        "id": "kFLOVCs16R2Y",
        "outputId": "a1450f0a-5d05-4930-ff0c-a63c009725ca"
      },
      "outputs": [
        {
          "data": {
            "image/png": "[encoded data removed]",
            "text/plain": [
              "<Figure size 1296x432 with 1 Axes>"
            ]
          },
          "metadata": {
            "needs_background": "light"
          },
          "output_type": "display_data"
        }
      ],
      "source": [
        "plt.figure(figsize=(18,6))\n",
        "plt.scatter(df['FOV'], df['Intensity'])\n",
        "plt.show()"
      ]
    },
    {
      "cell_type": "code",
      "execution_count": null,
      "metadata": {
        "id": "pEwCfxve6R2Y"
      },
      "outputs": [],
      "source": [
        "iforest = IsolationForest(n_estimators = 100, contamination = 0.03, max_samples ='auto')\n",
        "pred = iforest.fit_predict(X_ohe)\n",
        "print(pred[:20])\n",
        "print(\"Number of outliers detected: {}\".format(pred[pred < 0].sum()))\n",
        "print(\"Number of normal samples detected: {}\".format(pred[pred > 0].sum()))"
      ]
    },
    {
      "cell_type": "code",
      "execution_count": null,
      "metadata": {
        "id": "n3FL9IXo6R2Y"
      },
      "outputs": [],
      "source": [
        "normal_data = data[np.where(prediction > 0)]\n",
        "outliers = data[np.where(prediction < 0)]\n",
        "plt.scatter(normal_data[:, 0], normal_data[:, 1])\n",
        "plt.scatter(outliers[:, 0], outliers[:, 1])\n",
        "plt.title(\"Random data points with outliers identified.\")\n",
        "plt.show()"
      ]
    },
    {
      "cell_type": "code",
      "execution_count": null,
      "metadata": {
        "id": "PmpVbnz76R2Y"
      },
      "outputs": [],
      "source": [
        "score = iforest.decision_function(data)\n",
        "data_scores = pd.DataFrame(list(zip(data[:, 0],data[:, 1],score)),columns = ['X','Y','Anomaly Score'])\n",
        "display(data_scores.head())"
      ]
    },
    {
      "cell_type": "code",
      "execution_count": null,
      "metadata": {
        "id": "TgAMXQcW6R2Z"
      },
      "outputs": [],
      "source": [
        "top_5_outliers = data_scores.sort_values(by = ['Anomaly Score']).head()\n",
        "plt.scatter(data[:, 0], data[:, 1])\n",
        "plt.scatter(top_5_outliers['X'], top_5_outliers['Y'])\n",
        "plt.title(\"Random data points with only 5 outliers identified.\")\n",
        "plt.show()"
      ]
    },
    {
      "cell_type": "markdown",
      "metadata": {
        "id": "TAoyfK626R2Z"
      },
      "source": [
        "### Local Outlier Factor"
      ]
    },
    {
      "cell_type": "code",
      "execution_count": null,
      "metadata": {
        "id": "oKjcmNLf6R2Z"
      },
      "outputs": [],
      "source": [
        "from sklearn.neighbors import LocalOutlierFactor\n",
        "from sklearn.decomposition import PCA"
      ]
    },
    {
      "cell_type": "code",
      "execution_count": null,
      "metadata": {
        "id": "f-mSeAe86R2Z"
      },
      "outputs": [],
      "source": [
        "X = df2.drop(columns=['FOV_BeadID','Bead_ID', '81nM', 'BL'])\n",
        "y = df2['Intensity']"
      ]
    },
    {
      "cell_type": "code",
      "execution_count": null,
      "metadata": {
        "id": "N3sBzjS56R2Z"
      },
      "outputs": [],
      "source": [
        "pca = PCA(n_components=2)\n",
        "pca.fit(X)\n",
        "X_pca = pca.transform(X)"
      ]
    },
    {
      "cell_type": "code",
      "execution_count": null,
      "metadata": {
        "id": "ixng982A6R2Z"
      },
      "outputs": [],
      "source": [
        "\n",
        "# model \n",
        "lof = LocalOutlierFactor(n_neighbors=20, contamination=.03)\n",
        "\n",
        " # model fitting\n",
        "y_pred = lof.fit_predict(X)\n",
        "# filter outlier index\n",
        "lofs_index=where(y_pred==-1)\n",
        "\n",
        "# filter outlier values\n",
        "values = X[lofs_index]\n"
      ]
    },
    {
      "cell_type": "code",
      "execution_count": null,
      "metadata": {
        "id": "q8CRr2H26R2Z"
      },
      "outputs": [],
      "source": [
        "plt.scatter(X['FOV'], X['Intensity'])\n",
        "plt.scatter(values[:,0],values[:,1], color='r')\n",
        "plt.show()"
      ]
    },
    {
      "cell_type": "code",
      "execution_count": null,
      "metadata": {
        "id": "rbtxwbnp6R2Z"
      },
      "outputs": [],
      "source": [
        "\n",
        "model = LocalOutlierFactor(n_neighbors=20) \n",
        "print(model)  \n",
        "model.fit_predict(X) \n",
        " \n",
        "lof = model.negative_outlier_factor_\n",
        "thresh = quantile(lof, .03)\n",
        "print(thresh) \n",
        " \n",
        "index = where(lof<=thresh)\n",
        "values = X[index]\n",
        "\n",
        "plt.scatter(X[:,0], X[:,1])\n",
        "plt.scatter(values[:,0],values[:,1], color='r')\n",
        "plt.show()"
      ]
    },
    {
      "cell_type": "code",
      "execution_count": null,
      "metadata": {
        "id": "PamL4FA06R2a"
      },
      "outputs": [],
      "source": []
    },
    {
      "cell_type": "code",
      "execution_count": null,
      "metadata": {
        "id": "EUF12aVT6R2a"
      },
      "outputs": [],
      "source": []
    },
    {
      "cell_type": "code",
      "execution_count": null,
      "metadata": {
        "id": "zjImiSEk6R2a"
      },
      "outputs": [],
      "source": []
    }
  ],
  "metadata": {
    "kernelspec": {
      "display_name": "Python [conda env:root] *",
      "language": "python",
      "name": "conda-root-py"
    },
    "language_info": {
      "codemirror_mode": {
        "name": "ipython",
        "version": 3
      },
      "file_extension": ".py",
      "mimetype": "text/x-python",
      "name": "python",
      "nbconvert_exporter": "python",
      "pygments_lexer": "ipython3",
      "version": "3.8.5"
    },
    "colab": {
      "provenance": [],
      "include_colab_link": true
    }
  },
  "nbformat": 4,
  "nbformat_minor": 0
}