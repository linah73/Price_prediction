{
 "cells": [
  {
   "cell_type": "code",
   "execution_count": 1,
   "metadata": {},
   "outputs": [],
   "source": [
    "import warnings\n",
    "warnings.filterwarnings('ignore')"
   ]
  },
  {
   "cell_type": "code",
   "execution_count": 2,
   "metadata": {},
   "outputs": [],
   "source": [
    "%matplotlib inline\n",
    "import pandas as pd\n",
    "import numpy as np\n",
    "import sklearn\n",
    "import matplotlib.pyplot as plt\n",
    "import seaborn as sns"
   ]
  },
  {
   "cell_type": "markdown",
   "metadata": {},
   "source": [
    "## Data Wrangling"
   ]
  },
  {
   "cell_type": "markdown",
   "metadata": {},
   "source": [
    "### Load data"
   ]
  },
  {
   "cell_type": "code",
   "execution_count": 3,
   "metadata": {},
   "outputs": [],
   "source": [
    "df_2019 = pd.read_excel('q1-q4-2019-prescription-drugs-introduced-to-market.xlsx')"
   ]
  },
  {
   "cell_type": "code",
   "execution_count": 4,
   "metadata": {},
   "outputs": [],
   "source": [
    "df_2020 = pd.read_excel('q1-q4-2020-prescription-drugs-introduced-to-market.xlsx')"
   ]
  },
  {
   "cell_type": "code",
   "execution_count": 5,
   "metadata": {},
   "outputs": [],
   "source": [
    "df_2021 = pd.read_excel('q1-q3-2021-prescription-drugs-introduced-to-market.xlsx')"
   ]
  },
  {
   "cell_type": "code",
   "execution_count": 6,
   "metadata": {},
   "outputs": [],
   "source": [
    "df_lastq = pd.read_excel('5-2-monthly-update-prescription-drugs-introduced-to-the-market-excel.xlsx')"
   ]
  },
  {
   "cell_type": "code",
   "execution_count": 7,
   "metadata": {},
   "outputs": [
    {
     "data": {
      "text/plain": [
       "(315, 30)"
      ]
     },
     "execution_count": 7,
     "metadata": {},
     "output_type": "execute_result"
    }
   ],
   "source": [
    "df_2019.shape"
   ]
  },
  {
   "cell_type": "code",
   "execution_count": 8,
   "metadata": {},
   "outputs": [
    {
     "data": {
      "text/plain": [
       "(278, 16)"
      ]
     },
     "execution_count": 8,
     "metadata": {},
     "output_type": "execute_result"
    }
   ],
   "source": [
    "df_2020.shape"
   ]
  },
  {
   "cell_type": "code",
   "execution_count": 9,
   "metadata": {},
   "outputs": [
    {
     "data": {
      "text/plain": [
       "(256, 16)"
      ]
     },
     "execution_count": 9,
     "metadata": {},
     "output_type": "execute_result"
    }
   ],
   "source": [
    "df_2021.shape"
   ]
  },
  {
   "cell_type": "code",
   "execution_count": 10,
   "metadata": {},
   "outputs": [
    {
     "data": {
      "text/plain": [
       "(79, 16)"
      ]
     },
     "execution_count": 10,
     "metadata": {},
     "output_type": "execute_result"
    }
   ],
   "source": [
    "df_lastq.shape"
   ]
  },
  {
   "cell_type": "markdown",
   "metadata": {},
   "source": [
    "The 2019 dataset has more columns than the other three data sets. We can check and compare the columns of all datasets "
   ]
  },
  {
   "cell_type": "code",
   "execution_count": 11,
   "metadata": {},
   "outputs": [
    {
     "name": "stdout",
     "output_type": "stream",
     "text": [
      "<class 'pandas.core.frame.DataFrame'>\n",
      "RangeIndex: 315 entries, 0 to 314\n",
      "Data columns (total 30 columns):\n",
      " #   Column                                       Non-Null Count  Dtype  \n",
      "---  ------                                       --------------  -----  \n",
      " 0   Manufacturer Name                            315 non-null    object \n",
      " 1   NDC Number                                   315 non-null    int64  \n",
      " 2   Drug Product Description                     315 non-null    object \n",
      " 3   Date Introduced to Market                    315 non-null    object \n",
      " 4   WAC at Introduction                          315 non-null    float64\n",
      " 5   Marketing/Pricing Plan Description           119 non-null    object \n",
      " 6   Marketing/Pricing Plan Non-Public Indicator  197 non-null    object \n",
      " 7   Estimated Number of Patients                 189 non-null    object \n",
      " 8   Breakthrough Therapy Indicator               53 non-null     object \n",
      " 9   Priority Review Indicator                    81 non-null     float64\n",
      " 10  Acquisition Date                             24 non-null     object \n",
      " 11  Acquisition Price                            19 non-null     float64\n",
      " 12  Acquisition Price Non-Public Indicator       15 non-null     float64\n",
      " 13  Acquisition Price Comment                    25 non-null     object \n",
      " 14  General Comments                             302 non-null    object \n",
      " 15  Supporting Documents                         45 non-null     object \n",
      " 16  Unnamed: 16                                  27 non-null     object \n",
      " 17  Unnamed: 17                                  28 non-null     object \n",
      " 18  Unnamed: 18                                  5 non-null      object \n",
      " 19  Unnamed: 19                                  3 non-null      object \n",
      " 20  Unnamed: 20                                  2 non-null      object \n",
      " 21  Unnamed: 21                                  0 non-null      float64\n",
      " 22  Unnamed: 22                                  0 non-null      float64\n",
      " 23  Unnamed: 23                                  0 non-null      float64\n",
      " 24  Unnamed: 24                                  0 non-null      float64\n",
      " 25  Unnamed: 25                                  0 non-null      float64\n",
      " 26  Unnamed: 26                                  0 non-null      float64\n",
      " 27  Unnamed: 27                                  0 non-null      float64\n",
      " 28  Unnamed: 28                                  0 non-null      float64\n",
      " 29  Unnamed: 29                                  3 non-null      object \n",
      "dtypes: float64(12), int64(1), object(17)\n",
      "memory usage: 74.0+ KB\n"
     ]
    }
   ],
   "source": [
    "df_2019.info()"
   ]
  },
  {
   "cell_type": "code",
   "execution_count": 12,
   "metadata": {},
   "outputs": [
    {
     "name": "stdout",
     "output_type": "stream",
     "text": [
      "<class 'pandas.core.frame.DataFrame'>\n",
      "RangeIndex: 278 entries, 0 to 277\n",
      "Data columns (total 16 columns):\n",
      " #   Column                                       Non-Null Count  Dtype  \n",
      "---  ------                                       --------------  -----  \n",
      " 0   Manufacturer Name                            278 non-null    object \n",
      " 1   NDC Number                                   278 non-null    int64  \n",
      " 2   Drug Product Description                     277 non-null    object \n",
      " 3   Date Introduced to Market                    278 non-null    object \n",
      " 4   WAC at Introduction                          278 non-null    float64\n",
      " 5   Marketing/Pricing Plan Description           129 non-null    object \n",
      " 6   Marketing/Pricing Plan Non-Public Indicator  149 non-null    float64\n",
      " 7   Estimated Number of Patients                 222 non-null    float64\n",
      " 8   Breakthrough Therapy Indicator               44 non-null     float64\n",
      " 9   Priority Review Indicator                    50 non-null     float64\n",
      " 10  Acquisition Date                             42 non-null     object \n",
      " 11  Acquisition Price                            29 non-null     float64\n",
      " 12  Acquisition Price Non-Public Indicator       20 non-null     float64\n",
      " 13  Acquisition Price Comment                    30 non-null     object \n",
      " 14  General Comments                             254 non-null    object \n",
      " 15  Supporting Documents                         13 non-null     object \n",
      "dtypes: float64(7), int64(1), object(8)\n",
      "memory usage: 34.9+ KB\n"
     ]
    }
   ],
   "source": [
    "df_2020.info()"
   ]
  },
  {
   "cell_type": "code",
   "execution_count": 13,
   "metadata": {},
   "outputs": [
    {
     "name": "stdout",
     "output_type": "stream",
     "text": [
      "<class 'pandas.core.frame.DataFrame'>\n",
      "RangeIndex: 256 entries, 0 to 255\n",
      "Data columns (total 16 columns):\n",
      " #   Column                                       Non-Null Count  Dtype  \n",
      "---  ------                                       --------------  -----  \n",
      " 0   Manufacturer Name                            256 non-null    object \n",
      " 1   NDC Number                                   256 non-null    int64  \n",
      " 2   Drug Product Description                     256 non-null    object \n",
      " 3   Date Introduced to Market                    256 non-null    object \n",
      " 4   WAC at Introduction                          256 non-null    float64\n",
      " 5   Marketing/Pricing Plan Description           159 non-null    object \n",
      " 6   Marketing/Pricing Plan Non-Public Indicator  97 non-null     float64\n",
      " 7   Estimated Number of Patients                 244 non-null    float64\n",
      " 8   Breakthrough Therapy Indicator               30 non-null     float64\n",
      " 9   Priority Review Indicator                    59 non-null     float64\n",
      " 10  Acquisition Date                             38 non-null     object \n",
      " 11  Acquisition Price                            18 non-null     float64\n",
      " 12  Acquisition Price Non-Public Indicator       20 non-null     float64\n",
      " 13  Acquisition Price Comment                    33 non-null     object \n",
      " 14  General Comments                             187 non-null    object \n",
      " 15  Supporting Documents                         15 non-null     object \n",
      "dtypes: float64(7), int64(1), object(8)\n",
      "memory usage: 32.1+ KB\n"
     ]
    }
   ],
   "source": [
    "df_2021.info()"
   ]
  },
  {
   "cell_type": "code",
   "execution_count": 14,
   "metadata": {},
   "outputs": [
    {
     "name": "stdout",
     "output_type": "stream",
     "text": [
      "<class 'pandas.core.frame.DataFrame'>\n",
      "RangeIndex: 79 entries, 0 to 78\n",
      "Data columns (total 16 columns):\n",
      " #   Column                                       Non-Null Count  Dtype  \n",
      "---  ------                                       --------------  -----  \n",
      " 0   Manufacturer Name                            79 non-null     object \n",
      " 1   NDC Number                                   79 non-null     int64  \n",
      " 2   Drug Product Description                     79 non-null     object \n",
      " 3   Date Introduced to Market                    79 non-null     object \n",
      " 4   WAC at Introduction                          79 non-null     float64\n",
      " 5   Marketing/Pricing Plan Description           33 non-null     object \n",
      " 6   Marketing/Pricing Plan Non-Public Indicator  46 non-null     float64\n",
      " 7   Estimated Number of Patients                 72 non-null     float64\n",
      " 8   Breakthrough Therapy Indicator               12 non-null     float64\n",
      " 9   Priority Review Indicator                    27 non-null     float64\n",
      " 10  Acquisition Date                             6 non-null      object \n",
      " 11  Acquisition Price                            4 non-null      float64\n",
      " 12  Acquisition Price Non-Public Indicator       2 non-null      float64\n",
      " 13  Acquisition Price Comment                    6 non-null      object \n",
      " 14  General Comments                             66 non-null     object \n",
      " 15  Supporting Documents                         1 non-null      object \n",
      "dtypes: float64(7), int64(1), object(8)\n",
      "memory usage: 10.0+ KB\n"
     ]
    }
   ],
   "source": [
    "df_lastq.info()"
   ]
  },
  {
   "cell_type": "markdown",
   "metadata": {},
   "source": [
    "2019 dataset has extra columns that are not labeled. We can remove these columns"
   ]
  },
  {
   "cell_type": "code",
   "execution_count": 15,
   "metadata": {},
   "outputs": [],
   "source": [
    "#drop columns 16-29\n",
    "df_2019 = df_2019.drop(df_2019.iloc[:, 16:30], axis=1)"
   ]
  },
  {
   "cell_type": "code",
   "execution_count": 16,
   "metadata": {},
   "outputs": [
    {
     "name": "stdout",
     "output_type": "stream",
     "text": [
      "<class 'pandas.core.frame.DataFrame'>\n",
      "RangeIndex: 315 entries, 0 to 314\n",
      "Data columns (total 16 columns):\n",
      " #   Column                                       Non-Null Count  Dtype  \n",
      "---  ------                                       --------------  -----  \n",
      " 0   Manufacturer Name                            315 non-null    object \n",
      " 1   NDC Number                                   315 non-null    int64  \n",
      " 2   Drug Product Description                     315 non-null    object \n",
      " 3   Date Introduced to Market                    315 non-null    object \n",
      " 4   WAC at Introduction                          315 non-null    float64\n",
      " 5   Marketing/Pricing Plan Description           119 non-null    object \n",
      " 6   Marketing/Pricing Plan Non-Public Indicator  197 non-null    object \n",
      " 7   Estimated Number of Patients                 189 non-null    object \n",
      " 8   Breakthrough Therapy Indicator               53 non-null     object \n",
      " 9   Priority Review Indicator                    81 non-null     float64\n",
      " 10  Acquisition Date                             24 non-null     object \n",
      " 11  Acquisition Price                            19 non-null     float64\n",
      " 12  Acquisition Price Non-Public Indicator       15 non-null     float64\n",
      " 13  Acquisition Price Comment                    25 non-null     object \n",
      " 14  General Comments                             302 non-null    object \n",
      " 15  Supporting Documents                         45 non-null     object \n",
      "dtypes: float64(4), int64(1), object(11)\n",
      "memory usage: 39.5+ KB\n"
     ]
    }
   ],
   "source": [
    "df_2019.info()"
   ]
  },
  {
   "cell_type": "markdown",
   "metadata": {},
   "source": [
    "Merge the data frames"
   ]
  },
  {
   "cell_type": "code",
   "execution_count": 17,
   "metadata": {},
   "outputs": [],
   "source": [
    "df_list = [df_2019, df_2020, df_2021, df_lastq]"
   ]
  },
  {
   "cell_type": "code",
   "execution_count": 18,
   "metadata": {},
   "outputs": [],
   "source": [
    "# merge the data from all files into one data frame\n",
    "merged_df = df_list[0]\n",
    "for i in range(1,4):\n",
    "    merged_df = pd.concat([merged_df, df_list[i]])"
   ]
  },
  {
   "cell_type": "markdown",
   "metadata": {},
   "source": [
    "Check the shape of the entire data set"
   ]
  },
  {
   "cell_type": "code",
   "execution_count": 19,
   "metadata": {},
   "outputs": [
    {
     "data": {
      "text/plain": [
       "(928, 16)"
      ]
     },
     "execution_count": 19,
     "metadata": {},
     "output_type": "execute_result"
    }
   ],
   "source": [
    "merged_df.shape"
   ]
  },
  {
   "cell_type": "code",
   "execution_count": 20,
   "metadata": {},
   "outputs": [
    {
     "name": "stdout",
     "output_type": "stream",
     "text": [
      "<class 'pandas.core.frame.DataFrame'>\n",
      "Int64Index: 928 entries, 0 to 78\n",
      "Data columns (total 16 columns):\n",
      " #   Column                                       Non-Null Count  Dtype  \n",
      "---  ------                                       --------------  -----  \n",
      " 0   Manufacturer Name                            928 non-null    object \n",
      " 1   NDC Number                                   928 non-null    int64  \n",
      " 2   Drug Product Description                     927 non-null    object \n",
      " 3   Date Introduced to Market                    928 non-null    object \n",
      " 4   WAC at Introduction                          928 non-null    float64\n",
      " 5   Marketing/Pricing Plan Description           440 non-null    object \n",
      " 6   Marketing/Pricing Plan Non-Public Indicator  489 non-null    object \n",
      " 7   Estimated Number of Patients                 727 non-null    object \n",
      " 8   Breakthrough Therapy Indicator               139 non-null    object \n",
      " 9   Priority Review Indicator                    217 non-null    float64\n",
      " 10  Acquisition Date                             110 non-null    object \n",
      " 11  Acquisition Price                            70 non-null     float64\n",
      " 12  Acquisition Price Non-Public Indicator       57 non-null     float64\n",
      " 13  Acquisition Price Comment                    94 non-null     object \n",
      " 14  General Comments                             809 non-null    object \n",
      " 15  Supporting Documents                         74 non-null     object \n",
      "dtypes: float64(4), int64(1), object(11)\n",
      "memory usage: 123.2+ KB\n"
     ]
    }
   ],
   "source": [
    "merged_df.info()"
   ]
  },
  {
   "cell_type": "markdown",
   "metadata": {},
   "source": [
    "### Rename columns "
   ]
  },
  {
   "cell_type": "code",
   "execution_count": 21,
   "metadata": {},
   "outputs": [
    {
     "data": {
      "text/plain": [
       "Index(['Manufacturer Name', 'NDC Number', 'Drug Product Description',\n",
       "       'Date Introduced to Market', 'WAC at Introduction',\n",
       "       'Marketing/Pricing Plan Description',\n",
       "       'Marketing/Pricing Plan Non-Public Indicator',\n",
       "       'Estimated Number of Patients', 'Breakthrough Therapy Indicator',\n",
       "       'Priority Review Indicator', 'Acquisition Date', 'Acquisition Price',\n",
       "       'Acquisition Price Non-Public Indicator', 'Acquisition Price Comment',\n",
       "       'General Comments', 'Supporting Documents'],\n",
       "      dtype='object')"
      ]
     },
     "execution_count": 21,
     "metadata": {},
     "output_type": "execute_result"
    }
   ],
   "source": [
    "merged_df.columns"
   ]
  },
  {
   "cell_type": "code",
   "execution_count": 22,
   "metadata": {},
   "outputs": [],
   "source": [
    "new_colnames =  {'Manufacturer Name': 'Manufacturer', \n",
    "                 'NDC Number':'NDC', \n",
    "                 'Drug Product Description': 'Drug',\n",
    "                 'Date Introduced to Market':'Market_Date', \n",
    "                 'WAC at Introduction': 'WAC',\n",
    "                 'Marketing/Pricing Plan Description': 'Market_Plan',\n",
    "                 'Marketing/Pricing Plan Non-Public Indicator': 'Market_NP',\n",
    "                 'Estimated Number of Patients': '#Patients', \n",
    "                 'Breakthrough Therapy Indicator': 'Breakthrough_Therapy',\n",
    "                 'Priority Review Indicator': 'Priority_Review', \n",
    "                 'Acquisition Date': 'Acq_Date', \n",
    "                 'Acquisition Price':'Acq_Price',\n",
    "                 'Acquisition Price Non-Public Indicator':'Acq_Price NP', \n",
    "                 'Acquisition Price Comment':'Acq_Price_Comment',\n",
    "                 'General Comments':'Gen_com',\n",
    "                 'Supporting Documents': 'Supp_Docs'\n",
    "}"
   ]
  },
  {
   "cell_type": "code",
   "execution_count": 23,
   "metadata": {},
   "outputs": [],
   "source": [
    "merged_df.rename(columns=new_colnames,\n",
    "          inplace=True)"
   ]
  },
  {
   "cell_type": "code",
   "execution_count": 24,
   "metadata": {},
   "outputs": [
    {
     "data": {
      "text/html": [
       "<div>\n",
       "<style scoped>\n",
       "    .dataframe tbody tr th:only-of-type {\n",
       "        vertical-align: middle;\n",
       "    }\n",
       "\n",
       "    .dataframe tbody tr th {\n",
       "        vertical-align: top;\n",
       "    }\n",
       "\n",
       "    .dataframe thead th {\n",
       "        text-align: right;\n",
       "    }\n",
       "</style>\n",
       "<table border=\"1\" class=\"dataframe\">\n",
       "  <thead>\n",
       "    <tr style=\"text-align: right;\">\n",
       "      <th></th>\n",
       "      <th>Manufacturer</th>\n",
       "      <th>NDC</th>\n",
       "      <th>Drug</th>\n",
       "      <th>Market_Date</th>\n",
       "      <th>WAC</th>\n",
       "      <th>Market_Plan</th>\n",
       "      <th>Market_NP</th>\n",
       "      <th>#Patients</th>\n",
       "      <th>Breakthrough_Therapy</th>\n",
       "      <th>Priority_Review</th>\n",
       "      <th>Acq_Date</th>\n",
       "      <th>Acq_Price</th>\n",
       "      <th>Acq_Price NP</th>\n",
       "      <th>Acq_Price_Comment</th>\n",
       "      <th>Gen_com</th>\n",
       "      <th>Supp_Docs</th>\n",
       "    </tr>\n",
       "  </thead>\n",
       "  <tbody>\n",
       "    <tr>\n",
       "      <th>0</th>\n",
       "      <td>SUN PHARMACEUTICALS</td>\n",
       "      <td>47335093640</td>\n",
       "      <td>Leuprolide Acetate Injection 1Mg/0.2Ml, 2.8Ml</td>\n",
       "      <td>2019-03-01</td>\n",
       "      <td>705.67</td>\n",
       "      <td>NaN</td>\n",
       "      <td>1</td>\n",
       "      <td>NaN</td>\n",
       "      <td>NaN</td>\n",
       "      <td>NaN</td>\n",
       "      <td>NaN</td>\n",
       "      <td>NaN</td>\n",
       "      <td>NaN</td>\n",
       "      <td>NaN</td>\n",
       "      <td>ESTIMATED_PATIENTS: unknown to Sun; MARKETING_...</td>\n",
       "      <td>NaN</td>\n",
       "    </tr>\n",
       "    <tr>\n",
       "      <th>1</th>\n",
       "      <td>SUN PHARMACEUTICALS</td>\n",
       "      <td>47335023683</td>\n",
       "      <td>Ambrisentan 5 mg Tabs 30ct</td>\n",
       "      <td>2019-04-25</td>\n",
       "      <td>7500.00</td>\n",
       "      <td>This product is priced to reflect a discount o...</td>\n",
       "      <td>NaN</td>\n",
       "      <td>0</td>\n",
       "      <td>NaN</td>\n",
       "      <td>NaN</td>\n",
       "      <td>NaN</td>\n",
       "      <td>NaN</td>\n",
       "      <td>NaN</td>\n",
       "      <td>NaN</td>\n",
       "      <td>Estimated average of patients per month is unk...</td>\n",
       "      <td>NaN</td>\n",
       "    </tr>\n",
       "    <tr>\n",
       "      <th>2</th>\n",
       "      <td>SUN PHARMACEUTICALS</td>\n",
       "      <td>47335023783</td>\n",
       "      <td>Ambrisentan 10 mg Tabs 30ct</td>\n",
       "      <td>2019-04-25</td>\n",
       "      <td>7500.00</td>\n",
       "      <td>This product is priced to reflect a discount o...</td>\n",
       "      <td>NaN</td>\n",
       "      <td>0</td>\n",
       "      <td>NaN</td>\n",
       "      <td>NaN</td>\n",
       "      <td>NaN</td>\n",
       "      <td>NaN</td>\n",
       "      <td>NaN</td>\n",
       "      <td>NaN</td>\n",
       "      <td>Estimated average of patients per month is unk...</td>\n",
       "      <td>NaN</td>\n",
       "    </tr>\n",
       "    <tr>\n",
       "      <th>3</th>\n",
       "      <td>SUN PHARMACEUTICALS</td>\n",
       "      <td>47335003886</td>\n",
       "      <td>Bosentan Tablets 62.5mg 60ct</td>\n",
       "      <td>2019-06-14</td>\n",
       "      <td>6281.07</td>\n",
       "      <td>This product is priced to reflect a discount o...</td>\n",
       "      <td>NaN</td>\n",
       "      <td>0</td>\n",
       "      <td>NaN</td>\n",
       "      <td>NaN</td>\n",
       "      <td>NaN</td>\n",
       "      <td>NaN</td>\n",
       "      <td>NaN</td>\n",
       "      <td>NaN</td>\n",
       "      <td>Estimated average of patients per month is unk...</td>\n",
       "      <td>NaN</td>\n",
       "    </tr>\n",
       "    <tr>\n",
       "      <th>4</th>\n",
       "      <td>SUN PHARMACEUTICALS</td>\n",
       "      <td>47335003986</td>\n",
       "      <td>Bosentan Tablets 125mg 60ct</td>\n",
       "      <td>2019-06-14</td>\n",
       "      <td>6281.07</td>\n",
       "      <td>This product is priced to reflect a discount o...</td>\n",
       "      <td>NaN</td>\n",
       "      <td>0</td>\n",
       "      <td>NaN</td>\n",
       "      <td>NaN</td>\n",
       "      <td>NaN</td>\n",
       "      <td>NaN</td>\n",
       "      <td>NaN</td>\n",
       "      <td>NaN</td>\n",
       "      <td>Estimated average of patients per month is unk...</td>\n",
       "      <td>NaN</td>\n",
       "    </tr>\n",
       "  </tbody>\n",
       "</table>\n",
       "</div>"
      ],
      "text/plain": [
       "          Manufacturer          NDC  \\\n",
       "0  SUN PHARMACEUTICALS  47335093640   \n",
       "1  SUN PHARMACEUTICALS  47335023683   \n",
       "2  SUN PHARMACEUTICALS  47335023783   \n",
       "3  SUN PHARMACEUTICALS  47335003886   \n",
       "4  SUN PHARMACEUTICALS  47335003986   \n",
       "\n",
       "                                            Drug Market_Date      WAC  \\\n",
       "0  Leuprolide Acetate Injection 1Mg/0.2Ml, 2.8Ml  2019-03-01   705.67   \n",
       "1                     Ambrisentan 5 mg Tabs 30ct  2019-04-25  7500.00   \n",
       "2                    Ambrisentan 10 mg Tabs 30ct  2019-04-25  7500.00   \n",
       "3                   Bosentan Tablets 62.5mg 60ct  2019-06-14  6281.07   \n",
       "4                    Bosentan Tablets 125mg 60ct  2019-06-14  6281.07   \n",
       "\n",
       "                                         Market_Plan Market_NP #Patients  \\\n",
       "0                                                NaN         1       NaN   \n",
       "1  This product is priced to reflect a discount o...       NaN         0   \n",
       "2  This product is priced to reflect a discount o...       NaN         0   \n",
       "3  This product is priced to reflect a discount o...       NaN         0   \n",
       "4  This product is priced to reflect a discount o...       NaN         0   \n",
       "\n",
       "  Breakthrough_Therapy  Priority_Review Acq_Date  Acq_Price  Acq_Price NP  \\\n",
       "0                  NaN              NaN      NaN        NaN           NaN   \n",
       "1                  NaN              NaN      NaN        NaN           NaN   \n",
       "2                  NaN              NaN      NaN        NaN           NaN   \n",
       "3                  NaN              NaN      NaN        NaN           NaN   \n",
       "4                  NaN              NaN      NaN        NaN           NaN   \n",
       "\n",
       "  Acq_Price_Comment                                            Gen_com  \\\n",
       "0               NaN  ESTIMATED_PATIENTS: unknown to Sun; MARKETING_...   \n",
       "1               NaN  Estimated average of patients per month is unk...   \n",
       "2               NaN  Estimated average of patients per month is unk...   \n",
       "3               NaN  Estimated average of patients per month is unk...   \n",
       "4               NaN  Estimated average of patients per month is unk...   \n",
       "\n",
       "  Supp_Docs  \n",
       "0       NaN  \n",
       "1       NaN  \n",
       "2       NaN  \n",
       "3       NaN  \n",
       "4       NaN  "
      ]
     },
     "execution_count": 24,
     "metadata": {},
     "output_type": "execute_result"
    }
   ],
   "source": [
    "merged_df.head()"
   ]
  },
  {
   "cell_type": "markdown",
   "metadata": {},
   "source": [
    "Check the values in the 'Breakthrough_Therapy' column"
   ]
  },
  {
   "cell_type": "code",
   "execution_count": 25,
   "metadata": {},
   "outputs": [
    {
     "data": {
      "text/plain": [
       "array([nan, '1',\n",
       "       'When considering the price of INBRIJA one must consider that INBRIJA required over 20 years to develop, from the time the inhaled ARCUS technology was invented at MIT at the lab of Bob Langer. The ARCUS technology transforms molecules in a light, dry powder allowing delivery of an effective therapeutic dose of INBRIJA through the lungs. INBRIJA is a major innovation; it is one of only three pulmonary-delivered treatments approved for a non-pulmonary indication. The innovation of ARCUS – the dry powder inhalation system – allows for pulmonary delivery that bypasses the challenges that can be associated with oral levodopa that can lead to variability in absorption, contributing to OFF periods.',\n",
       "       1.0], dtype=object)"
      ]
     },
     "execution_count": 25,
     "metadata": {},
     "output_type": "execute_result"
    }
   ],
   "source": [
    "merged_df['Breakthrough_Therapy'].unique()"
   ]
  },
  {
   "cell_type": "code",
   "execution_count": 26,
   "metadata": {},
   "outputs": [],
   "source": [
    "# Remove the long string comment fron the column\n",
    "merged_df = merged_df.loc[merged_df['Breakthrough_Therapy'] != 'When considering the price of INBRIJA one must consider that INBRIJA required over 20 years to develop, from the time the inhaled ARCUS technology was invented at MIT at the lab of Bob Langer. The ARCUS technology transforms molecules in a light, dry powder allowing delivery of an effective therapeutic dose of INBRIJA through the lungs. INBRIJA is a major innovation; it is one of only three pulmonary-delivered treatments approved for a non-pulmonary indication. The innovation of ARCUS – the dry powder inhalation system – allows for pulmonary delivery that bypasses the challenges that can be associated with oral levodopa that can lead to variability in absorption, contributing to OFF periods.']"
   ]
  },
  {
   "cell_type": "code",
   "execution_count": 27,
   "metadata": {},
   "outputs": [
    {
     "data": {
      "text/plain": [
       "array([nan, '1', 1.0], dtype=object)"
      ]
     },
     "execution_count": 27,
     "metadata": {},
     "output_type": "execute_result"
    }
   ],
   "source": [
    "merged_df['Breakthrough_Therapy'].unique()"
   ]
  },
  {
   "cell_type": "markdown",
   "metadata": {},
   "source": [
    "Check the values in the other columns"
   ]
  },
  {
   "cell_type": "code",
   "execution_count": 28,
   "metadata": {},
   "outputs": [
    {
     "data": {
      "text/plain": [
       "array([nan,  1.])"
      ]
     },
     "execution_count": 28,
     "metadata": {},
     "output_type": "execute_result"
    }
   ],
   "source": [
    "merged_df['Priority_Review'].unique()"
   ]
  },
  {
   "cell_type": "code",
   "execution_count": 29,
   "metadata": {},
   "outputs": [
    {
     "data": {
      "text/plain": [
       "array(['1', nan, 1.0], dtype=object)"
      ]
     },
     "execution_count": 29,
     "metadata": {},
     "output_type": "execute_result"
    }
   ],
   "source": [
    "merged_df['Market_NP'].unique()"
   ]
  },
  {
   "cell_type": "code",
   "execution_count": 30,
   "metadata": {},
   "outputs": [
    {
     "data": {
      "text/plain": [
       "array([nan,  1.])"
      ]
     },
     "execution_count": 30,
     "metadata": {},
     "output_type": "execute_result"
    }
   ],
   "source": [
    "merged_df['Acq_Price NP'].unique()"
   ]
  },
  {
   "cell_type": "code",
   "execution_count": 31,
   "metadata": {},
   "outputs": [
    {
     "data": {
      "text/plain": [
       "array([7.056700e+02, 7.500000e+03, 6.281070e+03, 8.267100e+02,\n",
       "       6.857000e+02, 1.371390e+03, 2.057090e+03, 2.481000e+03,\n",
       "       6.445820e+03, 7.302010e+03, 2.036380e+03, 7.600800e+02,\n",
       "       7.786000e+03, 1.875000e+05, 1.875000e+04, 1.450000e+02,\n",
       "       2.914000e+02, 2.705000e+03, 2.453600e+03, 6.134000e+02,\n",
       "       7.300000e+03, 4.895740e+03, 5.900000e+02, 8.850000e+02,\n",
       "       1.512000e+04, 2.268000e+04, 1.008000e+04, 2.016000e+04,\n",
       "       1.260000e+04, 9.992400e+02, 6.455820e+03, 7.045900e+02,\n",
       "       1.148730e+04, 7.509900e+02, 1.501950e+03, 3.003840e+03,\n",
       "       2.766810e+03, 7.112500e+02, 1.167750e+03, 1.326000e+03,\n",
       "       2.262699e+04, 5.083260e+03, 1.524978e+04, 1.134600e+03,\n",
       "       2.100510e+03, 1.675350e+03, 7.294700e+02, 1.209650e+03,\n",
       "       3.024140e+03, 6.048270e+03, 1.209654e+04, 6.814480e+03,\n",
       "       7.707680e+03, 8.455500e+02, 4.227750e+03, 2.021810e+03,\n",
       "       2.189070e+03, 1.155000e+04, 1.152040e+03, 1.145990e+03,\n",
       "       2.864970e+03, 5.729940e+03, 1.145988e+04, 1.745150e+03,\n",
       "       3.925530e+03, 2.400000e+04, 2.954730e+03, 7.724300e+02,\n",
       "       9.847200e+02, 6.216380e+03, 4.675240e+03, 1.500000e+04,\n",
       "       5.600000e+03, 1.680000e+04, 8.990000e+02, 1.654000e+03,\n",
       "       4.542990e+03, 5.138450e+03, 6.825500e+02, 3.697260e+03,\n",
       "       1.324660e+03, 8.000000e+03, 1.200000e+04, 3.880500e+02,\n",
       "       2.600000e+02, 2.400000e+02, 1.248960e+03, 3.122400e+03,\n",
       "       9.690000e+02, 2.422550e+03, 1.185000e+03, 2.765000e+03,\n",
       "       3.160000e+03, 3.450000e+03, 4.950000e+03, 5.300000e+03,\n",
       "       4.500000e+03, 1.840200e+02, 2.295000e+03, 1.650000e+03,\n",
       "       1.825000e+03, 6.774000e+02, 2.709600e+03, 9.000000e+02,\n",
       "       1.600000e+03, 1.473460e+03, 7.707200e+02, 1.300510e+03,\n",
       "       1.643140e+03, 2.384060e+03, 3.095210e+03, 3.813170e+03,\n",
       "       2.295970e+03, 7.273970e+03, 1.697260e+03, 1.550000e+04,\n",
       "       1.850000e+03, 3.662800e+02, 2.500000e+03, 5.358910e+03,\n",
       "       1.003854e+04, 2.357140e+03, 5.980000e+03, 8.322500e+02,\n",
       "       1.475000e+04, 4.916670e+03, 2.842856e+04, 3.553570e+04,\n",
       "       4.264284e+04, 4.974998e+04, 5.685712e+04, 6.396426e+04,\n",
       "       7.107140e+04, 1.572700e+03, 1.980000e+04, 1.561834e+04,\n",
       "       7.698240e+03, 1.093300e+03, 1.335370e+03, 2.549020e+03,\n",
       "       2.110000e+03, 2.200000e+04, 4.655000e+02, 3.165000e+03,\n",
       "       7.830000e+02, 8.250000e+02, 6.388620e+03, 7.232880e+03,\n",
       "       7.442900e+02, 9.500000e+02, 2.588820e+03, 7.766470e+03,\n",
       "       1.163160e+03, 4.359510e+03, 1.089871e+04, 2.179745e+04,\n",
       "       5.000000e+03, 1.201298e+04, 1.256537e+04, 3.007230e+03,\n",
       "       3.000000e+03, 1.500000e+03, 7.450000e+03, 6.675000e+03,\n",
       "       2.125000e+06, 9.060000e+03, 1.019250e+05, 7.598600e+02,\n",
       "       6.710800e+02, 8.449600e+02, 1.040350e+03, 7.590000e+02,\n",
       "       7.260000e+02, 1.052620e+03, 8.251700e+02, 1.060802e+04,\n",
       "       1.040000e+03, 1.607680e+03, 3.499400e+03, 3.500500e+03,\n",
       "       4.450000e+02, 3.189900e+03, 3.652940e+03, 1.602980e+03,\n",
       "       1.900300e+02, 3.800500e+02, 8.575000e+03, 1.286600e+03,\n",
       "       8.000000e+02, 1.158320e+03, 8.454300e+02, 1.615000e+03,\n",
       "       2.625000e+03, 5.072000e+02, 1.205000e+03, 1.849000e+03,\n",
       "       7.796000e+02, 1.293500e+04, 2.100000e+04, 3.441180e+03,\n",
       "       1.032353e+04, 6.855000e+02, 1.371250e+03, 2.057000e+03,\n",
       "       2.389613e+04, 9.950000e+02, 1.710000e+02, 3.420000e+02,\n",
       "       6.840000e+02, 1.710000e+03, 1.561800e+04, 1.874160e+04,\n",
       "       8.500000e+02, 3.900000e+04, 1.041700e+04, 2.842500e+03,\n",
       "       5.685000e+03, 4.175000e+03, 4.000000e+03, 6.945300e+02,\n",
       "       1.252000e+03, 4.750000e+00, 2.145000e+01, 7.220000e+00,\n",
       "       3.612000e+01, 3.050000e+02, 2.040200e+02, 2.089100e+02,\n",
       "       2.138100e+02, 3.229300e+02, 5.544000e+01, 5.711000e+01,\n",
       "       9.073900e+02, 6.800000e+02, 9.256900e+02, 9.257100e+02,\n",
       "       1.851390e+03, 2.777070e+03, 8.370000e+02, 2.750000e+02,\n",
       "       3.000000e+01, 8.900000e+02, 8.002600e+02, 6.404000e+03,\n",
       "       2.348133e+04, 1.950000e+03, 2.475000e+03, 1.445620e+03,\n",
       "       7.437500e+02, 1.939050e+03, 1.415000e+03, 1.245000e+03,\n",
       "       1.753130e+03, 2.107500e+03, 7.012500e+02, 5.000000e+02,\n",
       "       8.376100e+02, 1.071540e+03, 8.699000e+02, 6.899500e+02,\n",
       "       3.500539e+04, 8.964400e+02, 4.362000e+03, 1.090500e+04,\n",
       "       7.222500e+02, 8.275000e+02, 7.252600e+02, 5.790000e+03,\n",
       "       3.200000e+04, 9.621600e+03, 1.443240e+04, 7.068490e+03,\n",
       "       8.717810e+03, 1.649320e+03, 2.115811e+04, 9.660000e+02,\n",
       "       1.496010e+03, 8.590150e+03, 1.337060e+03, 3.150000e+02,\n",
       "       3.150000e+03, 3.426840e+03, 2.607160e+03, 1.613430e+03,\n",
       "       2.925000e+04, 2.793000e+02, 3.800000e+02, 2.280400e+02,\n",
       "       8.642250e+03, 7.000000e+02, 8.275900e+02, 8.775000e+03,\n",
       "       1.931100e+02, 3.868800e+03, 2.925000e+02, 8.750000e+02,\n",
       "       2.700000e+03, 4.018530e+03, 2.060000e+04, 1.030000e+04,\n",
       "       6.866660e+03, 6.986400e+02, 1.397280e+03, 3.493200e+03,\n",
       "       9.564900e+02, 1.200000e+03, 3.940000e+02, 1.870000e+03,\n",
       "       9.350000e+02, 1.270700e+04, 8.471000e+03, 1.117043e+04,\n",
       "       1.461539e+04, 3.150000e+04, 2.800000e+04, 8.277000e+03,\n",
       "       6.758900e+02, 1.351760e+03, 2.703460e+03, 1.239000e+03,\n",
       "       6.943800e+02, 1.388770e+03, 1.028330e+03, 8.842000e+01,\n",
       "       1.075500e+02, 3.927000e+01, 2.637390e+03, 9.514300e+02,\n",
       "       1.427130e+03, 1.016500e+03, 2.033000e+03, 1.540370e+03,\n",
       "       5.885000e+03, 1.490000e+04, 4.863360e+04, 2.431680e+04,\n",
       "       1.215840e+04, 6.079200e+03, 2.012500e+03, 1.700000e+04,\n",
       "       7.325000e+02, 3.662500e+02, 1.320000e+03, 7.574000e+03,\n",
       "       6.633000e+03, 5.110120e+03, 3.730000e+05, 7.793300e+02,\n",
       "       6.687500e+03, 3.709040e+03, 7.632100e+02, 4.250000e+02,\n",
       "       5.920500e+02, 1.666620e+03, 7.142430e+03, 6.419430e+03,\n",
       "       6.714620e+03, 1.549020e+03, 4.250000e+03, 1.144500e+03,\n",
       "       8.975000e+03, 6.916670e+03, 2.230000e+00, 1.410000e+03,\n",
       "       2.095091e+04, 4.652920e+03, 2.755200e+02, 1.975600e+03,\n",
       "       9.672000e+02, 4.836000e+03, 1.001950e+03, 7.168000e+02,\n",
       "       3.584000e+03, 3.391080e+03, 2.138000e+02, 4.280000e+01,\n",
       "       1.170000e+03, 3.250000e+03, 1.850000e+04, 9.250000e+03,\n",
       "       4.600000e+03, 1.833330e+03, 9.850000e+02, 9.000000e+01,\n",
       "       1.970000e+03, 4.450000e+03, 7.793000e+02, 1.063170e+03,\n",
       "       1.143910e+03, 7.951700e+02, 1.880050e+03, 9.998900e+02,\n",
       "       7.700600e+02, 7.875000e+02, 1.395000e+03, 7.495000e+03,\n",
       "       7.078500e+02, 8.796150e+03, 1.402500e+03, 3.927000e+03,\n",
       "       1.665740e+03, 1.064580e+03, 1.726320e+03, 2.301770e+03,\n",
       "       1.104830e+03, 9.849700e+02, 2.672210e+03, 5.344420e+03,\n",
       "       9.434500e+02, 2.365820e+03, 1.455400e+03, 6.944300e+02,\n",
       "       1.669920e+03, 8.349600e+02, 2.257800e+04, 4.875000e+03,\n",
       "       2.137600e+04, 1.310000e+05, 7.650000e+03, 9.506000e+02,\n",
       "       7.050000e+02, 1.211700e+03, 9.893500e+02, 1.050000e+03,\n",
       "       1.920000e+04, 2.350000e+04, 3.960000e+04, 6.600000e+03,\n",
       "       1.320000e+04, 9.900000e+02, 1.342860e+03, 1.071430e+03,\n",
       "       1.318500e+03, 7.320400e+02, 7.746800e+02, 2.455860e+03,\n",
       "       4.700100e+03, 1.790000e+04, 9.960000e+03, 1.992000e+04,\n",
       "       7.446720e+03, 1.411740e+03, 2.049980e+03, 4.099870e+03,\n",
       "       1.287290e+03, 1.237800e+02, 4.266110e+03, 5.119330e+03,\n",
       "       4.403840e+03, 2.795790e+03, 4.964480e+03, 2.160000e+03,\n",
       "       1.202380e+03, 9.978200e+02, 8.400000e+02, 4.805250e+03,\n",
       "       1.227570e+04, 2.117080e+03, 5.292560e+03, 4.600540e+03,\n",
       "       3.950000e+03, 6.880500e+02, 2.415000e+04, 1.297830e+03,\n",
       "       8.613600e+02, 1.631770e+03, 3.082940e+03, 6.339580e+03,\n",
       "       1.531200e+02, 2.946000e+02, 4.209900e+02, 7.205540e+03,\n",
       "       9.520000e+02, 1.680000e+03, 4.103000e+05, 4.195000e+05,\n",
       "       3.482000e+03, 8.705000e+02, 7.215730e+03, 1.194000e+03,\n",
       "       1.094700e+03, 3.222040e+03, 8.997000e+02, 1.051189e+04,\n",
       "       8.704800e+02, 8.000000e+01, 1.000000e+03, 2.151000e+04,\n",
       "       3.226500e+04, 3.500000e+03, 1.686000e+03, 1.786000e+03,\n",
       "       1.284200e+03, 1.599900e+03, 8.525300e+02, 6.000000e+01,\n",
       "       4.727700e+02, 1.180000e+03, 1.417000e+03, 1.036938e+04,\n",
       "       7.303800e+02, 9.011400e+02, 1.802270e+03, 2.777540e+03,\n",
       "       1.026540e+03, 6.950000e+02, 9.770000e+02, 1.226000e+03,\n",
       "       6.148080e+03, 7.370400e+02, 2.986430e+03, 3.772300e+03,\n",
       "       8.083500e+03, 1.317000e+04, 2.000000e+03, 5.295860e+03,\n",
       "       7.553150e+03, 2.669550e+03, 3.765050e+03, 7.134600e+02,\n",
       "       3.289440e+03, 1.561100e+03, 3.625810e+03, 2.077000e+03,\n",
       "       8.308000e+03, 1.284220e+03, 7.651000e+02, 1.036600e+03,\n",
       "       9.634400e+02, 1.400000e+03, 4.884000e+03, 2.640000e+04,\n",
       "       8.495000e+03, 4.650000e+04, 3.143000e+03, 2.900000e+02,\n",
       "       1.367060e+03, 2.734110e+03, 4.812600e+02, 9.624700e+02,\n",
       "       9.745400e+02, 7.043000e+03, 8.088500e+02, 1.349020e+03,\n",
       "       9.500000e+03, 6.849000e+02, 1.025100e+03, 7.254000e+02,\n",
       "       7.300000e+02, 1.030640e+03, 1.369860e+03, 3.700000e+02,\n",
       "       3.645200e+02, 3.944390e+03, 7.200000e+02, 9.975000e+02,\n",
       "       1.294000e+04, 3.352800e+03, 1.744000e+03, 3.136000e+03,\n",
       "       1.800000e+03, 1.930000e+03, 1.544000e+03, 1.460000e+03,\n",
       "       1.962000e+03, 1.740000e+03, 2.200000e+03, 1.516000e+03,\n",
       "       1.480000e+03, 1.704000e+03, 1.123810e+03, 2.150000e+04,\n",
       "       3.750000e+04, 1.078125e+04, 3.300000e+03, 4.727700e+03,\n",
       "       1.714300e+03, 8.691400e+02, 1.714900e+03, 1.029330e+03,\n",
       "       6.679800e+03, 1.688505e+04, 3.377010e+04, 8.886300e+02,\n",
       "       8.943200e+02, 7.400000e+02, 1.080000e+03, 1.440000e+03,\n",
       "       9.151300e+02, 8.505400e+02, 5.092790e+03, 1.018559e+04,\n",
       "       1.527839e+04, 1.773167e+04, 2.500000e+04, 1.040930e+03,\n",
       "       1.900080e+03, 7.635700e+02, 8.215600e+02, 9.971000e+02,\n",
       "       2.437270e+03, 9.637900e+02, 1.590000e+04, 2.120559e+04,\n",
       "       6.442200e+03, 3.960000e+03, 5.940000e+03, 2.036800e+04,\n",
       "       2.670000e+03, 1.226050e+03, 1.839080e+03, 6.785000e+03,\n",
       "       5.671260e+03, 1.058624e+04, 4.250000e+04, 2.576000e+04,\n",
       "       6.440000e+03, 3.220000e+03, 3.951000e+03, 3.633000e+03,\n",
       "       2.280000e+03, 3.648000e+03, 1.441010e+03, 1.152000e+03,\n",
       "       1.369427e+04, 1.416000e+04, 4.219540e+03, 8.892660e+03,\n",
       "       9.714800e+02, 1.950000e+04, 9.793000e+02, 3.951200e+03,\n",
       "       6.930000e+02, 3.168650e+03, 2.190000e+03, 1.225000e+03,\n",
       "       6.975580e+03, 1.876000e+04, 4.650000e+05, 1.110220e+03,\n",
       "       1.674400e+03, 3.348800e+03, 8.015300e+02, 4.883640e+03,\n",
       "       9.767300e+03, 1.465095e+04, 1.700348e+04, 3.996000e+02,\n",
       "       1.780450e+03, 2.123770e+03, 4.247540e+03, 3.302040e+03,\n",
       "       3.496500e+03, 3.300000e+02, 6.500000e+02, 1.623176e+04,\n",
       "       4.914000e+03, 1.235000e+03, 3.275000e+03, 3.748930e+03,\n",
       "       1.398400e+03, 3.969570e+03, 2.015736e+04, 1.511804e+04,\n",
       "       1.609110e+03, 5.207850e+03, 2.956200e+02, 3.700000e+03,\n",
       "       1.350000e+04])"
      ]
     },
     "execution_count": 31,
     "metadata": {},
     "output_type": "execute_result"
    }
   ],
   "source": [
    "merged_df['WAC'].unique()"
   ]
  },
  {
   "cell_type": "markdown",
   "metadata": {},
   "source": [
    "### Imputing missing values "
   ]
  },
  {
   "cell_type": "markdown",
   "metadata": {},
   "source": [
    "\"Breakthrough_Therapy\" indicates whether the drug was granted breakthrough therapy designation by the federal Food and Drug Administration prior to approval.  An indicator of 1 means that this drug was reviewed as such prior to approval.\n",
    "\n",
    "\"Priority_Preview\" indicates whether the drug was granted priority review by the federal Food and Drug Administration prior to approval.  An indicator of 1 means that this drug was reviewed as such prior to approval. \n",
    "\n",
    "A manufacturer may limit the information reported to that which is otherwise in the public domain or publicly available. An indicator of 1 for Marketing/Pricing Plan Non-Public Indicator \"Market_NP\" or Acquisition Price Non-Public Indicator \"Acq_Price NP\" means that the information is not in the public domain or publicaly available.\n",
    "\n",
    "Since missing values in these column indicate non-occurence, the missing values can be replaced by \"0\". "
   ]
  },
  {
   "cell_type": "code",
   "execution_count": 32,
   "metadata": {},
   "outputs": [],
   "source": [
    "cols = ['Breakthrough_Therapy', 'Priority_Review', 'Market_NP', 'Acq_Price NP']"
   ]
  },
  {
   "cell_type": "code",
   "execution_count": 33,
   "metadata": {},
   "outputs": [],
   "source": [
    "merged_df[cols] = merged_df[cols].fillna(0).astype(int)"
   ]
  },
  {
   "cell_type": "code",
   "execution_count": 34,
   "metadata": {
    "scrolled": true
   },
   "outputs": [
    {
     "data": {
      "text/html": [
       "<div>\n",
       "<style scoped>\n",
       "    .dataframe tbody tr th:only-of-type {\n",
       "        vertical-align: middle;\n",
       "    }\n",
       "\n",
       "    .dataframe tbody tr th {\n",
       "        vertical-align: top;\n",
       "    }\n",
       "\n",
       "    .dataframe thead th {\n",
       "        text-align: right;\n",
       "    }\n",
       "</style>\n",
       "<table border=\"1\" class=\"dataframe\">\n",
       "  <thead>\n",
       "    <tr style=\"text-align: right;\">\n",
       "      <th></th>\n",
       "      <th>Manufacturer</th>\n",
       "      <th>NDC</th>\n",
       "      <th>Drug</th>\n",
       "      <th>Market_Date</th>\n",
       "      <th>WAC</th>\n",
       "      <th>Market_Plan</th>\n",
       "      <th>Market_NP</th>\n",
       "      <th>#Patients</th>\n",
       "      <th>Breakthrough_Therapy</th>\n",
       "      <th>Priority_Review</th>\n",
       "      <th>Acq_Date</th>\n",
       "      <th>Acq_Price</th>\n",
       "      <th>Acq_Price NP</th>\n",
       "      <th>Acq_Price_Comment</th>\n",
       "      <th>Gen_com</th>\n",
       "      <th>Supp_Docs</th>\n",
       "    </tr>\n",
       "  </thead>\n",
       "  <tbody>\n",
       "    <tr>\n",
       "      <th>0</th>\n",
       "      <td>SUN PHARMACEUTICALS</td>\n",
       "      <td>47335093640</td>\n",
       "      <td>Leuprolide Acetate Injection 1Mg/0.2Ml, 2.8Ml</td>\n",
       "      <td>2019-03-01</td>\n",
       "      <td>705.67</td>\n",
       "      <td>NaN</td>\n",
       "      <td>1</td>\n",
       "      <td>NaN</td>\n",
       "      <td>0</td>\n",
       "      <td>0</td>\n",
       "      <td>NaN</td>\n",
       "      <td>NaN</td>\n",
       "      <td>0</td>\n",
       "      <td>NaN</td>\n",
       "      <td>ESTIMATED_PATIENTS: unknown to Sun; MARKETING_...</td>\n",
       "      <td>NaN</td>\n",
       "    </tr>\n",
       "    <tr>\n",
       "      <th>1</th>\n",
       "      <td>SUN PHARMACEUTICALS</td>\n",
       "      <td>47335023683</td>\n",
       "      <td>Ambrisentan 5 mg Tabs 30ct</td>\n",
       "      <td>2019-04-25</td>\n",
       "      <td>7500.00</td>\n",
       "      <td>This product is priced to reflect a discount o...</td>\n",
       "      <td>0</td>\n",
       "      <td>0</td>\n",
       "      <td>0</td>\n",
       "      <td>0</td>\n",
       "      <td>NaN</td>\n",
       "      <td>NaN</td>\n",
       "      <td>0</td>\n",
       "      <td>NaN</td>\n",
       "      <td>Estimated average of patients per month is unk...</td>\n",
       "      <td>NaN</td>\n",
       "    </tr>\n",
       "    <tr>\n",
       "      <th>2</th>\n",
       "      <td>SUN PHARMACEUTICALS</td>\n",
       "      <td>47335023783</td>\n",
       "      <td>Ambrisentan 10 mg Tabs 30ct</td>\n",
       "      <td>2019-04-25</td>\n",
       "      <td>7500.00</td>\n",
       "      <td>This product is priced to reflect a discount o...</td>\n",
       "      <td>0</td>\n",
       "      <td>0</td>\n",
       "      <td>0</td>\n",
       "      <td>0</td>\n",
       "      <td>NaN</td>\n",
       "      <td>NaN</td>\n",
       "      <td>0</td>\n",
       "      <td>NaN</td>\n",
       "      <td>Estimated average of patients per month is unk...</td>\n",
       "      <td>NaN</td>\n",
       "    </tr>\n",
       "    <tr>\n",
       "      <th>3</th>\n",
       "      <td>SUN PHARMACEUTICALS</td>\n",
       "      <td>47335003886</td>\n",
       "      <td>Bosentan Tablets 62.5mg 60ct</td>\n",
       "      <td>2019-06-14</td>\n",
       "      <td>6281.07</td>\n",
       "      <td>This product is priced to reflect a discount o...</td>\n",
       "      <td>0</td>\n",
       "      <td>0</td>\n",
       "      <td>0</td>\n",
       "      <td>0</td>\n",
       "      <td>NaN</td>\n",
       "      <td>NaN</td>\n",
       "      <td>0</td>\n",
       "      <td>NaN</td>\n",
       "      <td>Estimated average of patients per month is unk...</td>\n",
       "      <td>NaN</td>\n",
       "    </tr>\n",
       "    <tr>\n",
       "      <th>4</th>\n",
       "      <td>SUN PHARMACEUTICALS</td>\n",
       "      <td>47335003986</td>\n",
       "      <td>Bosentan Tablets 125mg 60ct</td>\n",
       "      <td>2019-06-14</td>\n",
       "      <td>6281.07</td>\n",
       "      <td>This product is priced to reflect a discount o...</td>\n",
       "      <td>0</td>\n",
       "      <td>0</td>\n",
       "      <td>0</td>\n",
       "      <td>0</td>\n",
       "      <td>NaN</td>\n",
       "      <td>NaN</td>\n",
       "      <td>0</td>\n",
       "      <td>NaN</td>\n",
       "      <td>Estimated average of patients per month is unk...</td>\n",
       "      <td>NaN</td>\n",
       "    </tr>\n",
       "  </tbody>\n",
       "</table>\n",
       "</div>"
      ],
      "text/plain": [
       "          Manufacturer          NDC  \\\n",
       "0  SUN PHARMACEUTICALS  47335093640   \n",
       "1  SUN PHARMACEUTICALS  47335023683   \n",
       "2  SUN PHARMACEUTICALS  47335023783   \n",
       "3  SUN PHARMACEUTICALS  47335003886   \n",
       "4  SUN PHARMACEUTICALS  47335003986   \n",
       "\n",
       "                                            Drug Market_Date      WAC  \\\n",
       "0  Leuprolide Acetate Injection 1Mg/0.2Ml, 2.8Ml  2019-03-01   705.67   \n",
       "1                     Ambrisentan 5 mg Tabs 30ct  2019-04-25  7500.00   \n",
       "2                    Ambrisentan 10 mg Tabs 30ct  2019-04-25  7500.00   \n",
       "3                   Bosentan Tablets 62.5mg 60ct  2019-06-14  6281.07   \n",
       "4                    Bosentan Tablets 125mg 60ct  2019-06-14  6281.07   \n",
       "\n",
       "                                         Market_Plan  Market_NP #Patients  \\\n",
       "0                                                NaN          1       NaN   \n",
       "1  This product is priced to reflect a discount o...          0         0   \n",
       "2  This product is priced to reflect a discount o...          0         0   \n",
       "3  This product is priced to reflect a discount o...          0         0   \n",
       "4  This product is priced to reflect a discount o...          0         0   \n",
       "\n",
       "   Breakthrough_Therapy  Priority_Review Acq_Date  Acq_Price  Acq_Price NP  \\\n",
       "0                     0                0      NaN        NaN             0   \n",
       "1                     0                0      NaN        NaN             0   \n",
       "2                     0                0      NaN        NaN             0   \n",
       "3                     0                0      NaN        NaN             0   \n",
       "4                     0                0      NaN        NaN             0   \n",
       "\n",
       "  Acq_Price_Comment                                            Gen_com  \\\n",
       "0               NaN  ESTIMATED_PATIENTS: unknown to Sun; MARKETING_...   \n",
       "1               NaN  Estimated average of patients per month is unk...   \n",
       "2               NaN  Estimated average of patients per month is unk...   \n",
       "3               NaN  Estimated average of patients per month is unk...   \n",
       "4               NaN  Estimated average of patients per month is unk...   \n",
       "\n",
       "  Supp_Docs  \n",
       "0       NaN  \n",
       "1       NaN  \n",
       "2       NaN  \n",
       "3       NaN  \n",
       "4       NaN  "
      ]
     },
     "execution_count": 34,
     "metadata": {},
     "output_type": "execute_result"
    }
   ],
   "source": [
    "merged_df.head()"
   ]
  },
  {
   "cell_type": "markdown",
   "metadata": {},
   "source": [
    "There are missing values in the estimated number of patients \"#Patients\" column. It's important to look at the check  to make a decision on dealing with missing values."
   ]
  },
  {
   "cell_type": "code",
   "execution_count": 35,
   "metadata": {},
   "outputs": [
    {
     "name": "stdout",
     "output_type": "stream",
     "text": [
      "<class 'pandas.core.frame.DataFrame'>\n",
      "Int64Index: 726 entries, 1 to 78\n",
      "Data columns (total 16 columns):\n",
      " #   Column                Non-Null Count  Dtype  \n",
      "---  ------                --------------  -----  \n",
      " 0   Manufacturer          726 non-null    object \n",
      " 1   NDC                   726 non-null    int64  \n",
      " 2   Drug                  725 non-null    object \n",
      " 3   Market_Date           726 non-null    object \n",
      " 4   WAC                   726 non-null    float64\n",
      " 5   Market_Plan           362 non-null    object \n",
      " 6   Market_NP             726 non-null    int64  \n",
      " 7   #Patients             726 non-null    object \n",
      " 8   Breakthrough_Therapy  726 non-null    int64  \n",
      " 9   Priority_Review       726 non-null    int64  \n",
      " 10  Acq_Date              93 non-null     object \n",
      " 11  Acq_Price             64 non-null     float64\n",
      " 12  Acq_Price NP          726 non-null    int64  \n",
      " 13  Acq_Price_Comment     81 non-null     object \n",
      " 14  Gen_com               608 non-null    object \n",
      " 15  Supp_Docs             46 non-null     object \n",
      "dtypes: float64(2), int64(5), object(9)\n",
      "memory usage: 96.4+ KB\n"
     ]
    }
   ],
   "source": [
    "#Since \"#Patients\" variable is the main explanatory variable. We do not want to impute missing \n",
    "#values despite the small dataset. Thus. we drop the missing values\n",
    "\n",
    "price_df = merged_df[merged_df['#Patients'].notna()]\n",
    "\n",
    "price_df.info()"
   ]
  },
  {
   "cell_type": "code",
   "execution_count": 36,
   "metadata": {},
   "outputs": [
    {
     "data": {
      "text/plain": [
       "dtype('O')"
      ]
     },
     "execution_count": 36,
     "metadata": {},
     "output_type": "execute_result"
    }
   ],
   "source": [
    "#Check the dtype of '#Patients'\n",
    "price_df['#Patients'].dtypes"
   ]
  },
  {
   "cell_type": "code",
   "execution_count": 37,
   "metadata": {},
   "outputs": [
    {
     "data": {
      "text/plain": [
       "array(['0', '70000', '3000', '75000', '1800', '1000000', '80000', '86000',\n",
       "       '660', '101361', '5000', '900', '650', '1600', '1120', '145000',\n",
       "       '375', '310', '720', '270', '345', '8400', '550', '613554', '2415',\n",
       "       '1469', '1950', '590', '200', '5270', '52000', '187628', '108419',\n",
       "       '1400000', '540000', '29011965', '179962', '40151', '12000', '800',\n",
       "       '108', '3534', '1485', '320000', '43000', '700000', '2048',\n",
       "       '2000000', '6000', '5240000', '344000', '150', '750', '2500',\n",
       "       '197', '196', '380', '23360000', '1', '468000', '17300',\n",
       "       '15000000', '500000', '7000', '11000', 0.0, 7250.0, 634211.0,\n",
       "       1600000.0, 321.0, 3936.0, 31000000.0, 10200000.0, 3500000.0,\n",
       "       6000000.0, 325000.0, 4500000.0, 650000.0, 26250.0, 315000.0,\n",
       "       12800000.0, 1500000.0, 41.0, 1000000.0, 23401.0, 1556.0, 500000.0,\n",
       "       274.0, 2946.0, 280000.0, 2700.0, 59000.0, 33000.0, 650.0,\n",
       "       7500000.0, 20.0, 1700.0, 10000.0, 1100.0, 1300000.0, 4000.0,\n",
       "       6300000.0, 6700.0, 1344000.0, 276480.0, 19000.0, 537469.0, 35870.0,\n",
       "       100.0, 3750.0, 138.0, 8000.0, 454848.0, 800000.0, 1.0, 38600.0,\n",
       "       7200.0, 25400.0, 3500.0, 6570.0, 27635.0, 120846.0, 213589.0,\n",
       "       466000.0, 73750.0, 3400000.0, 86060.0, 77240.0, 15000.0, 15.0,\n",
       "       9000.0, 218623.0, 36174.0, 2400000.0, 8500.0, 13435.0, 8694.0,\n",
       "       23769.0, 2000000.0, 239431.0, 88833.0, 4200000.0, 89482.0,\n",
       "       2996432.0, 776836.0, 272125.0, 907000.0, 451.0, 3100.0, 6089.0,\n",
       "       192200.0, 2000.0, 328.0, 8000000.0, 204000.0, 64000.0, 30000.0,\n",
       "       142000.0, 1800000.0, 19600000.0, 100000.0, 39600000.0, 10000000.0,\n",
       "       6000.0, 1200000.0, 18000000.0, 558000.0, 5000000.0, 20000.0, 135.0,\n",
       "       112.0, 6770.0, 23450.0, 2950.0, 12550.0, 4850.0, 1650.0, 17000.0,\n",
       "       24000.0, 728000.0, 1100000.0, 804500.0, 13700.0, 1500.0, 6500.0,\n",
       "       9300.0, 1300.0, 150.0, 40000000.0, 2600000.0, 90000.0, 10800000.0,\n",
       "       50000000.0, 9000000.0, 147000.0, 300.0, 191930.0, 36400.0, 2083.0,\n",
       "       6628.0, 20833.0, 2200000.0, 12000000.0, 300000.0, 5000.0, 48000.0,\n",
       "       220000.0, 248530.0, 400000.0, 5410.0, 37139.0, 504000.0, 130.0,\n",
       "       1680.0, 622.0, 12000.0, 427081.0, 6829.0, 134.0, 250000.0,\n",
       "       910000.0, 1940.0, 2825.0, 45000000.0, 1000.0, 2186.0, 21000.0,\n",
       "       2663.0, 152914.0, 82125.0, 209827.0, 279013.0, 250.0, 700.0,\n",
       "       76080.0, 29000000.0, 13100.0, 67000.0, 480.0, 96327.0, 59486.0,\n",
       "       500.0, 3000.0, 7000.0, 53356.0, 3693.0, 173179.0, 7975.0, 43797.0,\n",
       "       220707.0, 200000.0, 705600.0, 8810.0, 2500.0, 400.0, 35381.0,\n",
       "       16400000.0, 14288.0, 60937.0, 17660.0, 162500.0, 904000.0,\n",
       "       750315.0, 3237152.0, 45000.0, 3350.0, 150000.0, 200.0, 169626.0,\n",
       "       3000000.0, 12.0, 10.0, 6.0, 4999.0, 2408.0, 19000000.0, 7000000.0,\n",
       "       66000000.0, 13200.0, 26500000.0, 609000.0, 13.0, 27383.0, 2867.0,\n",
       "       8667.0, 3641.0, 29560.0, 62000.0, 11000000.0, 60.0, 180.0, 4500.0,\n",
       "       175000.0, 558060.0, 1260.0, 230000.0, 216.0, 80000.0, 16000.0,\n",
       "       36241815.0, 125000.0, 34920.0, 40627.0, 83020.0, 21528.0, 25000.0,\n",
       "       275000.0, 185000.0, 225000.0, 70000.0], dtype=object)"
      ]
     },
     "execution_count": 37,
     "metadata": {},
     "output_type": "execute_result"
    }
   ],
   "source": [
    "#It looks the number of patients is  of type 'object'\n",
    "price_df['#Patients'].unique()"
   ]
  },
  {
   "cell_type": "markdown",
   "metadata": {},
   "source": [
    "The is an entry that is not a number but a long string comment that doesn't belong in this column. We can drop this row."
   ]
  },
  {
   "cell_type": "code",
   "execution_count": 38,
   "metadata": {},
   "outputs": [],
   "source": [
    "# Remove the long string comment fron the column\n",
    "price_df = price_df.loc[price_df['#Patients'] != 'Acorda markets INBRIJA in the U.S. through our own specialty sales force. The marketing plan includes multiple comprehensive education and training initiatives, provided by our specialty sales force and account directors, for all stakeholders including health care practitioner (HCP) offices, patients, caregivers and Specialty Pharmacies. This includes training materials such as demonstration kits for HCP offices and specialty pharmacies and start kits for patients. People with Parkinson’s can suffer from cognitive challenges which make it very difficult for them to navigate the complex health insurance environment. Acorda has an active patient hub in place (Prescription Support Services) to assist patients in that health insurance navigation process to support access to INBRIJA. Our internal team of Regional Reimbursement Directors work directly with HCP offices on specific patient cases to help gain access through their insurance. Acorda offers a free sampling program to help patients and physicians evaluate effectiveness and tolerability, and a free drug Patient Assistance Program for uninsured patients with demonstrated financial hardship who satisfy eligibility criteria. Acorda provides co-pay assistance for commercially insured patients. INBRIJA is a specialty drug distributed through a closed network of specialty pharmacies under contract with Acorda.   o' ]"
   ]
  },
  {
   "cell_type": "code",
   "execution_count": 39,
   "metadata": {},
   "outputs": [
    {
     "data": {
      "text/plain": [
       "array(['0', '70000', '3000', '75000', '1800', '1000000', '80000', '86000',\n",
       "       '660', '101361', '5000', '900', '650', '1600', '1120', '145000',\n",
       "       '375', '310', '720', '270', '345', '8400', '550', '613554', '2415',\n",
       "       '1469', '1950', '590', '200', '5270', '52000', '187628', '108419',\n",
       "       '1400000', '540000', '29011965', '179962', '40151', '12000', '800',\n",
       "       '108', '3534', '1485', '320000', '43000', '700000', '2048',\n",
       "       '2000000', '6000', '5240000', '344000', '150', '750', '2500',\n",
       "       '197', '196', '380', '23360000', '1', '468000', '17300',\n",
       "       '15000000', '500000', '7000', '11000', 0.0, 7250.0, 634211.0,\n",
       "       1600000.0, 321.0, 3936.0, 31000000.0, 10200000.0, 3500000.0,\n",
       "       6000000.0, 325000.0, 4500000.0, 650000.0, 26250.0, 315000.0,\n",
       "       12800000.0, 1500000.0, 41.0, 1000000.0, 23401.0, 1556.0, 500000.0,\n",
       "       274.0, 2946.0, 280000.0, 2700.0, 59000.0, 33000.0, 650.0,\n",
       "       7500000.0, 20.0, 1700.0, 10000.0, 1100.0, 1300000.0, 4000.0,\n",
       "       6300000.0, 6700.0, 1344000.0, 276480.0, 19000.0, 537469.0, 35870.0,\n",
       "       100.0, 3750.0, 138.0, 8000.0, 454848.0, 800000.0, 1.0, 38600.0,\n",
       "       7200.0, 25400.0, 3500.0, 6570.0, 27635.0, 120846.0, 213589.0,\n",
       "       466000.0, 73750.0, 3400000.0, 86060.0, 77240.0, 15000.0, 15.0,\n",
       "       9000.0, 218623.0, 36174.0, 2400000.0, 8500.0, 13435.0, 8694.0,\n",
       "       23769.0, 2000000.0, 239431.0, 88833.0, 4200000.0, 89482.0,\n",
       "       2996432.0, 776836.0, 272125.0, 907000.0, 451.0, 3100.0, 6089.0,\n",
       "       192200.0, 2000.0, 328.0, 8000000.0, 204000.0, 64000.0, 30000.0,\n",
       "       142000.0, 1800000.0, 19600000.0, 100000.0, 39600000.0, 10000000.0,\n",
       "       6000.0, 1200000.0, 18000000.0, 558000.0, 5000000.0, 20000.0, 135.0,\n",
       "       112.0, 6770.0, 23450.0, 2950.0, 12550.0, 4850.0, 1650.0, 17000.0,\n",
       "       24000.0, 728000.0, 1100000.0, 804500.0, 13700.0, 1500.0, 6500.0,\n",
       "       9300.0, 1300.0, 150.0, 40000000.0, 2600000.0, 90000.0, 10800000.0,\n",
       "       50000000.0, 9000000.0, 147000.0, 300.0, 191930.0, 36400.0, 2083.0,\n",
       "       6628.0, 20833.0, 2200000.0, 12000000.0, 300000.0, 5000.0, 48000.0,\n",
       "       220000.0, 248530.0, 400000.0, 5410.0, 37139.0, 504000.0, 130.0,\n",
       "       1680.0, 622.0, 12000.0, 427081.0, 6829.0, 134.0, 250000.0,\n",
       "       910000.0, 1940.0, 2825.0, 45000000.0, 1000.0, 2186.0, 21000.0,\n",
       "       2663.0, 152914.0, 82125.0, 209827.0, 279013.0, 250.0, 700.0,\n",
       "       76080.0, 29000000.0, 13100.0, 67000.0, 480.0, 96327.0, 59486.0,\n",
       "       500.0, 3000.0, 7000.0, 53356.0, 3693.0, 173179.0, 7975.0, 43797.0,\n",
       "       220707.0, 200000.0, 705600.0, 8810.0, 2500.0, 400.0, 35381.0,\n",
       "       16400000.0, 14288.0, 60937.0, 17660.0, 162500.0, 904000.0,\n",
       "       750315.0, 3237152.0, 45000.0, 3350.0, 150000.0, 200.0, 169626.0,\n",
       "       3000000.0, 12.0, 10.0, 6.0, 4999.0, 2408.0, 19000000.0, 7000000.0,\n",
       "       66000000.0, 13200.0, 26500000.0, 609000.0, 13.0, 27383.0, 2867.0,\n",
       "       8667.0, 3641.0, 29560.0, 62000.0, 11000000.0, 60.0, 180.0, 4500.0,\n",
       "       175000.0, 558060.0, 1260.0, 230000.0, 216.0, 80000.0, 16000.0,\n",
       "       36241815.0, 125000.0, 34920.0, 40627.0, 83020.0, 21528.0, 25000.0,\n",
       "       275000.0, 185000.0, 225000.0, 70000.0], dtype=object)"
      ]
     },
     "execution_count": 39,
     "metadata": {},
     "output_type": "execute_result"
    }
   ],
   "source": [
    "price_df['#Patients'].unique()"
   ]
  },
  {
   "cell_type": "code",
   "execution_count": 40,
   "metadata": {},
   "outputs": [],
   "source": [
    "#Convert '#Patients' dtype to float\n",
    "price_df['#Patients'] = price_df['#Patients'].astype(float)"
   ]
  },
  {
   "cell_type": "code",
   "execution_count": 41,
   "metadata": {},
   "outputs": [
    {
     "data": {
      "text/plain": [
       "array([0.0000000e+00, 7.0000000e+04, 3.0000000e+03, 7.5000000e+04,\n",
       "       1.8000000e+03, 1.0000000e+06, 8.0000000e+04, 8.6000000e+04,\n",
       "       6.6000000e+02, 1.0136100e+05, 5.0000000e+03, 9.0000000e+02,\n",
       "       6.5000000e+02, 1.6000000e+03, 1.1200000e+03, 1.4500000e+05,\n",
       "       3.7500000e+02, 3.1000000e+02, 7.2000000e+02, 2.7000000e+02,\n",
       "       3.4500000e+02, 8.4000000e+03, 5.5000000e+02, 6.1355400e+05,\n",
       "       2.4150000e+03, 1.4690000e+03, 1.9500000e+03, 5.9000000e+02,\n",
       "       2.0000000e+02, 5.2700000e+03, 5.2000000e+04, 1.8762800e+05,\n",
       "       1.0841900e+05, 1.4000000e+06, 5.4000000e+05, 2.9011965e+07,\n",
       "       1.7996200e+05, 4.0151000e+04, 1.2000000e+04, 8.0000000e+02,\n",
       "       1.0800000e+02, 3.5340000e+03, 1.4850000e+03, 3.2000000e+05,\n",
       "       4.3000000e+04, 7.0000000e+05, 2.0480000e+03, 2.0000000e+06,\n",
       "       6.0000000e+03, 5.2400000e+06, 3.4400000e+05, 1.5000000e+02,\n",
       "       7.5000000e+02, 2.5000000e+03, 1.9700000e+02, 1.9600000e+02,\n",
       "       3.8000000e+02, 2.3360000e+07, 1.0000000e+00, 4.6800000e+05,\n",
       "       1.7300000e+04, 1.5000000e+07, 5.0000000e+05, 7.0000000e+03,\n",
       "       1.1000000e+04, 7.2500000e+03, 6.3421100e+05, 1.6000000e+06,\n",
       "       3.2100000e+02, 3.9360000e+03, 3.1000000e+07, 1.0200000e+07,\n",
       "       3.5000000e+06, 6.0000000e+06, 3.2500000e+05, 4.5000000e+06,\n",
       "       6.5000000e+05, 2.6250000e+04, 3.1500000e+05, 1.2800000e+07,\n",
       "       1.5000000e+06, 4.1000000e+01, 2.3401000e+04, 1.5560000e+03,\n",
       "       2.7400000e+02, 2.9460000e+03, 2.8000000e+05, 2.7000000e+03,\n",
       "       5.9000000e+04, 3.3000000e+04, 7.5000000e+06, 2.0000000e+01,\n",
       "       1.7000000e+03, 1.0000000e+04, 1.1000000e+03, 1.3000000e+06,\n",
       "       4.0000000e+03, 6.3000000e+06, 6.7000000e+03, 1.3440000e+06,\n",
       "       2.7648000e+05, 1.9000000e+04, 5.3746900e+05, 3.5870000e+04,\n",
       "       1.0000000e+02, 3.7500000e+03, 1.3800000e+02, 8.0000000e+03,\n",
       "       4.5484800e+05, 8.0000000e+05, 3.8600000e+04, 7.2000000e+03,\n",
       "       2.5400000e+04, 3.5000000e+03, 6.5700000e+03, 2.7635000e+04,\n",
       "       1.2084600e+05, 2.1358900e+05, 4.6600000e+05, 7.3750000e+04,\n",
       "       3.4000000e+06, 8.6060000e+04, 7.7240000e+04, 1.5000000e+04,\n",
       "       1.5000000e+01, 9.0000000e+03, 2.1862300e+05, 3.6174000e+04,\n",
       "       2.4000000e+06, 8.5000000e+03, 1.3435000e+04, 8.6940000e+03,\n",
       "       2.3769000e+04, 2.3943100e+05, 8.8833000e+04, 4.2000000e+06,\n",
       "       8.9482000e+04, 2.9964320e+06, 7.7683600e+05, 2.7212500e+05,\n",
       "       9.0700000e+05, 4.5100000e+02, 3.1000000e+03, 6.0890000e+03,\n",
       "       1.9220000e+05, 2.0000000e+03, 3.2800000e+02, 8.0000000e+06,\n",
       "       2.0400000e+05, 6.4000000e+04, 3.0000000e+04, 1.4200000e+05,\n",
       "       1.8000000e+06, 1.9600000e+07, 1.0000000e+05, 3.9600000e+07,\n",
       "       1.0000000e+07, 1.2000000e+06, 1.8000000e+07, 5.5800000e+05,\n",
       "       5.0000000e+06, 2.0000000e+04, 1.3500000e+02, 1.1200000e+02,\n",
       "       6.7700000e+03, 2.3450000e+04, 2.9500000e+03, 1.2550000e+04,\n",
       "       4.8500000e+03, 1.6500000e+03, 1.7000000e+04, 2.4000000e+04,\n",
       "       7.2800000e+05, 1.1000000e+06, 8.0450000e+05, 1.3700000e+04,\n",
       "       1.5000000e+03, 6.5000000e+03, 9.3000000e+03, 1.3000000e+03,\n",
       "       4.0000000e+07, 2.6000000e+06, 9.0000000e+04, 1.0800000e+07,\n",
       "       5.0000000e+07, 9.0000000e+06, 1.4700000e+05, 3.0000000e+02,\n",
       "       1.9193000e+05, 3.6400000e+04, 2.0830000e+03, 6.6280000e+03,\n",
       "       2.0833000e+04, 2.2000000e+06, 1.2000000e+07, 3.0000000e+05,\n",
       "       4.8000000e+04, 2.2000000e+05, 2.4853000e+05, 4.0000000e+05,\n",
       "       5.4100000e+03, 3.7139000e+04, 5.0400000e+05, 1.3000000e+02,\n",
       "       1.6800000e+03, 6.2200000e+02, 4.2708100e+05, 6.8290000e+03,\n",
       "       1.3400000e+02, 2.5000000e+05, 9.1000000e+05, 1.9400000e+03,\n",
       "       2.8250000e+03, 4.5000000e+07, 1.0000000e+03, 2.1860000e+03,\n",
       "       2.1000000e+04, 2.6630000e+03, 1.5291400e+05, 8.2125000e+04,\n",
       "       2.0982700e+05, 2.7901300e+05, 2.5000000e+02, 7.0000000e+02,\n",
       "       7.6080000e+04, 2.9000000e+07, 1.3100000e+04, 6.7000000e+04,\n",
       "       4.8000000e+02, 9.6327000e+04, 5.9486000e+04, 5.0000000e+02,\n",
       "       5.3356000e+04, 3.6930000e+03, 1.7317900e+05, 7.9750000e+03,\n",
       "       4.3797000e+04, 2.2070700e+05, 2.0000000e+05, 7.0560000e+05,\n",
       "       8.8100000e+03, 4.0000000e+02, 3.5381000e+04, 1.6400000e+07,\n",
       "       1.4288000e+04, 6.0937000e+04, 1.7660000e+04, 1.6250000e+05,\n",
       "       9.0400000e+05, 7.5031500e+05, 3.2371520e+06, 4.5000000e+04,\n",
       "       3.3500000e+03, 1.5000000e+05, 1.6962600e+05, 3.0000000e+06,\n",
       "       1.2000000e+01, 1.0000000e+01, 6.0000000e+00, 4.9990000e+03,\n",
       "       2.4080000e+03, 1.9000000e+07, 7.0000000e+06, 6.6000000e+07,\n",
       "       1.3200000e+04, 2.6500000e+07, 6.0900000e+05, 1.3000000e+01,\n",
       "       2.7383000e+04, 2.8670000e+03, 8.6670000e+03, 3.6410000e+03,\n",
       "       2.9560000e+04, 6.2000000e+04, 1.1000000e+07, 6.0000000e+01,\n",
       "       1.8000000e+02, 4.5000000e+03, 1.7500000e+05, 5.5806000e+05,\n",
       "       1.2600000e+03, 2.3000000e+05, 2.1600000e+02, 1.6000000e+04,\n",
       "       3.6241815e+07, 1.2500000e+05, 3.4920000e+04, 4.0627000e+04,\n",
       "       8.3020000e+04, 2.1528000e+04, 2.5000000e+04, 2.7500000e+05,\n",
       "       1.8500000e+05, 2.2500000e+05])"
      ]
     },
     "execution_count": 41,
     "metadata": {},
     "output_type": "execute_result"
    }
   ],
   "source": [
    "#Check the unique values again\n",
    "price_df['#Patients'].unique()"
   ]
  },
  {
   "cell_type": "code",
   "execution_count": 42,
   "metadata": {},
   "outputs": [
    {
     "data": {
      "text/html": [
       "<div>\n",
       "<style scoped>\n",
       "    .dataframe tbody tr th:only-of-type {\n",
       "        vertical-align: middle;\n",
       "    }\n",
       "\n",
       "    .dataframe tbody tr th {\n",
       "        vertical-align: top;\n",
       "    }\n",
       "\n",
       "    .dataframe thead th {\n",
       "        text-align: right;\n",
       "    }\n",
       "</style>\n",
       "<table border=\"1\" class=\"dataframe\">\n",
       "  <thead>\n",
       "    <tr style=\"text-align: right;\">\n",
       "      <th></th>\n",
       "      <th>Manufacturer</th>\n",
       "      <th>NDC</th>\n",
       "      <th>Drug</th>\n",
       "      <th>Market_Date</th>\n",
       "      <th>WAC</th>\n",
       "      <th>Market_Plan</th>\n",
       "      <th>Market_NP</th>\n",
       "      <th>#Patients</th>\n",
       "      <th>Breakthrough_Therapy</th>\n",
       "      <th>Priority_Review</th>\n",
       "      <th>Acq_Date</th>\n",
       "      <th>Acq_Price</th>\n",
       "      <th>Acq_Price NP</th>\n",
       "      <th>Acq_Price_Comment</th>\n",
       "      <th>Gen_com</th>\n",
       "      <th>Supp_Docs</th>\n",
       "    </tr>\n",
       "  </thead>\n",
       "  <tbody>\n",
       "    <tr>\n",
       "      <th>1</th>\n",
       "      <td>SUN PHARMACEUTICALS</td>\n",
       "      <td>47335023683</td>\n",
       "      <td>Ambrisentan 5 mg Tabs 30ct</td>\n",
       "      <td>2019-04-25</td>\n",
       "      <td>7500.00</td>\n",
       "      <td>This product is priced to reflect a discount o...</td>\n",
       "      <td>0</td>\n",
       "      <td>0.0</td>\n",
       "      <td>0</td>\n",
       "      <td>0</td>\n",
       "      <td>NaN</td>\n",
       "      <td>NaN</td>\n",
       "      <td>0</td>\n",
       "      <td>NaN</td>\n",
       "      <td>Estimated average of patients per month is unk...</td>\n",
       "      <td>NaN</td>\n",
       "    </tr>\n",
       "    <tr>\n",
       "      <th>2</th>\n",
       "      <td>SUN PHARMACEUTICALS</td>\n",
       "      <td>47335023783</td>\n",
       "      <td>Ambrisentan 10 mg Tabs 30ct</td>\n",
       "      <td>2019-04-25</td>\n",
       "      <td>7500.00</td>\n",
       "      <td>This product is priced to reflect a discount o...</td>\n",
       "      <td>0</td>\n",
       "      <td>0.0</td>\n",
       "      <td>0</td>\n",
       "      <td>0</td>\n",
       "      <td>NaN</td>\n",
       "      <td>NaN</td>\n",
       "      <td>0</td>\n",
       "      <td>NaN</td>\n",
       "      <td>Estimated average of patients per month is unk...</td>\n",
       "      <td>NaN</td>\n",
       "    </tr>\n",
       "    <tr>\n",
       "      <th>3</th>\n",
       "      <td>SUN PHARMACEUTICALS</td>\n",
       "      <td>47335003886</td>\n",
       "      <td>Bosentan Tablets 62.5mg 60ct</td>\n",
       "      <td>2019-06-14</td>\n",
       "      <td>6281.07</td>\n",
       "      <td>This product is priced to reflect a discount o...</td>\n",
       "      <td>0</td>\n",
       "      <td>0.0</td>\n",
       "      <td>0</td>\n",
       "      <td>0</td>\n",
       "      <td>NaN</td>\n",
       "      <td>NaN</td>\n",
       "      <td>0</td>\n",
       "      <td>NaN</td>\n",
       "      <td>Estimated average of patients per month is unk...</td>\n",
       "      <td>NaN</td>\n",
       "    </tr>\n",
       "    <tr>\n",
       "      <th>4</th>\n",
       "      <td>SUN PHARMACEUTICALS</td>\n",
       "      <td>47335003986</td>\n",
       "      <td>Bosentan Tablets 125mg 60ct</td>\n",
       "      <td>2019-06-14</td>\n",
       "      <td>6281.07</td>\n",
       "      <td>This product is priced to reflect a discount o...</td>\n",
       "      <td>0</td>\n",
       "      <td>0.0</td>\n",
       "      <td>0</td>\n",
       "      <td>0</td>\n",
       "      <td>NaN</td>\n",
       "      <td>NaN</td>\n",
       "      <td>0</td>\n",
       "      <td>NaN</td>\n",
       "      <td>Estimated average of patients per month is unk...</td>\n",
       "      <td>NaN</td>\n",
       "    </tr>\n",
       "    <tr>\n",
       "      <th>5</th>\n",
       "      <td>SUN PHARMACEUTICALS</td>\n",
       "      <td>63304073410</td>\n",
       "      <td>Esomeprazole 20mg DR Cap  1000ct</td>\n",
       "      <td>2019-05-15</td>\n",
       "      <td>826.71</td>\n",
       "      <td>This product is priced to reflect a discount o...</td>\n",
       "      <td>0</td>\n",
       "      <td>0.0</td>\n",
       "      <td>0</td>\n",
       "      <td>0</td>\n",
       "      <td>NaN</td>\n",
       "      <td>NaN</td>\n",
       "      <td>0</td>\n",
       "      <td>NaN</td>\n",
       "      <td>Estimated average of patients per month is unk...</td>\n",
       "      <td>NaN</td>\n",
       "    </tr>\n",
       "  </tbody>\n",
       "</table>\n",
       "</div>"
      ],
      "text/plain": [
       "          Manufacturer          NDC                              Drug  \\\n",
       "1  SUN PHARMACEUTICALS  47335023683        Ambrisentan 5 mg Tabs 30ct   \n",
       "2  SUN PHARMACEUTICALS  47335023783       Ambrisentan 10 mg Tabs 30ct   \n",
       "3  SUN PHARMACEUTICALS  47335003886      Bosentan Tablets 62.5mg 60ct   \n",
       "4  SUN PHARMACEUTICALS  47335003986       Bosentan Tablets 125mg 60ct   \n",
       "5  SUN PHARMACEUTICALS  63304073410  Esomeprazole 20mg DR Cap  1000ct   \n",
       "\n",
       "  Market_Date      WAC                                        Market_Plan  \\\n",
       "1  2019-04-25  7500.00  This product is priced to reflect a discount o...   \n",
       "2  2019-04-25  7500.00  This product is priced to reflect a discount o...   \n",
       "3  2019-06-14  6281.07  This product is priced to reflect a discount o...   \n",
       "4  2019-06-14  6281.07  This product is priced to reflect a discount o...   \n",
       "5  2019-05-15   826.71  This product is priced to reflect a discount o...   \n",
       "\n",
       "   Market_NP  #Patients  Breakthrough_Therapy  Priority_Review Acq_Date  \\\n",
       "1          0        0.0                     0                0      NaN   \n",
       "2          0        0.0                     0                0      NaN   \n",
       "3          0        0.0                     0                0      NaN   \n",
       "4          0        0.0                     0                0      NaN   \n",
       "5          0        0.0                     0                0      NaN   \n",
       "\n",
       "   Acq_Price  Acq_Price NP Acq_Price_Comment  \\\n",
       "1        NaN             0               NaN   \n",
       "2        NaN             0               NaN   \n",
       "3        NaN             0               NaN   \n",
       "4        NaN             0               NaN   \n",
       "5        NaN             0               NaN   \n",
       "\n",
       "                                             Gen_com Supp_Docs  \n",
       "1  Estimated average of patients per month is unk...       NaN  \n",
       "2  Estimated average of patients per month is unk...       NaN  \n",
       "3  Estimated average of patients per month is unk...       NaN  \n",
       "4  Estimated average of patients per month is unk...       NaN  \n",
       "5  Estimated average of patients per month is unk...       NaN  "
      ]
     },
     "execution_count": 42,
     "metadata": {},
     "output_type": "execute_result"
    }
   ],
   "source": [
    "price_df.head()"
   ]
  },
  {
   "cell_type": "code",
   "execution_count": 43,
   "metadata": {},
   "outputs": [
    {
     "data": {
      "text/plain": [
       "Manufacturer            60\n",
       "NDC                     60\n",
       "Drug                    60\n",
       "Market_Date             60\n",
       "WAC                     60\n",
       "Market_Plan             32\n",
       "Market_NP               60\n",
       "#Patients               60\n",
       "Breakthrough_Therapy    60\n",
       "Priority_Review         60\n",
       "Acq_Date                 0\n",
       "Acq_Price                7\n",
       "Acq_Price NP            60\n",
       "Acq_Price_Comment        0\n",
       "Gen_com                 52\n",
       "Supp_Docs                2\n",
       "dtype: int64"
      ]
     },
     "execution_count": 43,
     "metadata": {},
     "output_type": "execute_result"
    }
   ],
   "source": [
    "#There are some entries with number of patients reported as 0. Check number of rows with zero patients reported\n",
    "price_df[price_df['#Patients'] == 0].count()"
   ]
  },
  {
   "cell_type": "code",
   "execution_count": 44,
   "metadata": {},
   "outputs": [
    {
     "name": "stdout",
     "output_type": "stream",
     "text": [
      "<class 'pandas.core.frame.DataFrame'>\n",
      "Int64Index: 666 entries, 15 to 78\n",
      "Data columns (total 16 columns):\n",
      " #   Column                Non-Null Count  Dtype  \n",
      "---  ------                --------------  -----  \n",
      " 0   Manufacturer          666 non-null    object \n",
      " 1   NDC                   666 non-null    int64  \n",
      " 2   Drug                  665 non-null    object \n",
      " 3   Market_Date           666 non-null    object \n",
      " 4   WAC                   666 non-null    float64\n",
      " 5   Market_Plan           330 non-null    object \n",
      " 6   Market_NP             666 non-null    int64  \n",
      " 7   #Patients             666 non-null    float64\n",
      " 8   Breakthrough_Therapy  666 non-null    int64  \n",
      " 9   Priority_Review       666 non-null    int64  \n",
      " 10  Acq_Date              93 non-null     object \n",
      " 11  Acq_Price             57 non-null     float64\n",
      " 12  Acq_Price NP          666 non-null    int64  \n",
      " 13  Acq_Price_Comment     81 non-null     object \n",
      " 14  Gen_com               556 non-null    object \n",
      " 15  Supp_Docs             44 non-null     object \n",
      "dtypes: float64(3), int64(5), object(8)\n",
      "memory usage: 88.5+ KB\n"
     ]
    }
   ],
   "source": [
    "#There are 60 entries with number of patients reported as 0. These should also be removed\n",
    "price_df = price_df[price_df['#Patients'] != 0]\n",
    "\n",
    "price_df.info()"
   ]
  },
  {
   "cell_type": "markdown",
   "metadata": {},
   "source": []
  },
  {
   "cell_type": "code",
   "execution_count": 45,
   "metadata": {},
   "outputs": [],
   "source": [
    "price_df = price_df[['Manufacturer', 'NDC', 'Drug','Market_Date', 'WAC', '#Patients', 'Breakthrough_Therapy','Priority_Review']]"
   ]
  },
  {
   "cell_type": "code",
   "execution_count": 46,
   "metadata": {},
   "outputs": [
    {
     "name": "stdout",
     "output_type": "stream",
     "text": [
      "<class 'pandas.core.frame.DataFrame'>\n",
      "Int64Index: 666 entries, 15 to 78\n",
      "Data columns (total 8 columns):\n",
      " #   Column                Non-Null Count  Dtype  \n",
      "---  ------                --------------  -----  \n",
      " 0   Manufacturer          666 non-null    object \n",
      " 1   NDC                   666 non-null    int64  \n",
      " 2   Drug                  665 non-null    object \n",
      " 3   Market_Date           666 non-null    object \n",
      " 4   WAC                   666 non-null    float64\n",
      " 5   #Patients             666 non-null    float64\n",
      " 6   Breakthrough_Therapy  666 non-null    int64  \n",
      " 7   Priority_Review       666 non-null    int64  \n",
      "dtypes: float64(2), int64(3), object(3)\n",
      "memory usage: 46.8+ KB\n"
     ]
    }
   ],
   "source": [
    "price_df.info()"
   ]
  },
  {
   "cell_type": "code",
   "execution_count": null,
   "metadata": {},
   "outputs": [],
   "source": []
  },
  {
   "cell_type": "markdown",
   "metadata": {},
   "source": [
    "# Exploratory Data Analysis"
   ]
  },
  {
   "cell_type": "code",
   "execution_count": 47,
   "metadata": {},
   "outputs": [
    {
     "data": {
      "text/plain": [
       "Teva Pharmaceuticals USA          65\n",
       "Dr. Reddy's Laboratories, Inc.    26\n",
       "AveXis                            22\n",
       "PureTek Corporation               21\n",
       "Amneal Pharmaceuticals            21\n",
       "                                  ..\n",
       "Taiho Oncology, Inc.               1\n",
       "Sunrise Pharmaceutical Inc.        1\n",
       "SpecGx                             1\n",
       "QBioMed Inc.                       1\n",
       "Xeris Pharmaceuticals, INC.        1\n",
       "Name: Manufacturer, Length: 165, dtype: int64"
      ]
     },
     "execution_count": 47,
     "metadata": {},
     "output_type": "execute_result"
    }
   ],
   "source": [
    "price_df[\"Manufacturer\"].value_counts()"
   ]
  },
  {
   "cell_type": "markdown",
   "metadata": {},
   "source": [
    "We can visualize the distribution of manufacturers."
   ]
  },
  {
   "cell_type": "code",
   "execution_count": 48,
   "metadata": {},
   "outputs": [
    {
     "data": {
      "image/png": "[encoded data removed]",
      "text/plain": [
       "<Figure size 432x288 with 1 Axes>"
      ]
     },
     "metadata": {},
     "output_type": "display_data"
    }
   ],
   "source": [
    "sns.countplot(x=\"Manufacturer\", data= price_df);\n",
    "plt.rcParams[\"figure.figsize\"] = (12,8)\n",
    "plt.title('Manufacturer')\n",
    "plt.xlabel('Manufacturer')\n",
    "plt.ylabel('No. of drugs')\n",
    "plt.xticks(color='w')\n",
    "plt.show()"
   ]
  },
  {
   "cell_type": "markdown",
   "metadata": {},
   "source": [
    "### Distribution of price"
   ]
  },
  {
   "cell_type": "markdown",
   "metadata": {},
   "source": [
    "Wholesale Acquisition Cost(WAC) of the new presciption drug as of the introduction to market date.  It is the manufacturerís published list price for a prescription drug product with a unique NDC.  Reported in US currency, dollars."
   ]
  },
  {
   "cell_type": "code",
   "execution_count": 49,
   "metadata": {},
   "outputs": [
    {
     "data": {
      "image/png": "[encoded data removed]",
      "text/plain": [
       "<Figure size 864x576 with 1 Axes>"
      ]
     },
     "metadata": {
      "needs_background": "light"
     },
     "output_type": "display_data"
    }
   ],
   "source": [
    "plt.hist(price_df['WAC'])\n",
    "plt.title(\"Wholesale Acquisition Cost\")\n",
    "plt.xlabel(\"Wholesale Acquisition Cost $\")\n",
    "plt.ylabel(\"Frequencey\")\n",
    "plt.show()"
   ]
  },
  {
   "cell_type": "code",
   "execution_count": 50,
   "metadata": {},
   "outputs": [
    {
     "data": {
      "image/png": "[encoded data removed]",
      "text/plain": [
       "<Figure size 864x576 with 1 Axes>"
      ]
     },
     "metadata": {
      "needs_background": "light"
     },
     "output_type": "display_data"
    }
   ],
   "source": [
    "plt.hist(price_df['WAC'])\n",
    "plt.title(\"Log of Wholesale Acquisition Cost\")\n",
    "plt.xlabel(\"Log of Wholesale Acquisition Cost\")\n",
    "plt.ylabel(\"Frequencey\")\n",
    "plt.show()"
   ]
  },
  {
   "cell_type": "markdown",
   "metadata": {},
   "source": [
    "### Distribution of number of patients"
   ]
  },
  {
   "cell_type": "code",
   "execution_count": 51,
   "metadata": {},
   "outputs": [
    {
     "data": {
      "image/png": "[encoded data removed]",
      "text/plain": [
       "<Figure size 864x576 with 1 Axes>"
      ]
     },
     "metadata": {
      "needs_background": "light"
     },
     "output_type": "display_data"
    }
   ],
   "source": [
    "plt.hist(price_df['#Patients'])\n",
    "plt.title(\"Estimated number Patients\")\n",
    "plt.xlabel(\"Estimated number of Patients\")\n",
    "plt.ylabel(\"Frequencey\")\n",
    "plt.show()"
   ]
  },
  {
   "cell_type": "code",
   "execution_count": 52,
   "metadata": {},
   "outputs": [
    {
     "data": {
      "image/png": "[encoded data removed]",
      "text/plain": [
       "<Figure size 864x576 with 1 Axes>"
      ]
     },
     "metadata": {
      "needs_background": "light"
     },
     "output_type": "display_data"
    }
   ],
   "source": [
    "plt.hist(np.log(price_df['#Patients']))\n",
    "plt.title(\"Log of Estimated number of Patients\")\n",
    "plt.xlabel(\"Log of Estimated number of Patients\")\n",
    "plt.ylabel(\"Frequencey\")\n",
    "plt.show()"
   ]
  },
  {
   "cell_type": "code",
   "execution_count": 53,
   "metadata": {},
   "outputs": [
    {
     "data": {
      "image/png": "[encoded data removed]",
      "text/plain": [
       "<Figure size 864x576 with 1 Axes>"
      ]
     },
     "metadata": {
      "needs_background": "light"
     },
     "output_type": "display_data"
    }
   ],
   "source": [
    "#Relationship between WAC and estimated #Patients\n",
    "price_df.plot(y=\"WAC\", x=\"#Patients\", kind=\"scatter\");"
   ]
  },
  {
   "cell_type": "code",
   "execution_count": 54,
   "metadata": {},
   "outputs": [
    {
     "data": {
      "text/plain": [
       "2125000.0"
      ]
     },
     "execution_count": 54,
     "metadata": {},
     "output_type": "execute_result"
    }
   ],
   "source": [
    "price_df['WAC'].max()"
   ]
  },
  {
   "cell_type": "code",
   "execution_count": 55,
   "metadata": {},
   "outputs": [],
   "source": [
    "price_df = price_df[price_df['WAC'] < 40000.0]"
   ]
  },
  {
   "cell_type": "code",
   "execution_count": 56,
   "metadata": {},
   "outputs": [
    {
     "data": {
      "text/plain": [
       "39600.0"
      ]
     },
     "execution_count": 56,
     "metadata": {},
     "output_type": "execute_result"
    }
   ],
   "source": [
    "price_df['WAC'].max()"
   ]
  },
  {
   "cell_type": "code",
   "execution_count": 57,
   "metadata": {},
   "outputs": [
    {
     "data": {
      "image/png": "[encoded data removed]",
      "text/plain": [
       "<Figure size 864x576 with 1 Axes>"
      ]
     },
     "metadata": {
      "needs_background": "light"
     },
     "output_type": "display_data"
    }
   ],
   "source": [
    "#Relationship between WAC and estimated #Patients\n",
    "price_df.plot(y=\"WAC\", x=\"#Patients\", kind=\"scatter\");"
   ]
  },
  {
   "cell_type": "code",
   "execution_count": 58,
   "metadata": {},
   "outputs": [
    {
     "data": {
      "text/plain": [
       "<AxesSubplot:xlabel='#Patients', ylabel='WAC'>"
      ]
     },
     "execution_count": 58,
     "metadata": {},
     "output_type": "execute_result"
    },
    {
     "data": {
      "image/png": "[encoded data removed]",
      "text/plain": [
       "<Figure size 864x576 with 1 Axes>"
      ]
     },
     "metadata": {
      "needs_background": "light"
     },
     "output_type": "display_data"
    }
   ],
   "source": [
    "sns.regplot(y=\"WAC\", x=np.log(price_df['#Patients']), data=price_df, fit_reg = True)"
   ]
  },
  {
   "cell_type": "code",
   "execution_count": 59,
   "metadata": {},
   "outputs": [
    {
     "name": "stdout",
     "output_type": "stream",
     "text": [
      "<class 'pandas.core.frame.DataFrame'>\n",
      "Int64Index: 633 entries, 15 to 78\n",
      "Data columns (total 8 columns):\n",
      " #   Column                Non-Null Count  Dtype  \n",
      "---  ------                --------------  -----  \n",
      " 0   Manufacturer          633 non-null    object \n",
      " 1   NDC                   633 non-null    int64  \n",
      " 2   Drug                  632 non-null    object \n",
      " 3   Market_Date           633 non-null    object \n",
      " 4   WAC                   633 non-null    float64\n",
      " 5   #Patients             633 non-null    float64\n",
      " 6   Breakthrough_Therapy  633 non-null    int64  \n",
      " 7   Priority_Review       633 non-null    int64  \n",
      "dtypes: float64(2), int64(3), object(3)\n",
      "memory usage: 44.5+ KB\n"
     ]
    }
   ],
   "source": [
    "price_df.info()"
   ]
  },
  {
   "cell_type": "code",
   "execution_count": 60,
   "metadata": {},
   "outputs": [],
   "source": [
    "df = price_df[['WAC', '#Patients', 'Breakthrough_Therapy','Priority_Review']]"
   ]
  },
  {
   "cell_type": "code",
   "execution_count": 61,
   "metadata": {},
   "outputs": [],
   "source": [
    "df['Inverse_Patients'] = df['#Patients'].apply(lambda x: 1/x)"
   ]
  },
  {
   "cell_type": "code",
   "execution_count": 62,
   "metadata": {},
   "outputs": [
    {
     "data": {
      "text/html": [
       "<div>\n",
       "<style scoped>\n",
       "    .dataframe tbody tr th:only-of-type {\n",
       "        vertical-align: middle;\n",
       "    }\n",
       "\n",
       "    .dataframe tbody tr th {\n",
       "        vertical-align: top;\n",
       "    }\n",
       "\n",
       "    .dataframe thead th {\n",
       "        text-align: right;\n",
       "    }\n",
       "</style>\n",
       "<table border=\"1\" class=\"dataframe\">\n",
       "  <thead>\n",
       "    <tr style=\"text-align: right;\">\n",
       "      <th></th>\n",
       "      <th>WAC</th>\n",
       "      <th>#Patients</th>\n",
       "      <th>Breakthrough_Therapy</th>\n",
       "      <th>Priority_Review</th>\n",
       "      <th>Inverse_Patients</th>\n",
       "    </tr>\n",
       "  </thead>\n",
       "  <tbody>\n",
       "    <tr>\n",
       "      <th>15</th>\n",
       "      <td>7786.0</td>\n",
       "      <td>70000.0</td>\n",
       "      <td>0</td>\n",
       "      <td>0</td>\n",
       "      <td>0.000014</td>\n",
       "    </tr>\n",
       "    <tr>\n",
       "      <th>17</th>\n",
       "      <td>18750.0</td>\n",
       "      <td>3000.0</td>\n",
       "      <td>0</td>\n",
       "      <td>0</td>\n",
       "      <td>0.000333</td>\n",
       "    </tr>\n",
       "    <tr>\n",
       "      <th>21</th>\n",
       "      <td>2453.6</td>\n",
       "      <td>75000.0</td>\n",
       "      <td>0</td>\n",
       "      <td>0</td>\n",
       "      <td>0.000013</td>\n",
       "    </tr>\n",
       "    <tr>\n",
       "      <th>22</th>\n",
       "      <td>613.4</td>\n",
       "      <td>75000.0</td>\n",
       "      <td>0</td>\n",
       "      <td>0</td>\n",
       "      <td>0.000013</td>\n",
       "    </tr>\n",
       "    <tr>\n",
       "      <th>23</th>\n",
       "      <td>7300.0</td>\n",
       "      <td>1800.0</td>\n",
       "      <td>0</td>\n",
       "      <td>1</td>\n",
       "      <td>0.000556</td>\n",
       "    </tr>\n",
       "  </tbody>\n",
       "</table>\n",
       "</div>"
      ],
      "text/plain": [
       "        WAC  #Patients  Breakthrough_Therapy  Priority_Review  \\\n",
       "15   7786.0    70000.0                     0                0   \n",
       "17  18750.0     3000.0                     0                0   \n",
       "21   2453.6    75000.0                     0                0   \n",
       "22    613.4    75000.0                     0                0   \n",
       "23   7300.0     1800.0                     0                1   \n",
       "\n",
       "    Inverse_Patients  \n",
       "15          0.000014  \n",
       "17          0.000333  \n",
       "21          0.000013  \n",
       "22          0.000013  \n",
       "23          0.000556  "
      ]
     },
     "execution_count": 62,
     "metadata": {},
     "output_type": "execute_result"
    }
   ],
   "source": [
    "df.head()"
   ]
  },
  {
   "cell_type": "code",
   "execution_count": 63,
   "metadata": {},
   "outputs": [
    {
     "data": {
      "text/plain": [
       "<AxesSubplot:xlabel='Inverse_Patients', ylabel='WAC'>"
      ]
     },
     "execution_count": 63,
     "metadata": {},
     "output_type": "execute_result"
    },
    {
     "data": {
      "image/png": "[encoded data removed]",
      "text/plain": [
       "<Figure size 864x576 with 1 Axes>"
      ]
     },
     "metadata": {
      "needs_background": "light"
     },
     "output_type": "display_data"
    }
   ],
   "source": [
    "sns.regplot(y=\"WAC\", x=df[\"Inverse_Patients\"], data=df, fit_reg = True)"
   ]
  },
  {
   "cell_type": "code",
   "execution_count": 64,
   "metadata": {},
   "outputs": [
    {
     "data": {
      "text/plain": [
       "<AxesSubplot:xlabel='Inverse_Patients', ylabel='WAC'>"
      ]
     },
     "execution_count": 64,
     "metadata": {},
     "output_type": "execute_result"
    },
    {
     "data": {
      "image/png": "[encoded data removed]",
      "text/plain": [
       "<Figure size 864x576 with 1 Axes>"
      ]
     },
     "metadata": {
      "needs_background": "light"
     },
     "output_type": "display_data"
    }
   ],
   "source": [
    "sns.regplot(y=\"WAC\", x=np.log(df[\"Inverse_Patients\"]), data=df, fit_reg = True)"
   ]
  },
  {
   "cell_type": "code",
   "execution_count": 65,
   "metadata": {},
   "outputs": [],
   "source": [
    "df['Inverse_PatientsSq'] = df['#Patients'].apply(lambda x: 1/(np.square(x)))"
   ]
  },
  {
   "cell_type": "code",
   "execution_count": 66,
   "metadata": {},
   "outputs": [
    {
     "data": {
      "text/plain": [
       "<AxesSubplot:xlabel='Inverse_PatientsSq', ylabel='WAC'>"
      ]
     },
     "execution_count": 66,
     "metadata": {},
     "output_type": "execute_result"
    },
    {
     "data": {
      "image/png": "[encoded data removed]",
      "text/plain": [
       "<Figure size 864x576 with 1 Axes>"
      ]
     },
     "metadata": {
      "needs_background": "light"
     },
     "output_type": "display_data"
    }
   ],
   "source": [
    "sns.regplot(y=\"WAC\", x=df[\"Inverse_PatientsSq\"], data=df, fit_reg = True)"
   ]
  },
  {
   "cell_type": "code",
   "execution_count": 67,
   "metadata": {},
   "outputs": [
    {
     "data": {
      "text/plain": [
       "<AxesSubplot:xlabel='Inverse_PatientsSq', ylabel='WAC'>"
      ]
     },
     "execution_count": 67,
     "metadata": {},
     "output_type": "execute_result"
    },
    {
     "data": {
      "image/png": "[encoded data removed]",
      "text/plain": [
       "<Figure size 864x576 with 1 Axes>"
      ]
     },
     "metadata": {
      "needs_background": "light"
     },
     "output_type": "display_data"
    }
   ],
   "source": [
    "sns.regplot(y=\"WAC\", x=np.log(df[\"Inverse_PatientsSq\"]), data=df, fit_reg = True)"
   ]
  },
  {
   "cell_type": "markdown",
   "metadata": {},
   "source": [
    "# Models"
   ]
  },
  {
   "cell_type": "code",
   "execution_count": 68,
   "metadata": {},
   "outputs": [
    {
     "data": {
      "text/html": [
       "<div>\n",
       "<style scoped>\n",
       "    .dataframe tbody tr th:only-of-type {\n",
       "        vertical-align: middle;\n",
       "    }\n",
       "\n",
       "    .dataframe tbody tr th {\n",
       "        vertical-align: top;\n",
       "    }\n",
       "\n",
       "    .dataframe thead th {\n",
       "        text-align: right;\n",
       "    }\n",
       "</style>\n",
       "<table border=\"1\" class=\"dataframe\">\n",
       "  <thead>\n",
       "    <tr style=\"text-align: right;\">\n",
       "      <th></th>\n",
       "      <th>Manufacturer</th>\n",
       "      <th>NDC</th>\n",
       "      <th>Drug</th>\n",
       "      <th>Market_Date</th>\n",
       "      <th>WAC</th>\n",
       "      <th>#Patients</th>\n",
       "      <th>Breakthrough_Therapy</th>\n",
       "      <th>Priority_Review</th>\n",
       "    </tr>\n",
       "  </thead>\n",
       "  <tbody>\n",
       "    <tr>\n",
       "      <th>15</th>\n",
       "      <td>Pfizer</td>\n",
       "      <td>409111201</td>\n",
       "      <td>Busulfan Injection 60 mg/10mL (6mg/mL)</td>\n",
       "      <td>2019-02-28</td>\n",
       "      <td>7786.0</td>\n",
       "      <td>70000.0</td>\n",
       "      <td>0</td>\n",
       "      <td>0</td>\n",
       "    </tr>\n",
       "    <tr>\n",
       "      <th>17</th>\n",
       "      <td>Pfizer</td>\n",
       "      <td>69873030</td>\n",
       "      <td>VYNDAMAX™ 61MG CAP 3X10 BLST US</td>\n",
       "      <td>2019-08-27</td>\n",
       "      <td>18750.0</td>\n",
       "      <td>3000.0</td>\n",
       "      <td>0</td>\n",
       "      <td>0</td>\n",
       "    </tr>\n",
       "    <tr>\n",
       "      <th>21</th>\n",
       "      <td>Pfizer</td>\n",
       "      <td>69034201</td>\n",
       "      <td>ZIRABEV™ 400MG/16ML SSOL 1x1 GVL US</td>\n",
       "      <td>2019-12-31</td>\n",
       "      <td>2453.6</td>\n",
       "      <td>75000.0</td>\n",
       "      <td>0</td>\n",
       "      <td>0</td>\n",
       "    </tr>\n",
       "    <tr>\n",
       "      <th>22</th>\n",
       "      <td>Pfizer</td>\n",
       "      <td>69031501</td>\n",
       "      <td>ZIRABEV™ 100MG/4ML SSOL 1X1 GVL US</td>\n",
       "      <td>2019-12-31</td>\n",
       "      <td>613.4</td>\n",
       "      <td>75000.0</td>\n",
       "      <td>0</td>\n",
       "      <td>0</td>\n",
       "    </tr>\n",
       "    <tr>\n",
       "      <th>23</th>\n",
       "      <td>Sanofi</td>\n",
       "      <td>5846802271</td>\n",
       "      <td>Cablivi (caplacizumab-yhdp)</td>\n",
       "      <td>2019-04-02</td>\n",
       "      <td>7300.0</td>\n",
       "      <td>1800.0</td>\n",
       "      <td>0</td>\n",
       "      <td>1</td>\n",
       "    </tr>\n",
       "  </tbody>\n",
       "</table>\n",
       "</div>"
      ],
      "text/plain": [
       "   Manufacturer         NDC                                    Drug  \\\n",
       "15       Pfizer   409111201  Busulfan Injection 60 mg/10mL (6mg/mL)   \n",
       "17       Pfizer    69873030         VYNDAMAX™ 61MG CAP 3X10 BLST US   \n",
       "21       Pfizer    69034201     ZIRABEV™ 400MG/16ML SSOL 1x1 GVL US   \n",
       "22       Pfizer    69031501      ZIRABEV™ 100MG/4ML SSOL 1X1 GVL US   \n",
       "23       Sanofi  5846802271             Cablivi (caplacizumab-yhdp)   \n",
       "\n",
       "   Market_Date      WAC  #Patients  Breakthrough_Therapy  Priority_Review  \n",
       "15  2019-02-28   7786.0    70000.0                     0                0  \n",
       "17  2019-08-27  18750.0     3000.0                     0                0  \n",
       "21  2019-12-31   2453.6    75000.0                     0                0  \n",
       "22  2019-12-31    613.4    75000.0                     0                0  \n",
       "23  2019-04-02   7300.0     1800.0                     0                1  "
      ]
     },
     "execution_count": 68,
     "metadata": {},
     "output_type": "execute_result"
    }
   ],
   "source": [
    "price_df.head()"
   ]
  },
  {
   "cell_type": "code",
   "execution_count": 72,
   "metadata": {},
   "outputs": [],
   "source": [
    "fdf = price_df[['WAC', '#Patients', 'Breakthrough_Therapy','Priority_Review']]"
   ]
  },
  {
   "cell_type": "code",
   "execution_count": 69,
   "metadata": {},
   "outputs": [],
   "source": [
    "# Import regression modules\n",
    "import statsmodels.api as sm\n",
    "from statsmodels.formula.api import ols"
   ]
  },
  {
   "cell_type": "code",
   "execution_count": 73,
   "metadata": {},
   "outputs": [
    {
     "data": {
      "text/plain": [
       "LinearRegression()"
      ]
     },
     "execution_count": 73,
     "metadata": {},
     "output_type": "execute_result"
    }
   ],
   "source": [
    "from sklearn.linear_model import LinearRegression\n",
    "X = fdf.drop('WAC', axis = 1)\n",
    "\n",
    "# This creates a LinearRegression object\n",
    "lm = LinearRegression()\n",
    "lm"
   ]
  },
  {
   "cell_type": "code",
   "execution_count": 74,
   "metadata": {},
   "outputs": [
    {
     "data": {
      "text/plain": [
       "LinearRegression()"
      ]
     },
     "execution_count": 74,
     "metadata": {},
     "output_type": "execute_result"
    }
   ],
   "source": [
    "lm.fit(X, fdf.WAC)"
   ]
  },
  {
   "cell_type": "code",
   "execution_count": 75,
   "metadata": {},
   "outputs": [
    {
     "data": {
      "text/plain": [
       "array([-1.50763734e-04,  2.20291187e+03,  5.44227975e+03])"
      ]
     },
     "execution_count": 75,
     "metadata": {},
     "output_type": "execute_result"
    }
   ],
   "source": [
    "lm.coef_"
   ]
  },
  {
   "cell_type": "code",
   "execution_count": 76,
   "metadata": {},
   "outputs": [
    {
     "data": {
      "text/plain": [
       "3856.649812637868"
      ]
     },
     "execution_count": 76,
     "metadata": {},
     "output_type": "execute_result"
    }
   ],
   "source": [
    "lm.intercept_"
   ]
  },
  {
   "cell_type": "code",
   "execution_count": 78,
   "metadata": {},
   "outputs": [
    {
     "data": {
      "text/plain": [
       "array([ 3846.09635126,  3856.19752144,  3845.34253259,  3845.34253259,\n",
       "        9298.65818782,  3705.88607873,  3844.58871392,  3843.68413152,\n",
       "        3856.55030857,  3841.3682498 ,  3841.3682498 ,  3841.3682498 ,\n",
       "        3841.3682498 ,  9298.17574387,  3856.51412528,  3856.51412528,\n",
       "        3856.51412528,  9298.83156611,  9298.68834056,  3856.48095726,\n",
       "        3834.78907122,  3834.78907122,  9298.87302614,  9298.87302614,\n",
       "        9298.88282578,  3856.54126275,  3856.54126275,  3856.60910643,\n",
       "        3856.60910643,  3856.59779915,  3855.38339727,  3856.56689258,\n",
       "        3856.56689258,  3856.56689258,  3856.56689258,  3764.14812064,\n",
       "        3764.14812064,  3856.28571822,  3856.42834071,  3856.35582336,\n",
       "        3856.56086203,  9298.89940979,  9298.13503766,  3848.81009847,\n",
       "        3848.81009847,  3848.81009847,  3848.81009847,  3828.36231477,\n",
       "        3840.30415937,  9087.86033506,  9087.86033506,  9087.86033506,\n",
       "        3775.23739633,  3775.23739633,  3775.23739633,  9298.13503766,\n",
       "        4924.97739102,  9271.79781945,  3850.59649796,  3850.59649796,\n",
       "        3764.14812064,  9297.12039773,  9297.12039773,  9297.12039773,\n",
       "        9297.12039773,  3856.52920165,  3856.63353015,  3856.1170136 ,\n",
       "        3856.42592849,  9250.68516769,  9250.68516769,  3850.16697208,\n",
       "        3850.16697208,  3850.16697208,  9193.3949488 , 11501.53266906,\n",
       "        3555.12234481,  3856.37843792,  9298.02498013,  3066.64784694,\n",
       "        3804.78708817,  3804.78708817,  3555.12234481,  3856.62719808,\n",
       "        3856.62719808,  3856.62719808,  3856.53673984,  3856.53673984,\n",
       "        3856.53673984,  3856.53673984,  3856.2729033 ,  3856.62011218,\n",
       "        3856.62026295,  3856.62026295,  3856.62026295,  3856.62026295,\n",
       "       11501.78414297,   334.80898846,  3856.64966187,  3856.64966187,\n",
       "        3856.64966187,  3856.64966187,  3856.64966187,  9298.02498013,\n",
       "        9298.02498013,  9298.02498013, 11501.81881863,  3786.09238517,\n",
       "        3786.09238517,  3786.09238517, 11499.23322059,  1595.19380396,\n",
       "        3781.26794568,  3781.26794568,  3781.26794568,  3781.26794568,\n",
       "        3855.5944665 ,  3855.5944665 ,  3856.19752144, 11501.38914198,\n",
       "        3854.99141156,  3855.55677557,  3761.03379419,  5818.33970903,\n",
       "        5818.33970903,  5818.33970903,  5818.33970903,  5818.33970903,\n",
       "        5818.33970903,  5818.33970903,  5818.33970903,  5818.33970903,\n",
       "        5818.33970903,  5818.33970903,  5818.33970903,  5818.33970903,\n",
       "        3856.60141748,  3856.05640658,  3856.05640658,  -817.02593862,\n",
       "        -817.02593862,  2318.85972674,  3328.97674395,  3328.97674395,\n",
       "        2952.06740917,  3807.65159912,  3178.21301004,  3758.6533856 ,\n",
       "        3852.69226462,  3852.69226462,  3809.15923646,  1926.87401857,\n",
       "        3630.50421177,  3630.50421177,  3856.64363132,  3705.88607873,\n",
       "        3853.1217905 , 11501.60684482, 11501.60684482,  3781.26794568,\n",
       "        3781.26794568,  3856.60850337,  3705.88607873,  6059.11753333,\n",
       "        6059.11753333,  3814.43596714,  3814.43596714,  3814.43596714,\n",
       "        9298.52250046,  9298.52250046,  3847.75475234,  6054.58648007,\n",
       "        3856.55181621,  8168.2015582 ,  3856.64679736,  3856.64679736,\n",
       "        3856.39351429,  3855.1421753 ,  3705.88607873,  3705.88607873,\n",
       "        3855.1421753 , 11501.67559308,  3660.65695855,  3660.65695855,\n",
       "        3856.0467577 ,  2906.83828899,  2906.83828899,  3851.67460942,\n",
       "        3855.63969562,  3654.02335426,  3814.96665549,  3705.88607873,\n",
       "        3856.0467577 ,  3705.88607873,  9296.06505159,  3775.61897934,\n",
       "        3851.2419175 ,  3851.2419175 ,  3856.63473626, 11501.27606918,\n",
       "       11501.27606918, 11501.27606918,  9298.90875714,  3855.44370277,\n",
       "        3855.44370277,  3855.44370277,  3788.0752298 ,  3736.03882551,\n",
       "        3736.03882551,  3856.64966187,  3856.64966187,  3850.83033251,\n",
       "        3850.83033251, 11500.7559343 , 11498.01203434, 11501.31376012,\n",
       "        3855.65929491,  3852.48345685,  3838.43061845,  3824.44833748,\n",
       "        3824.44833748,  3856.63473626,  3856.63473626,  3856.63473626,\n",
       "        3786.39391264,  3845.53098726,  3845.53098726,  3845.53098726,\n",
       "        3344.05311734,  3843.6750857 ,  3845.00482183, 11499.57997718,\n",
       "        3856.64755118,  3856.64755118,  3856.64755118, 11500.48455958,\n",
       "        3823.68939284,  3851.19608533,  3494.81685125,  9297.6480708 ,\n",
       "        9297.57268893,  9297.57268893,  9297.57268893,  3854.62430187,\n",
       "        3855.33907274,  3853.06630945,  3555.12234481,  3820.55230106,\n",
       "        3843.25701786,  3843.25701786, 11500.33379585,  3223.44213021,\n",
       "        3843.1591722 ,  3404.89653591,  9181.81086654,  9181.81086654,\n",
       "        3815.62323155,  3815.62323155,  3815.62323155,  9162.18685588,\n",
       "        3856.58181819,  3856.18244506,  3855.73181226, 11472.86464353,\n",
       "       11472.86464353,  9223.54769558,  3856.34828517,  3856.34828517,\n",
       "        3856.34828517,  3855.44370277,  3855.44370277,  3855.44370277,\n",
       "        3855.44370277,  3855.44370277,  3856.60036213,  2650.53994134,\n",
       "        3825.89401092,  3825.89401092,  3847.00093367,  3856.34828517,\n",
       "        3852.12690062,  9277.52111232,  3585.2750916 ,  3585.2750916 ,\n",
       "        3585.2750916 ,  3585.2750916 ,  3585.2750916 ,  3585.2750916 ,\n",
       "        3585.2750916 ,  3585.2750916 ,  3585.2750916 ,   901.68062797,\n",
       "        3841.57343925,  3841.57343925,  3841.57343925, -2113.59405026,\n",
       "        2349.01247352,  2349.01247352,  2349.01247352,  2349.01247352,\n",
       "        2349.01247352,  3855.74523023,  3675.73333194,  1142.90260223,\n",
       "        3772.52364912,  3772.52364912,  3772.52364912,  3772.52364912,\n",
       "        3772.52364912,  3102.83114308,  9297.4219252 ,  3853.63453796,\n",
       "        3856.62945953,  3856.6329271 ,  3855.62914216,  3853.11440308,\n",
       "        3856.20505962,  3854.75772778,  3855.91860853,  3856.40105248,\n",
       "        3585.2750916 ,  3585.2750916 ,  3585.2750916 ,  3854.08682916,\n",
       "        3853.03148302,  3853.03148302,  3746.89381435,  3690.80970534,\n",
       "        3690.80970534,  5938.27225935,  2650.53994134,  2650.53994134,\n",
       "        3854.58434948,  3856.42366704, 11500.86146891, 11500.43933046,\n",
       "        3856.45381978,  9298.90694798,  9298.90694798,  9298.90694798,\n",
       "        9298.90694798, -2173.89954383,  3464.66410447,  3464.66410447,\n",
       "        3843.08107659,  2228.40148639, -3681.53688295,  2499.77620743,\n",
       "        2499.77620743,  3834.48754375,  3834.48754375, 11501.79620407,\n",
       "       11501.79620407,  3827.71372919,  3851.16201272,  3851.16201272,\n",
       "        3851.16201272,  3856.64363132,  3856.64363132,  3856.64363132,\n",
       "        3856.63473626,  3856.63473626,  3856.64363132,  3856.64363132,\n",
       "        3856.64363132,  9298.02498013,  3856.33577178,  3856.33577178,\n",
       "        3855.65055061,  3853.50895177,  3524.96959803,  3856.64966187,\n",
       "        3856.64966187, -2173.89954383,  2047.4850057 , 11501.60684482,\n",
       "       11501.60684482,  3811.42069246,  9283.85318915,  3855.89599397,\n",
       "        3841.57343925,  3849.41315341,  3849.41315341,  3344.05311734,\n",
       "        3675.73333194,  3823.48179118,  3823.48179118,  3819.18050185,\n",
       "        3796.34431907,  3855.83418084,  3851.05059832,  3780.66489075,\n",
       "        8997.40209471,  8997.40209471,  3856.5560376 ,  3856.5560376 ,\n",
       "        3856.55181621,  3854.84064783,  3792.2614864 ,  3855.6202471 ,\n",
       "        3856.6296103 ,  9238.62406897,  3853.78530169,  3856.45381978,\n",
       "        3818.95887916, 11501.83917173, 11501.83917173,  9161.73456468,\n",
       "        3856.35733099,  3856.22390509, -2927.71821339,  3675.73333194,\n",
       "        3675.73333194,  3856.34828517,  3856.4990489 ,  3856.32024312,\n",
       "       11498.67539477, 11501.43994936,  3833.59592703,  3844.26834099,\n",
       "        3844.26834099,  3825.01551064,  3814.58477095,  3856.4990489 ,\n",
       "        3856.4990489 ,  3856.6121217 ,  3856.12213957,  3856.54427802,\n",
       "        3845.17970776,  -515.4984708 ,  3856.4990489 ,  3843.6750857 ,\n",
       "        3845.17970776,  2349.01247352,  3854.67480772,  3845.17970776,\n",
       "        3846.54864247,  3855.74523023, 11501.08761452,  3856.57744605,\n",
       "        3842.12719444,  3847.68148116,  3847.68148116,  3847.68148116,\n",
       "        3847.68148116,  3851.67460942,  3855.1421753 ,  3856.57443077,\n",
       "        3856.19752144,  3856.19752144,  3855.5944665 ,  3855.5944665 ,\n",
       "        3848.60566285,  3856.09304217,  3830.54069996,  3855.44747186,\n",
       "        3850.04681338,  3823.37520122,  3856.19752144,  3826.49706586,\n",
       "        3750.27092199, 11500.93685078,  3855.32158414,  3856.58950714,\n",
       "        3851.31564097,  3849.41315341,  3849.41315341,  1384.12457649,\n",
       "        1384.12457649,  3102.83114308,  5984.17981633,  3855.89599397,\n",
       "        8906.94385437,  8906.94385437,  8906.94385437,  8906.94385437,\n",
       "        8906.94385437,  9298.85418067,  3854.49570041,  3847.46272298,\n",
       "        3847.46272298,  3847.46272298,  3847.46272298,  3853.9873251 ,\n",
       "        3853.9873251 ,  3853.9873251 ,  3832.15070588,  3720.35939718,\n",
       "       11501.83841791,  3856.19752144,  3743.52952163,  3368.60468988,\n",
       "        3849.86544461,  9261.23862906,  3856.14475413,  3834.03525255,\n",
       "        3555.12234481,  3841.57343925,  3834.03525255,  3834.03525255,\n",
       "        3834.03525255,  3841.57343925,  3811.42069246,  3834.03525255,\n",
       "        3818.95887916,  3834.03525255,  3841.57343925,  3834.03525255,\n",
       "        3555.12234481,  3781.26794568,  3856.6121217 ,  3856.6121217 ,\n",
       "        3856.6121217 ,  3856.6121217 , 11501.64544033, 11501.64544033,\n",
       "       11501.81128044,  3856.4990489 ,  3831.07636351,  3404.3586109 ,\n",
       "       11501.31376012,  3585.2750916 , 11501.83962402, 11501.83992555,\n",
       "       11501.8405286 , -2927.71821339,  3675.73333194,  3675.73333194,\n",
       "        2349.01247352,  2349.01247352,  2349.01247352,  2349.01247352,\n",
       "        2349.01247352,  2349.01247352,  3855.89614473,  3855.89614473,\n",
       "        3855.89614473,  3855.89614473, 11501.23837825,  3856.28677357,\n",
       "         992.13886832,  8243.58342516,  8243.58342516,  8243.58342516,\n",
       "        8243.58342516,  8243.58342516,  8243.58342516,  -651.47687563,\n",
       "        9296.93948125,  -138.58913602, 11500.33379585,  3585.2750916 ,\n",
       "        3585.2750916 ,  3585.2750916 ,  9296.66810653,  9296.66810653,\n",
       "        9207.11444858,  9207.11444858,  3855.89599397,  3856.19752144,\n",
       "       11501.73589857,  3856.64966187,  3856.64966187,  3856.64966187,\n",
       "       11501.79620407, 11500.03226838,  9297.84406365,  9298.92760261,\n",
       "        9298.92760261,  9298.92760261,  9298.92760261,  9298.92760261,\n",
       "        9298.92760261,  3856.4990489 ,  3852.52144931,  3856.21757301,\n",
       "        3855.34314336,  3856.10088188,  3852.19323666,  3847.30246114,\n",
       "        2198.24873961,  3856.64076681,  9298.90242506,  9298.3265076 ,\n",
       "        3855.97137584,  3830.2661592 ,  9214.79435319,  9214.79435319,\n",
       "        9214.79435319,  9297.8742164 ,  3856.45985033,  3821.97415384,\n",
       "        3854.84064783,  3856.61724767,  3844.58871392,  3854.2375929 ,\n",
       "        3854.2375929 , -1607.3015405 ,  3837.8043459 , 11501.78112769,\n",
       "        3855.74523023,  3856.64966187,  3856.64966187,  3850.52473442,\n",
       "        3844.13340745,  3844.13340745,  3844.13340745,  3844.13340745,\n",
       "        3853.40417097,  3853.40417097,  9298.40188947,  9298.40188947,\n",
       "       11320.92495249, 11320.92495249, 11320.92495249,  3852.88071929,\n",
       "        3818.95887916,  3815.18978581,  3811.42069246,  3828.75852186,\n",
       "        3815.18978581,  3822.72797251, 11501.23837825,  3846.09635126,\n",
       "        3846.09635126,  3846.09635126,  3846.09635126,  2047.4850057 ,\n",
       "        3856.42366704,  3705.88607873, 11320.92495249,  3852.88071929,\n",
       "        3796.34431907])"
      ]
     },
     "execution_count": 78,
     "metadata": {},
     "output_type": "execute_result"
    }
   ],
   "source": [
    "lm.predict(X)"
   ]
  },
  {
   "cell_type": "code",
   "execution_count": 77,
   "metadata": {},
   "outputs": [
    {
     "data": {
      "text/plain": [
       "array([3846.09635126, 3856.19752144, 3845.34253259, 3845.34253259,\n",
       "       9298.65818782])"
      ]
     },
     "execution_count": 77,
     "metadata": {},
     "output_type": "execute_result"
    }
   ],
   "source": [
    "# first five predicted prices\n",
    "lm.predict(X)[0:5]"
   ]
  },
  {
   "cell_type": "code",
   "execution_count": 79,
   "metadata": {},
   "outputs": [
    {
     "data": {
      "image/png": "[encoded data removed]",
      "text/plain": [
       "<Figure size 864x576 with 1 Axes>"
      ]
     },
     "metadata": {
      "needs_background": "light"
     },
     "output_type": "display_data"
    }
   ],
   "source": [
    "plt.hist(lm.predict(X))\n",
    "plt.title(\"Linear Regression\")\n",
    "plt.xlabel(\"Predicted Prices\")\n",
    "plt.ylabel(\"Frequency\")\n",
    "plt.show()"
   ]
  },
  {
   "cell_type": "code",
   "execution_count": 80,
   "metadata": {},
   "outputs": [
    {
     "data": {
      "text/plain": [
       "Text(0.5, 1.0, 'Relationship between Predicted Price and Original Price')"
      ]
     },
     "execution_count": 80,
     "metadata": {},
     "output_type": "execute_result"
    },
    {
     "data": {
      "image/png": "[encoded data removed]",
      "text/plain": [
       "<Figure size 864x576 with 1 Axes>"
      ]
     },
     "metadata": {
      "needs_background": "light"
     },
     "output_type": "display_data"
    }
   ],
   "source": [
    "plt.scatter(lm.predict(X), fdf.WAC)\n",
    "plt.xlabel(\"Predicted Housing Price Based on Linear Regression\")\n",
    "plt.ylabel(\"Housing Price\")\n",
    "plt.title(\"Relationship between Predicted Price and Original Price\")"
   ]
  },
  {
   "cell_type": "code",
   "execution_count": 81,
   "metadata": {},
   "outputs": [
    {
     "name": "stdout",
     "output_type": "stream",
     "text": [
      "24401962538.78852\n"
     ]
    }
   ],
   "source": [
    "#RSS\n",
    "print(np.sum((fdf.WAC - lm.predict(X)) ** 2))"
   ]
  },
  {
   "cell_type": "code",
   "execution_count": 83,
   "metadata": {},
   "outputs": [
    {
     "name": "stdout",
     "output_type": "stream",
     "text": [
      "4.628108614458692e-19\n"
     ]
    }
   ],
   "source": [
    "#ESS\n",
    "print(np.sum(lm.predict(X) - np.mean(fdf.WAC)) ** 2)"
   ]
  },
  {
   "cell_type": "code",
   "execution_count": 85,
   "metadata": {},
   "outputs": [
    {
     "name": "stdout",
     "output_type": "stream",
     "text": [
      "Estimated intercept coefficient:  3856.65\n",
      "Number of coefficients:  3\n"
     ]
    }
   ],
   "source": [
    "print('Estimated intercept coefficient: ', round(lm.intercept_, 3))\n",
    "print('Number of coefficients: ', len(lm.coef_))"
   ]
  },
  {
   "cell_type": "code",
   "execution_count": 86,
   "metadata": {},
   "outputs": [
    {
     "name": "stdout",
     "output_type": "stream",
     "text": [
      "R-squared:  0.1707994891771758\n"
     ]
    }
   ],
   "source": [
    "r2 = lm.score(X, fdf.WAC)\n",
    "print(\"R-squared: \",r2)"
   ]
  },
  {
   "cell_type": "markdown",
   "metadata": {},
   "source": [
    "# MODEL 2"
   ]
  },
  {
   "cell_type": "code",
   "execution_count": null,
   "metadata": {},
   "outputs": [],
   "source": []
  }
 ],
 "metadata": {
  "kernelspec": {
   "display_name": "Python [conda env:root] *",
   "language": "python",
   "name": "conda-root-py"
  },
  "language_info": {
   "codemirror_mode": {
    "name": "ipython",
    "version": 3
   },
   "file_extension": ".py",
   "mimetype": "text/x-python",
   "name": "python",
   "nbconvert_exporter": "python",
   "pygments_lexer": "ipython3",
   "version": "3.8.5"
  }
 },
 "nbformat": 4,
 "nbformat_minor": 4
}
